{
 "cells": [
  {
   "cell_type": "markdown",
   "metadata": {},
   "source": [
    "# Teste Prático\n",
    "\n",
    "Com base no módulo que acabamos de ver, junte suas anotações e conhecimento adquirido para analisar a seguinte base de dados:\n",
    "\n",
    "[netflix daily top 10.csv](https://prod-files-secure.s3.us-west-2.amazonaws.com/08f749ff-d06d-49a8-a488-9846e081b224/2dc4ff7c-99f5-4b66-84ba-5c8714c90623/netflix_daily_top_10.csv)\n",
    "\n",
    "Dessa base, analise e extraia:\n",
    "\n",
    "- Tipos de dados disponíveis\n",
    "- Período da análise feita\n",
    "- Tamanho da base de dados\n",
    "- Verificar dados nulos\n",
    "- Outliers"
   ]
  },
  {
   "cell_type": "markdown",
   "metadata": {},
   "source": [
    "## Solução"
   ]
  },
  {
   "cell_type": "code",
   "execution_count": 1337,
   "metadata": {},
   "outputs": [],
   "source": [
    "import pandas as pd"
   ]
  },
  {
   "cell_type": "markdown",
   "metadata": {},
   "source": [
    "## Tipos de dados disponíveis"
   ]
  },
  {
   "cell_type": "code",
   "execution_count": 1338,
   "metadata": {},
   "outputs": [],
   "source": [
    "df_netflix = pd.read_csv('../datasets/netflix daily top 10.csv')"
   ]
  },
  {
   "cell_type": "code",
   "execution_count": 1339,
   "metadata": {},
   "outputs": [
    {
     "name": "stdout",
     "output_type": "stream",
     "text": [
      "<class 'pandas.core.frame.DataFrame'>\n",
      "RangeIndex: 7100 entries, 0 to 7099\n",
      "Data columns (total 10 columns):\n",
      " #   Column                Non-Null Count  Dtype \n",
      "---  ------                --------------  ----- \n",
      " 0   As of                 7100 non-null   object\n",
      " 1   Rank                  7100 non-null   int64 \n",
      " 2   Year to Date Rank     7100 non-null   object\n",
      " 3   Last Week Rank        7100 non-null   object\n",
      " 4   Title                 7100 non-null   object\n",
      " 5   Type                  7100 non-null   object\n",
      " 6   Netflix Exclusive     4599 non-null   object\n",
      " 7   Netflix Release Date  7100 non-null   object\n",
      " 8   Days In Top 10        7100 non-null   int64 \n",
      " 9   Viewership Score      7100 non-null   int64 \n",
      "dtypes: int64(3), object(7)\n",
      "memory usage: 554.8+ KB\n"
     ]
    }
   ],
   "source": [
    "df_netflix.info()"
   ]
  },
  {
   "cell_type": "code",
   "execution_count": 1340,
   "metadata": {},
   "outputs": [
    {
     "data": {
      "text/html": [
       "<div>\n",
       "<style scoped>\n",
       "    .dataframe tbody tr th:only-of-type {\n",
       "        vertical-align: middle;\n",
       "    }\n",
       "\n",
       "    .dataframe tbody tr th {\n",
       "        vertical-align: top;\n",
       "    }\n",
       "\n",
       "    .dataframe thead th {\n",
       "        text-align: right;\n",
       "    }\n",
       "</style>\n",
       "<table border=\"1\" class=\"dataframe\">\n",
       "  <thead>\n",
       "    <tr style=\"text-align: right;\">\n",
       "      <th></th>\n",
       "      <th>Rank</th>\n",
       "      <th>Days In Top 10</th>\n",
       "      <th>Viewership Score</th>\n",
       "    </tr>\n",
       "  </thead>\n",
       "  <tbody>\n",
       "    <tr>\n",
       "      <th>count</th>\n",
       "      <td>7100.000000000000000</td>\n",
       "      <td>7100.000000000000000</td>\n",
       "      <td>7100.000000000000000</td>\n",
       "    </tr>\n",
       "    <tr>\n",
       "      <th>mean</th>\n",
       "      <td>5.500000000000000</td>\n",
       "      <td>24.123661971830987</td>\n",
       "      <td>122.790140845070425</td>\n",
       "    </tr>\n",
       "    <tr>\n",
       "      <th>std</th>\n",
       "      <td>2.872483617971048</td>\n",
       "      <td>58.473789251347533</td>\n",
       "      <td>213.861642160496018</td>\n",
       "    </tr>\n",
       "    <tr>\n",
       "      <th>min</th>\n",
       "      <td>1.000000000000000</td>\n",
       "      <td>1.000000000000000</td>\n",
       "      <td>1.000000000000000</td>\n",
       "    </tr>\n",
       "    <tr>\n",
       "      <th>25%</th>\n",
       "      <td>3.000000000000000</td>\n",
       "      <td>3.000000000000000</td>\n",
       "      <td>19.000000000000000</td>\n",
       "    </tr>\n",
       "    <tr>\n",
       "      <th>50%</th>\n",
       "      <td>5.500000000000000</td>\n",
       "      <td>7.000000000000000</td>\n",
       "      <td>50.000000000000000</td>\n",
       "    </tr>\n",
       "    <tr>\n",
       "      <th>75%</th>\n",
       "      <td>8.000000000000000</td>\n",
       "      <td>18.000000000000000</td>\n",
       "      <td>128.000000000000000</td>\n",
       "    </tr>\n",
       "    <tr>\n",
       "      <th>max</th>\n",
       "      <td>10.000000000000000</td>\n",
       "      <td>428.000000000000000</td>\n",
       "      <td>1474.000000000000000</td>\n",
       "    </tr>\n",
       "  </tbody>\n",
       "</table>\n",
       "</div>"
      ],
      "text/plain": [
       "                      Rank       Days In Top 10     Viewership Score\n",
       "count 7100.000000000000000 7100.000000000000000 7100.000000000000000\n",
       "mean     5.500000000000000   24.123661971830987  122.790140845070425\n",
       "std      2.872483617971048   58.473789251347533  213.861642160496018\n",
       "min      1.000000000000000    1.000000000000000    1.000000000000000\n",
       "25%      3.000000000000000    3.000000000000000   19.000000000000000\n",
       "50%      5.500000000000000    7.000000000000000   50.000000000000000\n",
       "75%      8.000000000000000   18.000000000000000  128.000000000000000\n",
       "max     10.000000000000000  428.000000000000000 1474.000000000000000"
      ]
     },
     "execution_count": 1340,
     "metadata": {},
     "output_type": "execute_result"
    }
   ],
   "source": [
    "df_netflix.describe()"
   ]
  },
  {
   "cell_type": "code",
   "execution_count": 1341,
   "metadata": {},
   "outputs": [
    {
     "data": {
      "text/plain": [
       "(7100, 10)"
      ]
     },
     "execution_count": 1341,
     "metadata": {},
     "output_type": "execute_result"
    }
   ],
   "source": [
    "df_netflix.shape"
   ]
  },
  {
   "cell_type": "code",
   "execution_count": 1342,
   "metadata": {},
   "outputs": [
    {
     "data": {
      "text/html": [
       "<div>\n",
       "<style scoped>\n",
       "    .dataframe tbody tr th:only-of-type {\n",
       "        vertical-align: middle;\n",
       "    }\n",
       "\n",
       "    .dataframe tbody tr th {\n",
       "        vertical-align: top;\n",
       "    }\n",
       "\n",
       "    .dataframe thead th {\n",
       "        text-align: right;\n",
       "    }\n",
       "</style>\n",
       "<table border=\"1\" class=\"dataframe\">\n",
       "  <thead>\n",
       "    <tr style=\"text-align: right;\">\n",
       "      <th></th>\n",
       "      <th>As of</th>\n",
       "      <th>Rank</th>\n",
       "      <th>Year to Date Rank</th>\n",
       "      <th>Last Week Rank</th>\n",
       "      <th>Title</th>\n",
       "      <th>Type</th>\n",
       "      <th>Netflix Exclusive</th>\n",
       "      <th>Netflix Release Date</th>\n",
       "      <th>Days In Top 10</th>\n",
       "      <th>Viewership Score</th>\n",
       "    </tr>\n",
       "  </thead>\n",
       "  <tbody>\n",
       "    <tr>\n",
       "      <th>0</th>\n",
       "      <td>2020-04-01</td>\n",
       "      <td>1</td>\n",
       "      <td>1</td>\n",
       "      <td>1</td>\n",
       "      <td>Tiger King: Murder, Mayhem …</td>\n",
       "      <td>TV Show</td>\n",
       "      <td>Yes</td>\n",
       "      <td>Mar 20, 2020</td>\n",
       "      <td>9</td>\n",
       "      <td>90</td>\n",
       "    </tr>\n",
       "    <tr>\n",
       "      <th>1</th>\n",
       "      <td>2020-04-01</td>\n",
       "      <td>2</td>\n",
       "      <td>2</td>\n",
       "      <td>-</td>\n",
       "      <td>Ozark</td>\n",
       "      <td>TV Show</td>\n",
       "      <td>Yes</td>\n",
       "      <td>Jul 21, 2017</td>\n",
       "      <td>5</td>\n",
       "      <td>45</td>\n",
       "    </tr>\n",
       "    <tr>\n",
       "      <th>2</th>\n",
       "      <td>2020-04-01</td>\n",
       "      <td>3</td>\n",
       "      <td>3</td>\n",
       "      <td>2</td>\n",
       "      <td>All American</td>\n",
       "      <td>TV Show</td>\n",
       "      <td>NaN</td>\n",
       "      <td>Mar 28, 2019</td>\n",
       "      <td>9</td>\n",
       "      <td>76</td>\n",
       "    </tr>\n",
       "    <tr>\n",
       "      <th>3</th>\n",
       "      <td>2020-04-01</td>\n",
       "      <td>4</td>\n",
       "      <td>4</td>\n",
       "      <td>-</td>\n",
       "      <td>Blood Father</td>\n",
       "      <td>Movie</td>\n",
       "      <td>NaN</td>\n",
       "      <td>Mar 26, 2020</td>\n",
       "      <td>5</td>\n",
       "      <td>30</td>\n",
       "    </tr>\n",
       "    <tr>\n",
       "      <th>4</th>\n",
       "      <td>2020-04-01</td>\n",
       "      <td>5</td>\n",
       "      <td>5</td>\n",
       "      <td>4</td>\n",
       "      <td>The Platform</td>\n",
       "      <td>Movie</td>\n",
       "      <td>Yes</td>\n",
       "      <td>Mar 20, 2020</td>\n",
       "      <td>9</td>\n",
       "      <td>55</td>\n",
       "    </tr>\n",
       "  </tbody>\n",
       "</table>\n",
       "</div>"
      ],
      "text/plain": [
       "        As of  Rank Year to Date Rank Last Week Rank  \\\n",
       "0  2020-04-01     1                 1              1   \n",
       "1  2020-04-01     2                 2              -   \n",
       "2  2020-04-01     3                 3              2   \n",
       "3  2020-04-01     4                 4              -   \n",
       "4  2020-04-01     5                 5              4   \n",
       "\n",
       "                          Title     Type Netflix Exclusive  \\\n",
       "0  Tiger King: Murder, Mayhem …  TV Show               Yes   \n",
       "1                         Ozark  TV Show               Yes   \n",
       "2                  All American  TV Show               NaN   \n",
       "3                  Blood Father    Movie               NaN   \n",
       "4                  The Platform    Movie               Yes   \n",
       "\n",
       "  Netflix Release Date  Days In Top 10  Viewership Score  \n",
       "0         Mar 20, 2020               9                90  \n",
       "1         Jul 21, 2017               5                45  \n",
       "2         Mar 28, 2019               9                76  \n",
       "3         Mar 26, 2020               5                30  \n",
       "4         Mar 20, 2020               9                55  "
      ]
     },
     "execution_count": 1342,
     "metadata": {},
     "output_type": "execute_result"
    }
   ],
   "source": [
    "df_netflix.head(5)"
   ]
  },
  {
   "cell_type": "code",
   "execution_count": 1343,
   "metadata": {},
   "outputs": [
    {
     "data": {
      "text/html": [
       "<div>\n",
       "<style scoped>\n",
       "    .dataframe tbody tr th:only-of-type {\n",
       "        vertical-align: middle;\n",
       "    }\n",
       "\n",
       "    .dataframe tbody tr th {\n",
       "        vertical-align: top;\n",
       "    }\n",
       "\n",
       "    .dataframe thead th {\n",
       "        text-align: right;\n",
       "    }\n",
       "</style>\n",
       "<table border=\"1\" class=\"dataframe\">\n",
       "  <thead>\n",
       "    <tr style=\"text-align: right;\">\n",
       "      <th></th>\n",
       "      <th>As of</th>\n",
       "      <th>Rank</th>\n",
       "      <th>Year to Date Rank</th>\n",
       "      <th>Last Week Rank</th>\n",
       "      <th>Title</th>\n",
       "      <th>Type</th>\n",
       "      <th>Netflix Exclusive</th>\n",
       "      <th>Netflix Release Date</th>\n",
       "      <th>Days In Top 10</th>\n",
       "      <th>Viewership Score</th>\n",
       "    </tr>\n",
       "  </thead>\n",
       "  <tbody>\n",
       "    <tr>\n",
       "      <th>7095</th>\n",
       "      <td>2022-03-11</td>\n",
       "      <td>6</td>\n",
       "      <td>5</td>\n",
       "      <td>1</td>\n",
       "      <td>Worst Roommate Ever</td>\n",
       "      <td>TV Show</td>\n",
       "      <td>Yes</td>\n",
       "      <td>Mar 1, 2022</td>\n",
       "      <td>10</td>\n",
       "      <td>81</td>\n",
       "    </tr>\n",
       "    <tr>\n",
       "      <th>7096</th>\n",
       "      <td>2022-03-11</td>\n",
       "      <td>7</td>\n",
       "      <td>7</td>\n",
       "      <td>2</td>\n",
       "      <td>Vikings: Valhalla</td>\n",
       "      <td>TV Show</td>\n",
       "      <td>Yes</td>\n",
       "      <td>Feb 25, 2022</td>\n",
       "      <td>14</td>\n",
       "      <td>100</td>\n",
       "    </tr>\n",
       "    <tr>\n",
       "      <th>7097</th>\n",
       "      <td>2022-03-11</td>\n",
       "      <td>8</td>\n",
       "      <td>8</td>\n",
       "      <td>-</td>\n",
       "      <td>Shooter</td>\n",
       "      <td>Movie</td>\n",
       "      <td>NaN</td>\n",
       "      <td>Aug 1, 2014</td>\n",
       "      <td>3</td>\n",
       "      <td>7</td>\n",
       "    </tr>\n",
       "    <tr>\n",
       "      <th>7098</th>\n",
       "      <td>2022-03-11</td>\n",
       "      <td>9</td>\n",
       "      <td>9</td>\n",
       "      <td>7</td>\n",
       "      <td>Shrek 2</td>\n",
       "      <td>Movie</td>\n",
       "      <td>NaN</td>\n",
       "      <td>Mar 1, 2022</td>\n",
       "      <td>10</td>\n",
       "      <td>33</td>\n",
       "    </tr>\n",
       "    <tr>\n",
       "      <th>7099</th>\n",
       "      <td>2022-03-11</td>\n",
       "      <td>10</td>\n",
       "      <td>10</td>\n",
       "      <td>-</td>\n",
       "      <td>Shrek</td>\n",
       "      <td>Movie</td>\n",
       "      <td>NaN</td>\n",
       "      <td>May 1, 2018</td>\n",
       "      <td>7</td>\n",
       "      <td>12</td>\n",
       "    </tr>\n",
       "  </tbody>\n",
       "</table>\n",
       "</div>"
      ],
      "text/plain": [
       "           As of  Rank Year to Date Rank Last Week Rank                Title  \\\n",
       "7095  2022-03-11     6                 5              1  Worst Roommate Ever   \n",
       "7096  2022-03-11     7                 7              2    Vikings: Valhalla   \n",
       "7097  2022-03-11     8                 8              -              Shooter   \n",
       "7098  2022-03-11     9                 9              7              Shrek 2   \n",
       "7099  2022-03-11    10                10              -                Shrek   \n",
       "\n",
       "         Type Netflix Exclusive Netflix Release Date  Days In Top 10  \\\n",
       "7095  TV Show               Yes          Mar 1, 2022              10   \n",
       "7096  TV Show               Yes         Feb 25, 2022              14   \n",
       "7097    Movie               NaN          Aug 1, 2014               3   \n",
       "7098    Movie               NaN          Mar 1, 2022              10   \n",
       "7099    Movie               NaN          May 1, 2018               7   \n",
       "\n",
       "      Viewership Score  \n",
       "7095                81  \n",
       "7096               100  \n",
       "7097                 7  \n",
       "7098                33  \n",
       "7099                12  "
      ]
     },
     "execution_count": 1343,
     "metadata": {},
     "output_type": "execute_result"
    }
   ],
   "source": [
    "df_netflix.tail()"
   ]
  },
  {
   "cell_type": "markdown",
   "metadata": {},
   "source": [
    "## Tamanho da base de dados"
   ]
  },
  {
   "cell_type": "code",
   "execution_count": 1344,
   "metadata": {},
   "outputs": [
    {
     "data": {
      "text/plain": [
       "(7100, 2501)"
      ]
     },
     "execution_count": 1344,
     "metadata": {},
     "output_type": "execute_result"
    }
   ],
   "source": [
    "len(df_netflix), len(df_netflix[df_netflix.isna().any(axis=1)])"
   ]
  },
  {
   "cell_type": "code",
   "execution_count": 1345,
   "metadata": {},
   "outputs": [],
   "source": [
    "df_netflix.columns = ['as_of', 'ranked', 'year_rank', 'week_rank', 'title', 'type', 'exclusive', 'release_date', 'days_top_10', 'score']"
   ]
  },
  {
   "cell_type": "code",
   "execution_count": 1346,
   "metadata": {},
   "outputs": [
    {
     "name": "stdout",
     "output_type": "stream",
     "text": [
      "<class 'pandas.core.frame.DataFrame'>\n",
      "RangeIndex: 7100 entries, 0 to 7099\n",
      "Data columns (total 10 columns):\n",
      " #   Column        Non-Null Count  Dtype \n",
      "---  ------        --------------  ----- \n",
      " 0   as_of         7100 non-null   object\n",
      " 1   ranked        7100 non-null   int64 \n",
      " 2   year_rank     7100 non-null   object\n",
      " 3   week_rank     7100 non-null   object\n",
      " 4   title         7100 non-null   object\n",
      " 5   type          7100 non-null   object\n",
      " 6   exclusive     4599 non-null   object\n",
      " 7   release_date  7100 non-null   object\n",
      " 8   days_top_10   7100 non-null   int64 \n",
      " 9   score         7100 non-null   int64 \n",
      "dtypes: int64(3), object(7)\n",
      "memory usage: 554.8+ KB\n"
     ]
    }
   ],
   "source": [
    "df_netflix.info()"
   ]
  },
  {
   "cell_type": "markdown",
   "metadata": {},
   "source": [
    "## Convertendo dados\n",
    "\n",
    "Os valores para as colunas `as_of` e `release_date` são do tipo `datetime`, mas estão sendo consideradas como `object`."
   ]
  },
  {
   "cell_type": "code",
   "execution_count": 1347,
   "metadata": {},
   "outputs": [
    {
     "data": {
      "text/html": [
       "<div>\n",
       "<style scoped>\n",
       "    .dataframe tbody tr th:only-of-type {\n",
       "        vertical-align: middle;\n",
       "    }\n",
       "\n",
       "    .dataframe tbody tr th {\n",
       "        vertical-align: top;\n",
       "    }\n",
       "\n",
       "    .dataframe thead th {\n",
       "        text-align: right;\n",
       "    }\n",
       "</style>\n",
       "<table border=\"1\" class=\"dataframe\">\n",
       "  <thead>\n",
       "    <tr style=\"text-align: right;\">\n",
       "      <th></th>\n",
       "      <th>ranked</th>\n",
       "      <th>days_top_10</th>\n",
       "      <th>score</th>\n",
       "    </tr>\n",
       "  </thead>\n",
       "  <tbody>\n",
       "    <tr>\n",
       "      <th>count</th>\n",
       "      <td>7100.000000000000000</td>\n",
       "      <td>7100.000000000000000</td>\n",
       "      <td>7100.000000000000000</td>\n",
       "    </tr>\n",
       "    <tr>\n",
       "      <th>mean</th>\n",
       "      <td>5.500000000000000</td>\n",
       "      <td>24.123661971830987</td>\n",
       "      <td>122.790140845070425</td>\n",
       "    </tr>\n",
       "    <tr>\n",
       "      <th>std</th>\n",
       "      <td>2.872483617971048</td>\n",
       "      <td>58.473789251347533</td>\n",
       "      <td>213.861642160496018</td>\n",
       "    </tr>\n",
       "    <tr>\n",
       "      <th>min</th>\n",
       "      <td>1.000000000000000</td>\n",
       "      <td>1.000000000000000</td>\n",
       "      <td>1.000000000000000</td>\n",
       "    </tr>\n",
       "    <tr>\n",
       "      <th>25%</th>\n",
       "      <td>3.000000000000000</td>\n",
       "      <td>3.000000000000000</td>\n",
       "      <td>19.000000000000000</td>\n",
       "    </tr>\n",
       "    <tr>\n",
       "      <th>50%</th>\n",
       "      <td>5.500000000000000</td>\n",
       "      <td>7.000000000000000</td>\n",
       "      <td>50.000000000000000</td>\n",
       "    </tr>\n",
       "    <tr>\n",
       "      <th>75%</th>\n",
       "      <td>8.000000000000000</td>\n",
       "      <td>18.000000000000000</td>\n",
       "      <td>128.000000000000000</td>\n",
       "    </tr>\n",
       "    <tr>\n",
       "      <th>max</th>\n",
       "      <td>10.000000000000000</td>\n",
       "      <td>428.000000000000000</td>\n",
       "      <td>1474.000000000000000</td>\n",
       "    </tr>\n",
       "  </tbody>\n",
       "</table>\n",
       "</div>"
      ],
      "text/plain": [
       "                    ranked          days_top_10                score\n",
       "count 7100.000000000000000 7100.000000000000000 7100.000000000000000\n",
       "mean     5.500000000000000   24.123661971830987  122.790140845070425\n",
       "std      2.872483617971048   58.473789251347533  213.861642160496018\n",
       "min      1.000000000000000    1.000000000000000    1.000000000000000\n",
       "25%      3.000000000000000    3.000000000000000   19.000000000000000\n",
       "50%      5.500000000000000    7.000000000000000   50.000000000000000\n",
       "75%      8.000000000000000   18.000000000000000  128.000000000000000\n",
       "max     10.000000000000000  428.000000000000000 1474.000000000000000"
      ]
     },
     "execution_count": 1347,
     "metadata": {},
     "output_type": "execute_result"
    }
   ],
   "source": [
    "df_netflix.describe()"
   ]
  },
  {
   "cell_type": "code",
   "execution_count": 1348,
   "metadata": {},
   "outputs": [
    {
     "data": {
      "text/plain": [
       "0    2020-04-01\n",
       "1    2020-04-01\n",
       "2    2020-04-01\n",
       "3    2020-04-01\n",
       "4    2020-04-01\n",
       "Name: as_of, dtype: object"
      ]
     },
     "execution_count": 1348,
     "metadata": {},
     "output_type": "execute_result"
    }
   ],
   "source": [
    "df_netflix.as_of.head(5)"
   ]
  },
  {
   "cell_type": "code",
   "execution_count": 1349,
   "metadata": {},
   "outputs": [
    {
     "data": {
      "text/plain": [
       "0   2020-04-01\n",
       "1   2020-04-01\n",
       "2   2020-04-01\n",
       "3   2020-04-01\n",
       "4   2020-04-01\n",
       "Name: as_of, dtype: datetime64[ns]"
      ]
     },
     "execution_count": 1349,
     "metadata": {},
     "output_type": "execute_result"
    }
   ],
   "source": [
    "df_netflix.as_of = pd.to_datetime(df_netflix.as_of)\n",
    "df_netflix.as_of.head(5)"
   ]
  },
  {
   "cell_type": "code",
   "execution_count": 1350,
   "metadata": {},
   "outputs": [
    {
     "data": {
      "text/plain": [
       "0    Mar 20, 2020\n",
       "1    Jul 21, 2017\n",
       "2    Mar 28, 2019\n",
       "3    Mar 26, 2020\n",
       "4    Mar 20, 2020\n",
       "Name: release_date, dtype: object"
      ]
     },
     "execution_count": 1350,
     "metadata": {},
     "output_type": "execute_result"
    }
   ],
   "source": [
    "df_netflix.release_date.head(5)"
   ]
  },
  {
   "cell_type": "code",
   "execution_count": 1351,
   "metadata": {},
   "outputs": [
    {
     "data": {
      "text/plain": [
       "0   2020-03-20\n",
       "1   2017-07-21\n",
       "2   2019-03-28\n",
       "3   2020-03-26\n",
       "4   2020-03-20\n",
       "Name: release_date, dtype: datetime64[ns]"
      ]
     },
     "execution_count": 1351,
     "metadata": {},
     "output_type": "execute_result"
    }
   ],
   "source": [
    "df_netflix.release_date = pd.to_datetime(df_netflix.release_date)\n",
    "df_netflix.release_date.head(5)"
   ]
  },
  {
   "cell_type": "code",
   "execution_count": 1352,
   "metadata": {},
   "outputs": [
    {
     "data": {
      "text/plain": [
       "array(['TV Show', 'Movie', 'Stand-Up Comedy', 'Concert/Perf…'],\n",
       "      dtype=object)"
      ]
     },
     "execution_count": 1352,
     "metadata": {},
     "output_type": "execute_result"
    }
   ],
   "source": [
    "df_netflix.type.unique()"
   ]
  },
  {
   "cell_type": "code",
   "execution_count": 1353,
   "metadata": {},
   "outputs": [],
   "source": [
    "import numpy as np"
   ]
  },
  {
   "cell_type": "code",
   "execution_count": 1354,
   "metadata": {},
   "outputs": [
    {
     "data": {
      "text/plain": [
       "array(['TV Show', 'Movie', 'StandUp', 'Concert'], dtype=object)"
      ]
     },
     "execution_count": 1354,
     "metadata": {},
     "output_type": "execute_result"
    }
   ],
   "source": [
    "df_netflix.type = np.where(df_netflix.type.str.startswith('Concert'), 'Concert', df_netflix.type)\n",
    "df_netflix.type = np.where(df_netflix.type.str.startswith('Stand'), 'StandUp', df_netflix.type)\n",
    "df_netflix.type.unique()"
   ]
  },
  {
   "cell_type": "code",
   "execution_count": 1355,
   "metadata": {},
   "outputs": [
    {
     "name": "stdout",
     "output_type": "stream",
     "text": [
      "<class 'pandas.core.frame.DataFrame'>\n",
      "RangeIndex: 7100 entries, 0 to 7099\n",
      "Data columns (total 10 columns):\n",
      " #   Column        Non-Null Count  Dtype         \n",
      "---  ------        --------------  -----         \n",
      " 0   as_of         7100 non-null   datetime64[ns]\n",
      " 1   ranked        7100 non-null   int64         \n",
      " 2   year_rank     7100 non-null   object        \n",
      " 3   week_rank     7100 non-null   object        \n",
      " 4   title         7100 non-null   object        \n",
      " 5   type          7100 non-null   object        \n",
      " 6   exclusive     4599 non-null   object        \n",
      " 7   release_date  7100 non-null   datetime64[ns]\n",
      " 8   days_top_10   7100 non-null   int64         \n",
      " 9   score         7100 non-null   int64         \n",
      "dtypes: datetime64[ns](2), int64(3), object(5)\n",
      "memory usage: 554.8+ KB\n"
     ]
    }
   ],
   "source": [
    "df_netflix.info()"
   ]
  },
  {
   "cell_type": "code",
   "execution_count": 1356,
   "metadata": {},
   "outputs": [
    {
     "data": {
      "text/html": [
       "<div>\n",
       "<style scoped>\n",
       "    .dataframe tbody tr th:only-of-type {\n",
       "        vertical-align: middle;\n",
       "    }\n",
       "\n",
       "    .dataframe tbody tr th {\n",
       "        vertical-align: top;\n",
       "    }\n",
       "\n",
       "    .dataframe thead th {\n",
       "        text-align: right;\n",
       "    }\n",
       "</style>\n",
       "<table border=\"1\" class=\"dataframe\">\n",
       "  <thead>\n",
       "    <tr style=\"text-align: right;\">\n",
       "      <th></th>\n",
       "      <th>as_of</th>\n",
       "      <th>ranked</th>\n",
       "      <th>release_date</th>\n",
       "      <th>days_top_10</th>\n",
       "      <th>score</th>\n",
       "    </tr>\n",
       "  </thead>\n",
       "  <tbody>\n",
       "    <tr>\n",
       "      <th>count</th>\n",
       "      <td>7100</td>\n",
       "      <td>7100.000000000000000</td>\n",
       "      <td>7100</td>\n",
       "      <td>7100.000000000000000</td>\n",
       "      <td>7100.000000000000000</td>\n",
       "    </tr>\n",
       "    <tr>\n",
       "      <th>mean</th>\n",
       "      <td>2021-03-21 12:00:00.000000256</td>\n",
       "      <td>5.500000000000000</td>\n",
       "      <td>2020-06-21 08:05:32.619718144</td>\n",
       "      <td>24.123661971830987</td>\n",
       "      <td>122.790140845070425</td>\n",
       "    </tr>\n",
       "    <tr>\n",
       "      <th>min</th>\n",
       "      <td>2020-04-01 00:00:00</td>\n",
       "      <td>1.000000000000000</td>\n",
       "      <td>2007-01-15 00:00:00</td>\n",
       "      <td>1.000000000000000</td>\n",
       "      <td>1.000000000000000</td>\n",
       "    </tr>\n",
       "    <tr>\n",
       "      <th>25%</th>\n",
       "      <td>2020-09-25 00:00:00</td>\n",
       "      <td>3.000000000000000</td>\n",
       "      <td>2020-04-26 00:00:00</td>\n",
       "      <td>3.000000000000000</td>\n",
       "      <td>19.000000000000000</td>\n",
       "    </tr>\n",
       "    <tr>\n",
       "      <th>50%</th>\n",
       "      <td>2021-03-21 12:00:00</td>\n",
       "      <td>5.500000000000000</td>\n",
       "      <td>2020-10-02 00:00:00</td>\n",
       "      <td>7.000000000000000</td>\n",
       "      <td>50.000000000000000</td>\n",
       "    </tr>\n",
       "    <tr>\n",
       "      <th>75%</th>\n",
       "      <td>2021-09-15 00:00:00</td>\n",
       "      <td>8.000000000000000</td>\n",
       "      <td>2021-05-14 00:00:00</td>\n",
       "      <td>18.000000000000000</td>\n",
       "      <td>128.000000000000000</td>\n",
       "    </tr>\n",
       "    <tr>\n",
       "      <th>max</th>\n",
       "      <td>2022-03-11 00:00:00</td>\n",
       "      <td>10.000000000000000</td>\n",
       "      <td>2022-03-04 00:00:00</td>\n",
       "      <td>428.000000000000000</td>\n",
       "      <td>1474.000000000000000</td>\n",
       "    </tr>\n",
       "    <tr>\n",
       "      <th>std</th>\n",
       "      <td>NaN</td>\n",
       "      <td>2.872483617971048</td>\n",
       "      <td>NaN</td>\n",
       "      <td>58.473789251347533</td>\n",
       "      <td>213.861642160496018</td>\n",
       "    </tr>\n",
       "  </tbody>\n",
       "</table>\n",
       "</div>"
      ],
      "text/plain": [
       "                               as_of               ranked  \\\n",
       "count                           7100 7100.000000000000000   \n",
       "mean   2021-03-21 12:00:00.000000256    5.500000000000000   \n",
       "min              2020-04-01 00:00:00    1.000000000000000   \n",
       "25%              2020-09-25 00:00:00    3.000000000000000   \n",
       "50%              2021-03-21 12:00:00    5.500000000000000   \n",
       "75%              2021-09-15 00:00:00    8.000000000000000   \n",
       "max              2022-03-11 00:00:00   10.000000000000000   \n",
       "std                              NaN    2.872483617971048   \n",
       "\n",
       "                        release_date          days_top_10                score  \n",
       "count                           7100 7100.000000000000000 7100.000000000000000  \n",
       "mean   2020-06-21 08:05:32.619718144   24.123661971830987  122.790140845070425  \n",
       "min              2007-01-15 00:00:00    1.000000000000000    1.000000000000000  \n",
       "25%              2020-04-26 00:00:00    3.000000000000000   19.000000000000000  \n",
       "50%              2020-10-02 00:00:00    7.000000000000000   50.000000000000000  \n",
       "75%              2021-05-14 00:00:00   18.000000000000000  128.000000000000000  \n",
       "max              2022-03-04 00:00:00  428.000000000000000 1474.000000000000000  \n",
       "std                              NaN   58.473789251347533  213.861642160496018  "
      ]
     },
     "execution_count": 1356,
     "metadata": {},
     "output_type": "execute_result"
    }
   ],
   "source": [
    "df_netflix.describe()"
   ]
  },
  {
   "cell_type": "markdown",
   "metadata": {},
   "source": [
    "## Período da Análise"
   ]
  },
  {
   "cell_type": "code",
   "execution_count": 1357,
   "metadata": {},
   "outputs": [
    {
     "data": {
      "text/plain": [
       "(Timestamp('2020-04-01 00:00:00'), Timestamp('2022-03-11 00:00:00'))"
      ]
     },
     "execution_count": 1357,
     "metadata": {},
     "output_type": "execute_result"
    }
   ],
   "source": [
    "df_netflix.as_of.min(), df_netflix.as_of.max()"
   ]
  },
  {
   "cell_type": "markdown",
   "metadata": {},
   "source": [
    "## Verificar dados nulos"
   ]
  },
  {
   "cell_type": "code",
   "execution_count": 1358,
   "metadata": {},
   "outputs": [
    {
     "data": {
      "text/html": [
       "<div>\n",
       "<style scoped>\n",
       "    .dataframe tbody tr th:only-of-type {\n",
       "        vertical-align: middle;\n",
       "    }\n",
       "\n",
       "    .dataframe tbody tr th {\n",
       "        vertical-align: top;\n",
       "    }\n",
       "\n",
       "    .dataframe thead th {\n",
       "        text-align: right;\n",
       "    }\n",
       "</style>\n",
       "<table border=\"1\" class=\"dataframe\">\n",
       "  <thead>\n",
       "    <tr style=\"text-align: right;\">\n",
       "      <th></th>\n",
       "      <th>as_of</th>\n",
       "      <th>ranked</th>\n",
       "      <th>year_rank</th>\n",
       "      <th>week_rank</th>\n",
       "      <th>title</th>\n",
       "      <th>type</th>\n",
       "      <th>exclusive</th>\n",
       "      <th>release_date</th>\n",
       "      <th>days_top_10</th>\n",
       "      <th>score</th>\n",
       "    </tr>\n",
       "  </thead>\n",
       "  <tbody>\n",
       "    <tr>\n",
       "      <th>0</th>\n",
       "      <td>False</td>\n",
       "      <td>False</td>\n",
       "      <td>False</td>\n",
       "      <td>False</td>\n",
       "      <td>False</td>\n",
       "      <td>False</td>\n",
       "      <td>False</td>\n",
       "      <td>False</td>\n",
       "      <td>False</td>\n",
       "      <td>False</td>\n",
       "    </tr>\n",
       "    <tr>\n",
       "      <th>1</th>\n",
       "      <td>False</td>\n",
       "      <td>False</td>\n",
       "      <td>False</td>\n",
       "      <td>False</td>\n",
       "      <td>False</td>\n",
       "      <td>False</td>\n",
       "      <td>False</td>\n",
       "      <td>False</td>\n",
       "      <td>False</td>\n",
       "      <td>False</td>\n",
       "    </tr>\n",
       "    <tr>\n",
       "      <th>2</th>\n",
       "      <td>False</td>\n",
       "      <td>False</td>\n",
       "      <td>False</td>\n",
       "      <td>False</td>\n",
       "      <td>False</td>\n",
       "      <td>False</td>\n",
       "      <td>True</td>\n",
       "      <td>False</td>\n",
       "      <td>False</td>\n",
       "      <td>False</td>\n",
       "    </tr>\n",
       "    <tr>\n",
       "      <th>3</th>\n",
       "      <td>False</td>\n",
       "      <td>False</td>\n",
       "      <td>False</td>\n",
       "      <td>False</td>\n",
       "      <td>False</td>\n",
       "      <td>False</td>\n",
       "      <td>True</td>\n",
       "      <td>False</td>\n",
       "      <td>False</td>\n",
       "      <td>False</td>\n",
       "    </tr>\n",
       "    <tr>\n",
       "      <th>4</th>\n",
       "      <td>False</td>\n",
       "      <td>False</td>\n",
       "      <td>False</td>\n",
       "      <td>False</td>\n",
       "      <td>False</td>\n",
       "      <td>False</td>\n",
       "      <td>False</td>\n",
       "      <td>False</td>\n",
       "      <td>False</td>\n",
       "      <td>False</td>\n",
       "    </tr>\n",
       "    <tr>\n",
       "      <th>...</th>\n",
       "      <td>...</td>\n",
       "      <td>...</td>\n",
       "      <td>...</td>\n",
       "      <td>...</td>\n",
       "      <td>...</td>\n",
       "      <td>...</td>\n",
       "      <td>...</td>\n",
       "      <td>...</td>\n",
       "      <td>...</td>\n",
       "      <td>...</td>\n",
       "    </tr>\n",
       "    <tr>\n",
       "      <th>7095</th>\n",
       "      <td>False</td>\n",
       "      <td>False</td>\n",
       "      <td>False</td>\n",
       "      <td>False</td>\n",
       "      <td>False</td>\n",
       "      <td>False</td>\n",
       "      <td>False</td>\n",
       "      <td>False</td>\n",
       "      <td>False</td>\n",
       "      <td>False</td>\n",
       "    </tr>\n",
       "    <tr>\n",
       "      <th>7096</th>\n",
       "      <td>False</td>\n",
       "      <td>False</td>\n",
       "      <td>False</td>\n",
       "      <td>False</td>\n",
       "      <td>False</td>\n",
       "      <td>False</td>\n",
       "      <td>False</td>\n",
       "      <td>False</td>\n",
       "      <td>False</td>\n",
       "      <td>False</td>\n",
       "    </tr>\n",
       "    <tr>\n",
       "      <th>7097</th>\n",
       "      <td>False</td>\n",
       "      <td>False</td>\n",
       "      <td>False</td>\n",
       "      <td>False</td>\n",
       "      <td>False</td>\n",
       "      <td>False</td>\n",
       "      <td>True</td>\n",
       "      <td>False</td>\n",
       "      <td>False</td>\n",
       "      <td>False</td>\n",
       "    </tr>\n",
       "    <tr>\n",
       "      <th>7098</th>\n",
       "      <td>False</td>\n",
       "      <td>False</td>\n",
       "      <td>False</td>\n",
       "      <td>False</td>\n",
       "      <td>False</td>\n",
       "      <td>False</td>\n",
       "      <td>True</td>\n",
       "      <td>False</td>\n",
       "      <td>False</td>\n",
       "      <td>False</td>\n",
       "    </tr>\n",
       "    <tr>\n",
       "      <th>7099</th>\n",
       "      <td>False</td>\n",
       "      <td>False</td>\n",
       "      <td>False</td>\n",
       "      <td>False</td>\n",
       "      <td>False</td>\n",
       "      <td>False</td>\n",
       "      <td>True</td>\n",
       "      <td>False</td>\n",
       "      <td>False</td>\n",
       "      <td>False</td>\n",
       "    </tr>\n",
       "  </tbody>\n",
       "</table>\n",
       "<p>7100 rows × 10 columns</p>\n",
       "</div>"
      ],
      "text/plain": [
       "      as_of  ranked  year_rank  week_rank  title   type  exclusive  \\\n",
       "0     False   False      False      False  False  False      False   \n",
       "1     False   False      False      False  False  False      False   \n",
       "2     False   False      False      False  False  False       True   \n",
       "3     False   False      False      False  False  False       True   \n",
       "4     False   False      False      False  False  False      False   \n",
       "...     ...     ...        ...        ...    ...    ...        ...   \n",
       "7095  False   False      False      False  False  False      False   \n",
       "7096  False   False      False      False  False  False      False   \n",
       "7097  False   False      False      False  False  False       True   \n",
       "7098  False   False      False      False  False  False       True   \n",
       "7099  False   False      False      False  False  False       True   \n",
       "\n",
       "      release_date  days_top_10  score  \n",
       "0            False        False  False  \n",
       "1            False        False  False  \n",
       "2            False        False  False  \n",
       "3            False        False  False  \n",
       "4            False        False  False  \n",
       "...            ...          ...    ...  \n",
       "7095         False        False  False  \n",
       "7096         False        False  False  \n",
       "7097         False        False  False  \n",
       "7098         False        False  False  \n",
       "7099         False        False  False  \n",
       "\n",
       "[7100 rows x 10 columns]"
      ]
     },
     "execution_count": 1358,
     "metadata": {},
     "output_type": "execute_result"
    }
   ],
   "source": [
    "df_netflix.isna()"
   ]
  },
  {
   "cell_type": "code",
   "execution_count": 1359,
   "metadata": {},
   "outputs": [
    {
     "data": {
      "text/plain": [
       "as_of              0\n",
       "ranked             0\n",
       "year_rank          0\n",
       "week_rank          0\n",
       "title              0\n",
       "type               0\n",
       "exclusive       2501\n",
       "release_date       0\n",
       "days_top_10        0\n",
       "score              0\n",
       "dtype: int64"
      ]
     },
     "execution_count": 1359,
     "metadata": {},
     "output_type": "execute_result"
    }
   ],
   "source": [
    "df_netflix.isna().sum()"
   ]
  },
  {
   "cell_type": "code",
   "execution_count": 1360,
   "metadata": {},
   "outputs": [
    {
     "data": {
      "text/html": [
       "<div>\n",
       "<style scoped>\n",
       "    .dataframe tbody tr th:only-of-type {\n",
       "        vertical-align: middle;\n",
       "    }\n",
       "\n",
       "    .dataframe tbody tr th {\n",
       "        vertical-align: top;\n",
       "    }\n",
       "\n",
       "    .dataframe thead th {\n",
       "        text-align: right;\n",
       "    }\n",
       "</style>\n",
       "<table border=\"1\" class=\"dataframe\">\n",
       "  <thead>\n",
       "    <tr style=\"text-align: right;\">\n",
       "      <th></th>\n",
       "      <th>as_of</th>\n",
       "      <th>ranked</th>\n",
       "      <th>year_rank</th>\n",
       "      <th>week_rank</th>\n",
       "      <th>title</th>\n",
       "      <th>type</th>\n",
       "      <th>exclusive</th>\n",
       "      <th>release_date</th>\n",
       "      <th>days_top_10</th>\n",
       "      <th>score</th>\n",
       "    </tr>\n",
       "  </thead>\n",
       "  <tbody>\n",
       "    <tr>\n",
       "      <th>2</th>\n",
       "      <td>2020-04-01</td>\n",
       "      <td>3</td>\n",
       "      <td>3</td>\n",
       "      <td>2</td>\n",
       "      <td>All American</td>\n",
       "      <td>TV Show</td>\n",
       "      <td>NaN</td>\n",
       "      <td>2019-03-28</td>\n",
       "      <td>9</td>\n",
       "      <td>76</td>\n",
       "    </tr>\n",
       "    <tr>\n",
       "      <th>3</th>\n",
       "      <td>2020-04-01</td>\n",
       "      <td>4</td>\n",
       "      <td>4</td>\n",
       "      <td>-</td>\n",
       "      <td>Blood Father</td>\n",
       "      <td>Movie</td>\n",
       "      <td>NaN</td>\n",
       "      <td>2020-03-26</td>\n",
       "      <td>5</td>\n",
       "      <td>30</td>\n",
       "    </tr>\n",
       "    <tr>\n",
       "      <th>8</th>\n",
       "      <td>2020-04-01</td>\n",
       "      <td>9</td>\n",
       "      <td>8</td>\n",
       "      <td>-</td>\n",
       "      <td>Badland</td>\n",
       "      <td>Movie</td>\n",
       "      <td>NaN</td>\n",
       "      <td>2020-03-26</td>\n",
       "      <td>4</td>\n",
       "      <td>11</td>\n",
       "    </tr>\n",
       "    <tr>\n",
       "      <th>12</th>\n",
       "      <td>2020-04-02</td>\n",
       "      <td>3</td>\n",
       "      <td>3</td>\n",
       "      <td>2</td>\n",
       "      <td>All American</td>\n",
       "      <td>TV Show</td>\n",
       "      <td>NaN</td>\n",
       "      <td>2019-03-28</td>\n",
       "      <td>10</td>\n",
       "      <td>84</td>\n",
       "    </tr>\n",
       "    <tr>\n",
       "      <th>15</th>\n",
       "      <td>2020-04-02</td>\n",
       "      <td>6</td>\n",
       "      <td>4</td>\n",
       "      <td>-</td>\n",
       "      <td>Blood Father</td>\n",
       "      <td>Movie</td>\n",
       "      <td>NaN</td>\n",
       "      <td>2020-03-26</td>\n",
       "      <td>6</td>\n",
       "      <td>35</td>\n",
       "    </tr>\n",
       "    <tr>\n",
       "      <th>...</th>\n",
       "      <td>...</td>\n",
       "      <td>...</td>\n",
       "      <td>...</td>\n",
       "      <td>...</td>\n",
       "      <td>...</td>\n",
       "      <td>...</td>\n",
       "      <td>...</td>\n",
       "      <td>...</td>\n",
       "      <td>...</td>\n",
       "      <td>...</td>\n",
       "    </tr>\n",
       "    <tr>\n",
       "      <th>7090</th>\n",
       "      <td>2022-03-11</td>\n",
       "      <td>1</td>\n",
       "      <td>2</td>\n",
       "      <td>-</td>\n",
       "      <td>The Last Kingdom</td>\n",
       "      <td>TV Show</td>\n",
       "      <td>NaN</td>\n",
       "      <td>2016-07-10</td>\n",
       "      <td>13</td>\n",
       "      <td>62</td>\n",
       "    </tr>\n",
       "    <tr>\n",
       "      <th>7092</th>\n",
       "      <td>2022-03-11</td>\n",
       "      <td>3</td>\n",
       "      <td>3</td>\n",
       "      <td>-</td>\n",
       "      <td>Good Girls</td>\n",
       "      <td>TV Show</td>\n",
       "      <td>NaN</td>\n",
       "      <td>2019-01-01</td>\n",
       "      <td>26</td>\n",
       "      <td>149</td>\n",
       "    </tr>\n",
       "    <tr>\n",
       "      <th>7097</th>\n",
       "      <td>2022-03-11</td>\n",
       "      <td>8</td>\n",
       "      <td>8</td>\n",
       "      <td>-</td>\n",
       "      <td>Shooter</td>\n",
       "      <td>Movie</td>\n",
       "      <td>NaN</td>\n",
       "      <td>2014-08-01</td>\n",
       "      <td>3</td>\n",
       "      <td>7</td>\n",
       "    </tr>\n",
       "    <tr>\n",
       "      <th>7098</th>\n",
       "      <td>2022-03-11</td>\n",
       "      <td>9</td>\n",
       "      <td>9</td>\n",
       "      <td>7</td>\n",
       "      <td>Shrek 2</td>\n",
       "      <td>Movie</td>\n",
       "      <td>NaN</td>\n",
       "      <td>2022-03-01</td>\n",
       "      <td>10</td>\n",
       "      <td>33</td>\n",
       "    </tr>\n",
       "    <tr>\n",
       "      <th>7099</th>\n",
       "      <td>2022-03-11</td>\n",
       "      <td>10</td>\n",
       "      <td>10</td>\n",
       "      <td>-</td>\n",
       "      <td>Shrek</td>\n",
       "      <td>Movie</td>\n",
       "      <td>NaN</td>\n",
       "      <td>2018-05-01</td>\n",
       "      <td>7</td>\n",
       "      <td>12</td>\n",
       "    </tr>\n",
       "  </tbody>\n",
       "</table>\n",
       "<p>2501 rows × 10 columns</p>\n",
       "</div>"
      ],
      "text/plain": [
       "          as_of  ranked year_rank week_rank             title     type  \\\n",
       "2    2020-04-01       3         3         2      All American  TV Show   \n",
       "3    2020-04-01       4         4         -      Blood Father    Movie   \n",
       "8    2020-04-01       9         8         -           Badland    Movie   \n",
       "12   2020-04-02       3         3         2      All American  TV Show   \n",
       "15   2020-04-02       6         4         -      Blood Father    Movie   \n",
       "...         ...     ...       ...       ...               ...      ...   \n",
       "7090 2022-03-11       1         2         -  The Last Kingdom  TV Show   \n",
       "7092 2022-03-11       3         3         -        Good Girls  TV Show   \n",
       "7097 2022-03-11       8         8         -           Shooter    Movie   \n",
       "7098 2022-03-11       9         9         7           Shrek 2    Movie   \n",
       "7099 2022-03-11      10        10         -             Shrek    Movie   \n",
       "\n",
       "     exclusive release_date  days_top_10  score  \n",
       "2          NaN   2019-03-28            9     76  \n",
       "3          NaN   2020-03-26            5     30  \n",
       "8          NaN   2020-03-26            4     11  \n",
       "12         NaN   2019-03-28           10     84  \n",
       "15         NaN   2020-03-26            6     35  \n",
       "...        ...          ...          ...    ...  \n",
       "7090       NaN   2016-07-10           13     62  \n",
       "7092       NaN   2019-01-01           26    149  \n",
       "7097       NaN   2014-08-01            3      7  \n",
       "7098       NaN   2022-03-01           10     33  \n",
       "7099       NaN   2018-05-01            7     12  \n",
       "\n",
       "[2501 rows x 10 columns]"
      ]
     },
     "execution_count": 1360,
     "metadata": {},
     "output_type": "execute_result"
    }
   ],
   "source": [
    "df_netflix[df_netflix.isna().any(axis=1)]"
   ]
  },
  {
   "cell_type": "code",
   "execution_count": 1361,
   "metadata": {},
   "outputs": [
    {
     "data": {
      "text/plain": [
       "as_of           False\n",
       "ranked          False\n",
       "year_rank       False\n",
       "week_rank       False\n",
       "title           False\n",
       "type            False\n",
       "exclusive        True\n",
       "release_date    False\n",
       "days_top_10     False\n",
       "score           False\n",
       "dtype: bool"
      ]
     },
     "execution_count": 1361,
     "metadata": {},
     "output_type": "execute_result"
    }
   ],
   "source": [
    "df_netflix.isna().any(axis=0)"
   ]
  },
  {
   "cell_type": "code",
   "execution_count": 1362,
   "metadata": {},
   "outputs": [
    {
     "data": {
      "text/plain": [
       "np.int64(1)"
      ]
     },
     "execution_count": 1362,
     "metadata": {},
     "output_type": "execute_result"
    }
   ],
   "source": [
    "df_netflix.isna().any(axis=0).sum()"
   ]
  },
  {
   "cell_type": "code",
   "execution_count": 1363,
   "metadata": {},
   "outputs": [
    {
     "data": {
      "text/plain": [
       "exclusive\n",
       "Yes    4599\n",
       "Name: count, dtype: int64"
      ]
     },
     "execution_count": 1363,
     "metadata": {},
     "output_type": "execute_result"
    }
   ],
   "source": [
    "df_netflix.exclusive.value_counts()"
   ]
  },
  {
   "cell_type": "code",
   "execution_count": 1364,
   "metadata": {},
   "outputs": [
    {
     "data": {
      "text/plain": [
       "np.float64(35.225352112676056)"
      ]
     },
     "execution_count": 1364,
     "metadata": {},
     "output_type": "execute_result"
    }
   ],
   "source": [
    "df_netflix.isna().any(axis=1).sum() / len(df_netflix) * 100"
   ]
  },
  {
   "cell_type": "code",
   "execution_count": 1365,
   "metadata": {},
   "outputs": [
    {
     "data": {
      "text/plain": [
       "0       Yes\n",
       "1       Yes\n",
       "2        No\n",
       "3        No\n",
       "4       Yes\n",
       "       ... \n",
       "7095    Yes\n",
       "7096    Yes\n",
       "7097     No\n",
       "7098     No\n",
       "7099     No\n",
       "Name: exclusive, Length: 7100, dtype: object"
      ]
     },
     "execution_count": 1365,
     "metadata": {},
     "output_type": "execute_result"
    }
   ],
   "source": [
    "# Podemos assumir os valores ausentes como No, serão 35% do total\n",
    "df_netflix.fillna(value={'exclusive': 'No'}).exclusive"
   ]
  },
  {
   "cell_type": "code",
   "execution_count": 1366,
   "metadata": {},
   "outputs": [
    {
     "name": "stdout",
     "output_type": "stream",
     "text": [
      "<class 'pandas.core.frame.DataFrame'>\n",
      "RangeIndex: 7100 entries, 0 to 7099\n",
      "Data columns (total 10 columns):\n",
      " #   Column        Non-Null Count  Dtype         \n",
      "---  ------        --------------  -----         \n",
      " 0   as_of         7100 non-null   datetime64[ns]\n",
      " 1   ranked        7100 non-null   int64         \n",
      " 2   year_rank     7100 non-null   object        \n",
      " 3   week_rank     7100 non-null   object        \n",
      " 4   title         7100 non-null   object        \n",
      " 5   type          7100 non-null   object        \n",
      " 6   exclusive     4599 non-null   object        \n",
      " 7   release_date  7100 non-null   datetime64[ns]\n",
      " 8   days_top_10   7100 non-null   int64         \n",
      " 9   score         7100 non-null   int64         \n",
      "dtypes: datetime64[ns](2), int64(3), object(5)\n",
      "memory usage: 554.8+ KB\n"
     ]
    }
   ],
   "source": [
    "df_netflix.info()"
   ]
  },
  {
   "cell_type": "markdown",
   "metadata": {},
   "source": [
    "### Primeira análise\n",
    "\n",
    "Considerando como valor `No` os valores ausentes da coluna `exclusive`.\n",
    "\n",
    "> Podemos ter análises tendênciosas já que estamos assumindo um valor padrão p/ uma variável categórica nominal."
   ]
  },
  {
   "cell_type": "code",
   "execution_count": 1367,
   "metadata": {},
   "outputs": [],
   "source": [
    "df_netflix_filled = df_netflix.fillna('No')"
   ]
  },
  {
   "cell_type": "markdown",
   "metadata": {},
   "source": [
    "### Segunda análise\n",
    "\n",
    "Removendo as linhas com os valores ausentes da coluna `exclusive`.\n",
    "\n",
    "> Iremos remover cerca de 35% dos dados da população."
   ]
  },
  {
   "cell_type": "code",
   "execution_count": 1368,
   "metadata": {},
   "outputs": [
    {
     "name": "stdout",
     "output_type": "stream",
     "text": [
      "<class 'pandas.core.frame.DataFrame'>\n",
      "RangeIndex: 7100 entries, 0 to 7099\n",
      "Data columns (total 10 columns):\n",
      " #   Column        Non-Null Count  Dtype         \n",
      "---  ------        --------------  -----         \n",
      " 0   as_of         7100 non-null   datetime64[ns]\n",
      " 1   ranked        7100 non-null   int64         \n",
      " 2   year_rank     7100 non-null   object        \n",
      " 3   week_rank     7100 non-null   object        \n",
      " 4   title         7100 non-null   object        \n",
      " 5   type          7100 non-null   object        \n",
      " 6   exclusive     4599 non-null   object        \n",
      " 7   release_date  7100 non-null   datetime64[ns]\n",
      " 8   days_top_10   7100 non-null   int64         \n",
      " 9   score         7100 non-null   int64         \n",
      "dtypes: datetime64[ns](2), int64(3), object(5)\n",
      "memory usage: 554.8+ KB\n",
      "<class 'pandas.core.frame.DataFrame'>\n",
      "Index: 4599 entries, 0 to 7096\n",
      "Data columns (total 10 columns):\n",
      " #   Column        Non-Null Count  Dtype         \n",
      "---  ------        --------------  -----         \n",
      " 0   as_of         4599 non-null   datetime64[ns]\n",
      " 1   ranked        4599 non-null   int64         \n",
      " 2   year_rank     4599 non-null   object        \n",
      " 3   week_rank     4599 non-null   object        \n",
      " 4   title         4599 non-null   object        \n",
      " 5   type          4599 non-null   object        \n",
      " 6   exclusive     4599 non-null   object        \n",
      " 7   release_date  4599 non-null   datetime64[ns]\n",
      " 8   days_top_10   4599 non-null   int64         \n",
      " 9   score         4599 non-null   int64         \n",
      "dtypes: datetime64[ns](2), int64(3), object(5)\n",
      "memory usage: 395.2+ KB\n"
     ]
    },
    {
     "data": {
      "text/plain": [
       "(None, None)"
      ]
     },
     "execution_count": 1368,
     "metadata": {},
     "output_type": "execute_result"
    }
   ],
   "source": [
    "df_netflix.info(), df_netflix.dropna().info()"
   ]
  },
  {
   "cell_type": "code",
   "execution_count": 1369,
   "metadata": {},
   "outputs": [],
   "source": [
    "df_netflix_lin_rem = df_netflix.dropna()"
   ]
  },
  {
   "cell_type": "markdown",
   "metadata": {},
   "source": [
    "### Terceira análise\n",
    "\n",
    "Removendo a coluna com os valores ausentes da colune `exclusive`.\n",
    "\n",
    "> Iremos excluir qualquer análise que poderia ter correlação com a coluna `exclusive`."
   ]
  },
  {
   "cell_type": "code",
   "execution_count": 1370,
   "metadata": {},
   "outputs": [
    {
     "name": "stdout",
     "output_type": "stream",
     "text": [
      "<class 'pandas.core.frame.DataFrame'>\n",
      "RangeIndex: 7100 entries, 0 to 7099\n",
      "Data columns (total 10 columns):\n",
      " #   Column        Non-Null Count  Dtype         \n",
      "---  ------        --------------  -----         \n",
      " 0   as_of         7100 non-null   datetime64[ns]\n",
      " 1   ranked        7100 non-null   int64         \n",
      " 2   year_rank     7100 non-null   object        \n",
      " 3   week_rank     7100 non-null   object        \n",
      " 4   title         7100 non-null   object        \n",
      " 5   type          7100 non-null   object        \n",
      " 6   exclusive     4599 non-null   object        \n",
      " 7   release_date  7100 non-null   datetime64[ns]\n",
      " 8   days_top_10   7100 non-null   int64         \n",
      " 9   score         7100 non-null   int64         \n",
      "dtypes: datetime64[ns](2), int64(3), object(5)\n",
      "memory usage: 554.8+ KB\n",
      "<class 'pandas.core.frame.DataFrame'>\n",
      "RangeIndex: 7100 entries, 0 to 7099\n",
      "Data columns (total 9 columns):\n",
      " #   Column        Non-Null Count  Dtype         \n",
      "---  ------        --------------  -----         \n",
      " 0   as_of         7100 non-null   datetime64[ns]\n",
      " 1   ranked        7100 non-null   int64         \n",
      " 2   year_rank     7100 non-null   object        \n",
      " 3   week_rank     7100 non-null   object        \n",
      " 4   title         7100 non-null   object        \n",
      " 5   type          7100 non-null   object        \n",
      " 6   release_date  7100 non-null   datetime64[ns]\n",
      " 7   days_top_10   7100 non-null   int64         \n",
      " 8   score         7100 non-null   int64         \n",
      "dtypes: datetime64[ns](2), int64(3), object(4)\n",
      "memory usage: 499.3+ KB\n"
     ]
    },
    {
     "data": {
      "text/plain": [
       "(None, None)"
      ]
     },
     "execution_count": 1370,
     "metadata": {},
     "output_type": "execute_result"
    }
   ],
   "source": [
    "df_netflix.info(), df_netflix.dropna(axis=1).info()"
   ]
  },
  {
   "cell_type": "code",
   "execution_count": 1371,
   "metadata": {},
   "outputs": [],
   "source": [
    "df_netflix_col_rem = df_netflix.dropna(axis=1)"
   ]
  },
  {
   "cell_type": "markdown",
   "metadata": {},
   "source": [
    "## Verificando Outliers\n",
    "\n",
    "Considerando os data frames criados para cada análises iremos aplicar os métodos de análise.\n"
   ]
  },
  {
   "cell_type": "code",
   "execution_count": 1372,
   "metadata": {},
   "outputs": [
    {
     "data": {
      "text/html": [
       "<div>\n",
       "<style scoped>\n",
       "    .dataframe tbody tr th:only-of-type {\n",
       "        vertical-align: middle;\n",
       "    }\n",
       "\n",
       "    .dataframe tbody tr th {\n",
       "        vertical-align: top;\n",
       "    }\n",
       "\n",
       "    .dataframe thead th {\n",
       "        text-align: right;\n",
       "    }\n",
       "</style>\n",
       "<table border=\"1\" class=\"dataframe\">\n",
       "  <thead>\n",
       "    <tr style=\"text-align: right;\">\n",
       "      <th></th>\n",
       "      <th>as_of</th>\n",
       "      <th>ranked</th>\n",
       "      <th>release_date</th>\n",
       "      <th>days_top_10</th>\n",
       "      <th>score</th>\n",
       "    </tr>\n",
       "  </thead>\n",
       "  <tbody>\n",
       "    <tr>\n",
       "      <th>count</th>\n",
       "      <td>7100</td>\n",
       "      <td>7100.000000000000000</td>\n",
       "      <td>7100</td>\n",
       "      <td>7100.000000000000000</td>\n",
       "      <td>7100.000000000000000</td>\n",
       "    </tr>\n",
       "    <tr>\n",
       "      <th>mean</th>\n",
       "      <td>2021-03-21 12:00:00.000000256</td>\n",
       "      <td>5.500000000000000</td>\n",
       "      <td>2020-06-21 08:05:32.619718144</td>\n",
       "      <td>24.123661971830987</td>\n",
       "      <td>122.790140845070425</td>\n",
       "    </tr>\n",
       "    <tr>\n",
       "      <th>min</th>\n",
       "      <td>2020-04-01 00:00:00</td>\n",
       "      <td>1.000000000000000</td>\n",
       "      <td>2007-01-15 00:00:00</td>\n",
       "      <td>1.000000000000000</td>\n",
       "      <td>1.000000000000000</td>\n",
       "    </tr>\n",
       "    <tr>\n",
       "      <th>25%</th>\n",
       "      <td>2020-09-25 00:00:00</td>\n",
       "      <td>3.000000000000000</td>\n",
       "      <td>2020-04-26 00:00:00</td>\n",
       "      <td>3.000000000000000</td>\n",
       "      <td>19.000000000000000</td>\n",
       "    </tr>\n",
       "    <tr>\n",
       "      <th>50%</th>\n",
       "      <td>2021-03-21 12:00:00</td>\n",
       "      <td>5.500000000000000</td>\n",
       "      <td>2020-10-02 00:00:00</td>\n",
       "      <td>7.000000000000000</td>\n",
       "      <td>50.000000000000000</td>\n",
       "    </tr>\n",
       "    <tr>\n",
       "      <th>75%</th>\n",
       "      <td>2021-09-15 00:00:00</td>\n",
       "      <td>8.000000000000000</td>\n",
       "      <td>2021-05-14 00:00:00</td>\n",
       "      <td>18.000000000000000</td>\n",
       "      <td>128.000000000000000</td>\n",
       "    </tr>\n",
       "    <tr>\n",
       "      <th>max</th>\n",
       "      <td>2022-03-11 00:00:00</td>\n",
       "      <td>10.000000000000000</td>\n",
       "      <td>2022-03-04 00:00:00</td>\n",
       "      <td>428.000000000000000</td>\n",
       "      <td>1474.000000000000000</td>\n",
       "    </tr>\n",
       "    <tr>\n",
       "      <th>std</th>\n",
       "      <td>NaN</td>\n",
       "      <td>2.872483617971048</td>\n",
       "      <td>NaN</td>\n",
       "      <td>58.473789251347533</td>\n",
       "      <td>213.861642160496018</td>\n",
       "    </tr>\n",
       "  </tbody>\n",
       "</table>\n",
       "</div>"
      ],
      "text/plain": [
       "                               as_of               ranked  \\\n",
       "count                           7100 7100.000000000000000   \n",
       "mean   2021-03-21 12:00:00.000000256    5.500000000000000   \n",
       "min              2020-04-01 00:00:00    1.000000000000000   \n",
       "25%              2020-09-25 00:00:00    3.000000000000000   \n",
       "50%              2021-03-21 12:00:00    5.500000000000000   \n",
       "75%              2021-09-15 00:00:00    8.000000000000000   \n",
       "max              2022-03-11 00:00:00   10.000000000000000   \n",
       "std                              NaN    2.872483617971048   \n",
       "\n",
       "                        release_date          days_top_10                score  \n",
       "count                           7100 7100.000000000000000 7100.000000000000000  \n",
       "mean   2020-06-21 08:05:32.619718144   24.123661971830987  122.790140845070425  \n",
       "min              2007-01-15 00:00:00    1.000000000000000    1.000000000000000  \n",
       "25%              2020-04-26 00:00:00    3.000000000000000   19.000000000000000  \n",
       "50%              2020-10-02 00:00:00    7.000000000000000   50.000000000000000  \n",
       "75%              2021-05-14 00:00:00   18.000000000000000  128.000000000000000  \n",
       "max              2022-03-04 00:00:00  428.000000000000000 1474.000000000000000  \n",
       "std                              NaN   58.473789251347533  213.861642160496018  "
      ]
     },
     "execution_count": 1372,
     "metadata": {},
     "output_type": "execute_result"
    }
   ],
   "source": [
    "# variáveis quantitativas (numérias)\n",
    "# discreta: (rank[0,10])\n",
    "# continua: (score, days_top_10) \n",
    "df_netflix_filled.describe()"
   ]
  },
  {
   "cell_type": "code",
   "execution_count": 1373,
   "metadata": {},
   "outputs": [
    {
     "name": "stdout",
     "output_type": "stream",
     "text": [
      "<class 'pandas.core.frame.DataFrame'>\n",
      "RangeIndex: 7100 entries, 0 to 7099\n",
      "Data columns (total 10 columns):\n",
      " #   Column        Non-Null Count  Dtype         \n",
      "---  ------        --------------  -----         \n",
      " 0   as_of         7100 non-null   datetime64[ns]\n",
      " 1   ranked        7100 non-null   int64         \n",
      " 2   year_rank     7100 non-null   object        \n",
      " 3   week_rank     7100 non-null   object        \n",
      " 4   title         7100 non-null   object        \n",
      " 5   type          7100 non-null   object        \n",
      " 6   exclusive     7100 non-null   object        \n",
      " 7   release_date  7100 non-null   datetime64[ns]\n",
      " 8   days_top_10   7100 non-null   int64         \n",
      " 9   score         7100 non-null   int64         \n",
      "dtypes: datetime64[ns](2), int64(3), object(5)\n",
      "memory usage: 554.8+ KB\n"
     ]
    }
   ],
   "source": [
    "# variáveis qualitativas (categóricas)\n",
    "# nominal: (type, title, exclusive)\n",
    "# ordinal: (year_rank[0,10,-], week_rank[0,10,-], as_of[datetime], release_date[datetime])\n",
    "df_netflix_filled.info()"
   ]
  },
  {
   "cell_type": "code",
   "execution_count": 1374,
   "metadata": {},
   "outputs": [
    {
     "data": {
      "text/plain": [
       "[Text(0, 0, '4446'), Text(0, 0, '2611'), Text(0, 0, '41'), Text(0, 0, '2')]"
      ]
     },
     "execution_count": 1374,
     "metadata": {},
     "output_type": "execute_result"
    },
    {
     "data": {
      "image/png": "[encoded data removed]",
      "text/plain": [
       "<Figure size 640x480 with 1 Axes>"
      ]
     },
     "metadata": {},
     "output_type": "display_data"
    }
   ],
   "source": [
    "ax = df_netflix_filled.type.value_counts().plot.bar()\n",
    "ax.bar_label(ax.containers[0])"
   ]
  },
  {
   "cell_type": "code",
   "execution_count": 1375,
   "metadata": {},
   "outputs": [
    {
     "data": {
      "text/plain": [
       "array(['1', '2', '3', '4', '5', '6', '10', '7', '8', '9', '-'],\n",
       "      dtype=object)"
      ]
     },
     "execution_count": 1375,
     "metadata": {},
     "output_type": "execute_result"
    }
   ],
   "source": [
    "df_netflix_filled.year_rank.unique()"
   ]
  },
  {
   "cell_type": "code",
   "execution_count": 1376,
   "metadata": {},
   "outputs": [
    {
     "data": {
      "text/plain": [
       "[Text(0, 0, '859'),\n",
       " Text(0, 0, '708'),\n",
       " Text(0, 0, '708'),\n",
       " Text(0, 0, '706'),\n",
       " Text(0, 0, '705'),\n",
       " Text(0, 0, '699'),\n",
       " Text(0, 0, '675'),\n",
       " Text(0, 0, '633'),\n",
       " Text(0, 0, '554'),\n",
       " Text(0, 0, '481'),\n",
       " Text(0, 0, '372')]"
      ]
     },
     "execution_count": 1376,
     "metadata": {},
     "output_type": "execute_result"
    },
    {
     "data": {
      "image/png": "[encoded data removed]",
      "text/plain": [
       "<Figure size 640x480 with 1 Axes>"
      ]
     },
     "metadata": {},
     "output_type": "display_data"
    }
   ],
   "source": [
    "ax = df_netflix_filled.year_rank.value_counts().plot.bar()\n",
    "ax.bar_label(ax.containers[0])"
   ]
  },
  {
   "cell_type": "code",
   "execution_count": 1377,
   "metadata": {},
   "outputs": [
    {
     "data": {
      "text/plain": [
       "array(['1', '-', '2', '4', '5', '3', '8', '9', '6', '7', '10'],\n",
       "      dtype=object)"
      ]
     },
     "execution_count": 1377,
     "metadata": {},
     "output_type": "execute_result"
    }
   ],
   "source": [
    "df_netflix_filled.week_rank.unique()"
   ]
  },
  {
   "cell_type": "code",
   "execution_count": 1378,
   "metadata": {},
   "outputs": [
    {
     "data": {
      "text/plain": [
       "[Text(0, 0, '3968'),\n",
       " Text(0, 0, '653'),\n",
       " Text(0, 0, '564'),\n",
       " Text(0, 0, '452'),\n",
       " Text(0, 0, '336'),\n",
       " Text(0, 0, '282'),\n",
       " Text(0, 0, '240'),\n",
       " Text(0, 0, '193'),\n",
       " Text(0, 0, '167'),\n",
       " Text(0, 0, '133'),\n",
       " Text(0, 0, '112')]"
      ]
     },
     "execution_count": 1378,
     "metadata": {},
     "output_type": "execute_result"
    },
    {
     "data": {
      "image/png": "[encoded data removed]",
      "text/plain": [
       "<Figure size 640x480 with 1 Axes>"
      ]
     },
     "metadata": {},
     "output_type": "display_data"
    }
   ],
   "source": [
    "ax = df_netflix_filled.week_rank.value_counts().plot.bar()\n",
    "ax.bar_label(ax.containers[0])"
   ]
  },
  {
   "cell_type": "code",
   "execution_count": 1379,
   "metadata": {},
   "outputs": [
    {
     "data": {
      "text/plain": [
       "array([ 1,  2,  3,  4,  5,  6,  7,  8,  9, 10])"
      ]
     },
     "execution_count": 1379,
     "metadata": {},
     "output_type": "execute_result"
    }
   ],
   "source": [
    "df_netflix_filled.ranked.unique()\n"
   ]
  },
  {
   "cell_type": "code",
   "execution_count": 1380,
   "metadata": {},
   "outputs": [
    {
     "data": {
      "text/plain": [
       "[Text(0, 0, '710'),\n",
       " Text(0, 0, '710'),\n",
       " Text(0, 0, '710'),\n",
       " Text(0, 0, '710'),\n",
       " Text(0, 0, '710'),\n",
       " Text(0, 0, '710'),\n",
       " Text(0, 0, '710'),\n",
       " Text(0, 0, '710'),\n",
       " Text(0, 0, '710'),\n",
       " Text(0, 0, '710')]"
      ]
     },
     "execution_count": 1380,
     "metadata": {},
     "output_type": "execute_result"
    },
    {
     "data": {
      "image/png": "[encoded data removed]",
      "text/plain": [
       "<Figure size 640x480 with 1 Axes>"
      ]
     },
     "metadata": {},
     "output_type": "display_data"
    }
   ],
   "source": [
    "ax = df_netflix_filled.ranked.value_counts().plot.bar()\n",
    "ax.bar_label(ax.containers[0])"
   ]
  },
  {
   "cell_type": "code",
   "execution_count": 1381,
   "metadata": {},
   "outputs": [
    {
     "data": {
      "text/plain": [
       "array(['Yes', 'No'], dtype=object)"
      ]
     },
     "execution_count": 1381,
     "metadata": {},
     "output_type": "execute_result"
    }
   ],
   "source": [
    "df_netflix_filled.exclusive.unique()"
   ]
  },
  {
   "cell_type": "code",
   "execution_count": 1382,
   "metadata": {},
   "outputs": [
    {
     "data": {
      "text/plain": [
       "[Text(0, 0, '4599'), Text(0, 0, '2501')]"
      ]
     },
     "execution_count": 1382,
     "metadata": {},
     "output_type": "execute_result"
    },
    {
     "data": {
      "image/png": "[encoded data removed]",
      "text/plain": [
       "<Figure size 640x480 with 1 Axes>"
      ]
     },
     "metadata": {},
     "output_type": "display_data"
    }
   ],
   "source": [
    "ax = df_netflix_filled.exclusive.value_counts().plot.bar()\n",
    "ax.bar_label(ax.containers[0])"
   ]
  },
  {
   "cell_type": "code",
   "execution_count": 1383,
   "metadata": {},
   "outputs": [
    {
     "data": {
      "text/plain": [
       "count   7100.000000000000000\n",
       "mean     122.790140845070425\n",
       "std      213.861642160496018\n",
       "min        1.000000000000000\n",
       "25%       19.000000000000000\n",
       "50%       50.000000000000000\n",
       "75%      128.000000000000000\n",
       "max     1474.000000000000000\n",
       "Name: score, dtype: float64"
      ]
     },
     "execution_count": 1383,
     "metadata": {},
     "output_type": "execute_result"
    }
   ],
   "source": [
    "df_netflix_filled.score.describe()"
   ]
  },
  {
   "cell_type": "code",
   "execution_count": 1384,
   "metadata": {},
   "outputs": [
    {
     "data": {
      "text/plain": [
       "np.float64(174.16841506056616)"
      ]
     },
     "execution_count": 1384,
     "metadata": {},
     "output_type": "execute_result"
    }
   ],
   "source": [
    "# Coeficiênte de variação\n",
    "df_netflix_filled.score.std() / df_netflix.score.mean() * 100"
   ]
  },
  {
   "cell_type": "code",
   "execution_count": 1385,
   "metadata": {},
   "outputs": [
    {
     "data": {
      "text/plain": [
       "[Text(0, 0, '5559'),\n",
       " Text(0, 0, '856'),\n",
       " Text(0, 0, '301'),\n",
       " Text(0, 0, '137'),\n",
       " Text(0, 0, '40'),\n",
       " Text(0, 0, '28'),\n",
       " Text(0, 0, '42'),\n",
       " Text(0, 0, '36'),\n",
       " Text(0, 0, '50'),\n",
       " Text(0, 0, '51')]"
      ]
     },
     "execution_count": 1385,
     "metadata": {},
     "output_type": "execute_result"
    },
    {
     "data": {
      "image/png": "[encoded data removed]",
      "text/plain": [
       "<Figure size 640x480 with 1 Axes>"
      ]
     },
     "metadata": {},
     "output_type": "display_data"
    }
   ],
   "source": [
    "ax = df_netflix_filled.score.plot.hist()\n",
    "ax.bar_label(ax.containers[0])"
   ]
  },
  {
   "cell_type": "code",
   "execution_count": 1386,
   "metadata": {},
   "outputs": [
    {
     "data": {
      "text/plain": [
       "count   7100.000000000000000\n",
       "mean      24.123661971830987\n",
       "std       58.473789251347533\n",
       "min        1.000000000000000\n",
       "25%        3.000000000000000\n",
       "50%        7.000000000000000\n",
       "75%       18.000000000000000\n",
       "max      428.000000000000000\n",
       "Name: days_top_10, dtype: float64"
      ]
     },
     "execution_count": 1386,
     "metadata": {},
     "output_type": "execute_result"
    }
   ],
   "source": [
    "df_netflix_filled.days_top_10.describe()"
   ]
  },
  {
   "cell_type": "code",
   "execution_count": 1387,
   "metadata": {},
   "outputs": [
    {
     "data": {
      "text/plain": [
       "np.float64(242.39184465288446)"
      ]
     },
     "execution_count": 1387,
     "metadata": {},
     "output_type": "execute_result"
    }
   ],
   "source": [
    "df_netflix_filled.days_top_10.std() / df_netflix.days_top_10.mean() * 100"
   ]
  },
  {
   "cell_type": "code",
   "execution_count": 1388,
   "metadata": {},
   "outputs": [
    {
     "data": {
      "text/plain": [
       "[Text(0, 0, '6422'),\n",
       " Text(0, 0, '333'),\n",
       " Text(0, 0, '46'),\n",
       " Text(0, 0, '42'),\n",
       " Text(0, 0, '43'),\n",
       " Text(0, 0, '43'),\n",
       " Text(0, 0, '42'),\n",
       " Text(0, 0, '43'),\n",
       " Text(0, 0, '43'),\n",
       " Text(0, 0, '43')]"
      ]
     },
     "execution_count": 1388,
     "metadata": {},
     "output_type": "execute_result"
    },
    {
     "data": {
      "image/png": "[encoded data removed]",
      "text/plain": [
       "<Figure size 640x480 with 1 Axes>"
      ]
     },
     "metadata": {},
     "output_type": "display_data"
    }
   ],
   "source": [
    "ax = df_netflix_filled.days_top_10.plot.hist()\n",
    "ax.bar_label(ax.containers[0])"
   ]
  },
  {
   "cell_type": "code",
   "execution_count": 1389,
   "metadata": {},
   "outputs": [
    {
     "data": {
      "text/plain": [
       "count                             7100\n",
       "mean     2021-03-21 12:00:00.000000256\n",
       "min                2020-04-01 00:00:00\n",
       "25%                2020-09-25 00:00:00\n",
       "50%                2021-03-21 12:00:00\n",
       "75%                2021-09-15 00:00:00\n",
       "max                2022-03-11 00:00:00\n",
       "Name: as_of, dtype: object"
      ]
     },
     "execution_count": 1389,
     "metadata": {},
     "output_type": "execute_result"
    }
   ],
   "source": [
    "df_netflix_filled.as_of.describe()"
   ]
  },
  {
   "cell_type": "code",
   "execution_count": 1390,
   "metadata": {},
   "outputs": [
    {
     "data": {
      "text/plain": [
       "count                             7100\n",
       "mean     2020-06-21 08:05:32.619718144\n",
       "min                2007-01-15 00:00:00\n",
       "25%                2020-04-26 00:00:00\n",
       "50%                2020-10-02 00:00:00\n",
       "75%                2021-05-14 00:00:00\n",
       "max                2022-03-04 00:00:00\n",
       "Name: release_date, dtype: object"
      ]
     },
     "execution_count": 1390,
     "metadata": {},
     "output_type": "execute_result"
    }
   ],
   "source": [
    "df_netflix_filled.release_date.describe()"
   ]
  },
  {
   "cell_type": "code",
   "execution_count": 1391,
   "metadata": {},
   "outputs": [
    {
     "data": {
      "text/plain": [
       "0    TV Show\n",
       "Name: type, dtype: object"
      ]
     },
     "execution_count": 1391,
     "metadata": {},
     "output_type": "execute_result"
    }
   ],
   "source": [
    "df_netflix.type.mode()"
   ]
  },
  {
   "cell_type": "code",
   "execution_count": 1392,
   "metadata": {},
   "outputs": [
    {
     "data": {
      "text/plain": [
       "62.61971830985915"
      ]
     },
     "execution_count": 1392,
     "metadata": {},
     "output_type": "execute_result"
    }
   ],
   "source": [
    "len(df_netflix[df_netflix_filled.type == 'TV Show']) / len(df_netflix) * 100"
   ]
  },
  {
   "cell_type": "code",
   "execution_count": 1393,
   "metadata": {},
   "outputs": [
    {
     "data": {
      "text/plain": [
       "type\n",
       "TV Show    4446\n",
       "Movie      2611\n",
       "StandUp      41\n",
       "Concert       2\n",
       "Name: type, dtype: int64"
      ]
     },
     "execution_count": 1393,
     "metadata": {},
     "output_type": "execute_result"
    }
   ],
   "source": [
    "df_netflix.groupby('type')['type'].count().sort_values(ascending=False)"
   ]
  },
  {
   "cell_type": "code",
   "execution_count": 1394,
   "metadata": {},
   "outputs": [
    {
     "data": {
      "text/plain": [
       "[Text(0, 0, '2'), Text(0, 0, '41'), Text(0, 0, '2611'), Text(0, 0, '4446')]"
      ]
     },
     "execution_count": 1394,
     "metadata": {},
     "output_type": "execute_result"
    },
    {
     "data": {
      "image/png": "[encoded data removed]",
      "text/plain": [
       "<Figure size 1000x1000 with 1 Axes>"
      ]
     },
     "metadata": {},
     "output_type": "display_data"
    }
   ],
   "source": [
    "ax = df_netflix.groupby('type')['type'].count().sort_values().plot.barh(figsize=[10,10])\n",
    "ax.bar_label(ax.containers[0])"
   ]
  },
  {
   "cell_type": "code",
   "execution_count": 1395,
   "metadata": {},
   "outputs": [
    {
     "data": {
      "text/plain": [
       "36.774647887323944"
      ]
     },
     "execution_count": 1395,
     "metadata": {},
     "output_type": "execute_result"
    }
   ],
   "source": [
    "len(df_netflix[df_netflix.type == 'Movie']) / len(df_netflix) * 100"
   ]
  },
  {
   "cell_type": "code",
   "execution_count": 1396,
   "metadata": {},
   "outputs": [
    {
     "data": {
      "text/plain": [
       "99.3943661971831"
      ]
     },
     "execution_count": 1396,
     "metadata": {},
     "output_type": "execute_result"
    }
   ],
   "source": [
    "len(df_netflix[(df_netflix.type == 'Movie') | (df_netflix.type == 'TV Show')]) / len(df_netflix) * 100"
   ]
  },
  {
   "cell_type": "markdown",
   "metadata": {},
   "source": [
    "> 99.3% da base de dados são de shows de tv e filmes, somente 0.7% são StandUp ou Concert."
   ]
  },
  {
   "cell_type": "code",
   "execution_count": 1397,
   "metadata": {},
   "outputs": [
    {
     "data": {
      "text/plain": [
       "7057"
      ]
     },
     "execution_count": 1397,
     "metadata": {},
     "output_type": "execute_result"
    }
   ],
   "source": [
    "df_netflix_tvshow_movie = df_netflix[(df_netflix.type == 'Movie') | (df_netflix.type == 'TV Show')]\n",
    "len(df_netflix_tvshow_movie)"
   ]
  },
  {
   "cell_type": "code",
   "execution_count": 1398,
   "metadata": {},
   "outputs": [
    {
     "data": {
      "text/plain": [
       "43"
      ]
     },
     "execution_count": 1398,
     "metadata": {},
     "output_type": "execute_result"
    }
   ],
   "source": [
    "df_netflix_standup_concert = df_netflix[(df_netflix.type != 'Movie') & (df_netflix.type != 'TV Show')]\n",
    "len(df_netflix_standup_concert)"
   ]
  },
  {
   "cell_type": "code",
   "execution_count": 1399,
   "metadata": {},
   "outputs": [
    {
     "data": {
      "text/plain": [
       "4446"
      ]
     },
     "execution_count": 1399,
     "metadata": {},
     "output_type": "execute_result"
    }
   ],
   "source": [
    "df_netflix_tvshow = df_netflix[df_netflix.type == 'TV Show']\n",
    "len(df_netflix_tvshow)"
   ]
  },
  {
   "cell_type": "code",
   "execution_count": 1400,
   "metadata": {},
   "outputs": [
    {
     "data": {
      "text/plain": [
       "np.float64(30.5668016194332)"
      ]
     },
     "execution_count": 1400,
     "metadata": {},
     "output_type": "execute_result"
    }
   ],
   "source": [
    "df_netflix_tvshow.exclusive.isna().sum() / len(df_netflix_tvshow) * 100"
   ]
  },
  {
   "cell_type": "code",
   "execution_count": 1401,
   "metadata": {},
   "outputs": [
    {
     "data": {
      "text/plain": [
       "2611"
      ]
     },
     "execution_count": 1401,
     "metadata": {},
     "output_type": "execute_result"
    }
   ],
   "source": [
    "df_netflix_movie = df_netflix[df_netflix.type == 'Movie']\n",
    "len(df_netflix_movie)"
   ]
  },
  {
   "cell_type": "code",
   "execution_count": 1402,
   "metadata": {},
   "outputs": [
    {
     "data": {
      "text/plain": [
       "np.float64(43.73803140559173)"
      ]
     },
     "execution_count": 1402,
     "metadata": {},
     "output_type": "execute_result"
    }
   ],
   "source": [
    "df_netflix_movie.exclusive.isna().sum() / len(df_netflix_movie) * 100"
   ]
  },
  {
   "cell_type": "markdown",
   "metadata": {},
   "source": [
    "### Relação (exclusive X type)"
   ]
  },
  {
   "cell_type": "code",
   "execution_count": 1403,
   "metadata": {},
   "outputs": [
    {
     "data": {
      "text/html": [
       "<div>\n",
       "<style scoped>\n",
       "    .dataframe tbody tr th:only-of-type {\n",
       "        vertical-align: middle;\n",
       "    }\n",
       "\n",
       "    .dataframe tbody tr th {\n",
       "        vertical-align: top;\n",
       "    }\n",
       "\n",
       "    .dataframe thead th {\n",
       "        text-align: right;\n",
       "    }\n",
       "</style>\n",
       "<table border=\"1\" class=\"dataframe\">\n",
       "  <thead>\n",
       "    <tr style=\"text-align: right;\">\n",
       "      <th>type</th>\n",
       "      <th>Concert</th>\n",
       "      <th>Movie</th>\n",
       "      <th>StandUp</th>\n",
       "      <th>TV Show</th>\n",
       "    </tr>\n",
       "    <tr>\n",
       "      <th>exclusive</th>\n",
       "      <th></th>\n",
       "      <th></th>\n",
       "      <th></th>\n",
       "      <th></th>\n",
       "    </tr>\n",
       "  </thead>\n",
       "  <tbody>\n",
       "    <tr>\n",
       "      <th>No</th>\n",
       "      <td>0</td>\n",
       "      <td>1142</td>\n",
       "      <td>0</td>\n",
       "      <td>1359</td>\n",
       "    </tr>\n",
       "    <tr>\n",
       "      <th>Yes</th>\n",
       "      <td>2</td>\n",
       "      <td>1469</td>\n",
       "      <td>41</td>\n",
       "      <td>3087</td>\n",
       "    </tr>\n",
       "  </tbody>\n",
       "</table>\n",
       "</div>"
      ],
      "text/plain": [
       "type       Concert  Movie  StandUp  TV Show\n",
       "exclusive                                  \n",
       "No               0   1142        0     1359\n",
       "Yes              2   1469       41     3087"
      ]
     },
     "execution_count": 1403,
     "metadata": {},
     "output_type": "execute_result"
    }
   ],
   "source": [
    "pd.crosstab(df_netflix_filled.exclusive, df_netflix_filled.type)"
   ]
  },
  {
   "cell_type": "code",
   "execution_count": 1404,
   "metadata": {},
   "outputs": [
    {
     "data": {
      "text/html": [
       "<div>\n",
       "<style scoped>\n",
       "    .dataframe tbody tr th:only-of-type {\n",
       "        vertical-align: middle;\n",
       "    }\n",
       "\n",
       "    .dataframe tbody tr th {\n",
       "        vertical-align: top;\n",
       "    }\n",
       "\n",
       "    .dataframe thead th {\n",
       "        text-align: right;\n",
       "    }\n",
       "</style>\n",
       "<table border=\"1\" class=\"dataframe\">\n",
       "  <thead>\n",
       "    <tr style=\"text-align: right;\">\n",
       "      <th>type</th>\n",
       "      <th>Concert</th>\n",
       "      <th>Movie</th>\n",
       "      <th>StandUp</th>\n",
       "      <th>TV Show</th>\n",
       "      <th>Total</th>\n",
       "    </tr>\n",
       "    <tr>\n",
       "      <th>exclusive</th>\n",
       "      <th></th>\n",
       "      <th></th>\n",
       "      <th></th>\n",
       "      <th></th>\n",
       "      <th></th>\n",
       "    </tr>\n",
       "  </thead>\n",
       "  <tbody>\n",
       "    <tr>\n",
       "      <th>No</th>\n",
       "      <td>0.000000000000000</td>\n",
       "      <td>0.160845070422535</td>\n",
       "      <td>0.000000000000000</td>\n",
       "      <td>0.191408450704225</td>\n",
       "      <td>0.352253521126761</td>\n",
       "    </tr>\n",
       "    <tr>\n",
       "      <th>Yes</th>\n",
       "      <td>0.000281690140845</td>\n",
       "      <td>0.206901408450704</td>\n",
       "      <td>0.005774647887324</td>\n",
       "      <td>0.434788732394366</td>\n",
       "      <td>0.647746478873239</td>\n",
       "    </tr>\n",
       "    <tr>\n",
       "      <th>Total</th>\n",
       "      <td>0.000281690140845</td>\n",
       "      <td>0.367746478873239</td>\n",
       "      <td>0.005774647887324</td>\n",
       "      <td>0.626197183098592</td>\n",
       "      <td>1.000000000000000</td>\n",
       "    </tr>\n",
       "  </tbody>\n",
       "</table>\n",
       "</div>"
      ],
      "text/plain": [
       "type                Concert             Movie           StandUp  \\\n",
       "exclusive                                                         \n",
       "No        0.000000000000000 0.160845070422535 0.000000000000000   \n",
       "Yes       0.000281690140845 0.206901408450704 0.005774647887324   \n",
       "Total     0.000281690140845 0.367746478873239 0.005774647887324   \n",
       "\n",
       "type                TV Show             Total  \n",
       "exclusive                                      \n",
       "No        0.191408450704225 0.352253521126761  \n",
       "Yes       0.434788732394366 0.647746478873239  \n",
       "Total     0.626197183098592 1.000000000000000  "
      ]
     },
     "execution_count": 1404,
     "metadata": {},
     "output_type": "execute_result"
    }
   ],
   "source": [
    "pd.crosstab(df_netflix_filled.exclusive, df_netflix_filled.type, margins=True, margins_name='Total', normalize=True)"
   ]
  },
  {
   "cell_type": "code",
   "execution_count": 1405,
   "metadata": {},
   "outputs": [
    {
     "data": {
      "text/html": [
       "<div>\n",
       "<style scoped>\n",
       "    .dataframe tbody tr th:only-of-type {\n",
       "        vertical-align: middle;\n",
       "    }\n",
       "\n",
       "    .dataframe tbody tr th {\n",
       "        vertical-align: top;\n",
       "    }\n",
       "\n",
       "    .dataframe thead th {\n",
       "        text-align: right;\n",
       "    }\n",
       "</style>\n",
       "<table border=\"1\" class=\"dataframe\">\n",
       "  <thead>\n",
       "    <tr style=\"text-align: right;\">\n",
       "      <th>type</th>\n",
       "      <th>Concert</th>\n",
       "      <th>Movie</th>\n",
       "      <th>StandUp</th>\n",
       "      <th>TV Show</th>\n",
       "    </tr>\n",
       "    <tr>\n",
       "      <th>exclusive</th>\n",
       "      <th></th>\n",
       "      <th></th>\n",
       "      <th></th>\n",
       "      <th></th>\n",
       "    </tr>\n",
       "  </thead>\n",
       "  <tbody>\n",
       "    <tr>\n",
       "      <th>No</th>\n",
       "      <td>0.000000000000000</td>\n",
       "      <td>0.456617353058776</td>\n",
       "      <td>0.000000000000000</td>\n",
       "      <td>0.543382646941224</td>\n",
       "    </tr>\n",
       "    <tr>\n",
       "      <th>Yes</th>\n",
       "      <td>0.000434877147206</td>\n",
       "      <td>0.319417264622744</td>\n",
       "      <td>0.008914981517721</td>\n",
       "      <td>0.671232876712329</td>\n",
       "    </tr>\n",
       "    <tr>\n",
       "      <th>Total</th>\n",
       "      <td>0.000281690140845</td>\n",
       "      <td>0.367746478873239</td>\n",
       "      <td>0.005774647887324</td>\n",
       "      <td>0.626197183098592</td>\n",
       "    </tr>\n",
       "  </tbody>\n",
       "</table>\n",
       "</div>"
      ],
      "text/plain": [
       "type                Concert             Movie           StandUp  \\\n",
       "exclusive                                                         \n",
       "No        0.000000000000000 0.456617353058776 0.000000000000000   \n",
       "Yes       0.000434877147206 0.319417264622744 0.008914981517721   \n",
       "Total     0.000281690140845 0.367746478873239 0.005774647887324   \n",
       "\n",
       "type                TV Show  \n",
       "exclusive                    \n",
       "No        0.543382646941224  \n",
       "Yes       0.671232876712329  \n",
       "Total     0.626197183098592  "
      ]
     },
     "execution_count": 1405,
     "metadata": {},
     "output_type": "execute_result"
    }
   ],
   "source": [
    "pd.crosstab(df_netflix_filled.exclusive, df_netflix_filled.type, margins=True, margins_name='Total', normalize='index')"
   ]
  },
  {
   "cell_type": "code",
   "execution_count": 1406,
   "metadata": {},
   "outputs": [
    {
     "data": {
      "text/html": [
       "<div>\n",
       "<style scoped>\n",
       "    .dataframe tbody tr th:only-of-type {\n",
       "        vertical-align: middle;\n",
       "    }\n",
       "\n",
       "    .dataframe tbody tr th {\n",
       "        vertical-align: top;\n",
       "    }\n",
       "\n",
       "    .dataframe thead th {\n",
       "        text-align: right;\n",
       "    }\n",
       "</style>\n",
       "<table border=\"1\" class=\"dataframe\">\n",
       "  <thead>\n",
       "    <tr style=\"text-align: right;\">\n",
       "      <th>type</th>\n",
       "      <th>Concert</th>\n",
       "      <th>Movie</th>\n",
       "      <th>StandUp</th>\n",
       "      <th>TV Show</th>\n",
       "    </tr>\n",
       "    <tr>\n",
       "      <th>exclusive</th>\n",
       "      <th></th>\n",
       "      <th></th>\n",
       "      <th></th>\n",
       "      <th></th>\n",
       "    </tr>\n",
       "  </thead>\n",
       "  <tbody>\n",
       "    <tr>\n",
       "      <th>Yes</th>\n",
       "      <td>2</td>\n",
       "      <td>1469</td>\n",
       "      <td>41</td>\n",
       "      <td>3087</td>\n",
       "    </tr>\n",
       "  </tbody>\n",
       "</table>\n",
       "</div>"
      ],
      "text/plain": [
       "type       Concert  Movie  StandUp  TV Show\n",
       "exclusive                                  \n",
       "Yes              2   1469       41     3087"
      ]
     },
     "execution_count": 1406,
     "metadata": {},
     "output_type": "execute_result"
    }
   ],
   "source": [
    "pd.crosstab(df_netflix_lin_rem.exclusive, df_netflix_lin_rem.type)"
   ]
  },
  {
   "cell_type": "code",
   "execution_count": 1407,
   "metadata": {},
   "outputs": [
    {
     "data": {
      "text/html": [
       "<div>\n",
       "<style scoped>\n",
       "    .dataframe tbody tr th:only-of-type {\n",
       "        vertical-align: middle;\n",
       "    }\n",
       "\n",
       "    .dataframe tbody tr th {\n",
       "        vertical-align: top;\n",
       "    }\n",
       "\n",
       "    .dataframe thead th {\n",
       "        text-align: right;\n",
       "    }\n",
       "</style>\n",
       "<table border=\"1\" class=\"dataframe\">\n",
       "  <thead>\n",
       "    <tr style=\"text-align: right;\">\n",
       "      <th>type</th>\n",
       "      <th>Concert</th>\n",
       "      <th>Movie</th>\n",
       "      <th>StandUp</th>\n",
       "      <th>TV Show</th>\n",
       "      <th>Total</th>\n",
       "    </tr>\n",
       "    <tr>\n",
       "      <th>exclusive</th>\n",
       "      <th></th>\n",
       "      <th></th>\n",
       "      <th></th>\n",
       "      <th></th>\n",
       "      <th></th>\n",
       "    </tr>\n",
       "  </thead>\n",
       "  <tbody>\n",
       "    <tr>\n",
       "      <th>Yes</th>\n",
       "      <td>2</td>\n",
       "      <td>1469</td>\n",
       "      <td>41</td>\n",
       "      <td>3087</td>\n",
       "      <td>4599</td>\n",
       "    </tr>\n",
       "    <tr>\n",
       "      <th>Total</th>\n",
       "      <td>2</td>\n",
       "      <td>1469</td>\n",
       "      <td>41</td>\n",
       "      <td>3087</td>\n",
       "      <td>4599</td>\n",
       "    </tr>\n",
       "  </tbody>\n",
       "</table>\n",
       "</div>"
      ],
      "text/plain": [
       "type       Concert  Movie  StandUp  TV Show  Total\n",
       "exclusive                                         \n",
       "Yes              2   1469       41     3087   4599\n",
       "Total            2   1469       41     3087   4599"
      ]
     },
     "execution_count": 1407,
     "metadata": {},
     "output_type": "execute_result"
    }
   ],
   "source": [
    "pd.crosstab(df_netflix_lin_rem.exclusive, df_netflix_lin_rem.type, margins=True, margins_name='Total')"
   ]
  },
  {
   "cell_type": "code",
   "execution_count": 1408,
   "metadata": {},
   "outputs": [
    {
     "data": {
      "text/html": [
       "<div>\n",
       "<style scoped>\n",
       "    .dataframe tbody tr th:only-of-type {\n",
       "        vertical-align: middle;\n",
       "    }\n",
       "\n",
       "    .dataframe tbody tr th {\n",
       "        vertical-align: top;\n",
       "    }\n",
       "\n",
       "    .dataframe thead th {\n",
       "        text-align: right;\n",
       "    }\n",
       "</style>\n",
       "<table border=\"1\" class=\"dataframe\">\n",
       "  <thead>\n",
       "    <tr style=\"text-align: right;\">\n",
       "      <th>type</th>\n",
       "      <th>Concert</th>\n",
       "      <th>Movie</th>\n",
       "      <th>StandUp</th>\n",
       "      <th>TV Show</th>\n",
       "    </tr>\n",
       "    <tr>\n",
       "      <th>exclusive</th>\n",
       "      <th></th>\n",
       "      <th></th>\n",
       "      <th></th>\n",
       "      <th></th>\n",
       "    </tr>\n",
       "  </thead>\n",
       "  <tbody>\n",
       "    <tr>\n",
       "      <th>Yes</th>\n",
       "      <td>0.000434877147206</td>\n",
       "      <td>0.319417264622744</td>\n",
       "      <td>0.008914981517721</td>\n",
       "      <td>0.671232876712329</td>\n",
       "    </tr>\n",
       "    <tr>\n",
       "      <th>Total</th>\n",
       "      <td>0.000434877147206</td>\n",
       "      <td>0.319417264622744</td>\n",
       "      <td>0.008914981517721</td>\n",
       "      <td>0.671232876712329</td>\n",
       "    </tr>\n",
       "  </tbody>\n",
       "</table>\n",
       "</div>"
      ],
      "text/plain": [
       "type                Concert             Movie           StandUp  \\\n",
       "exclusive                                                         \n",
       "Yes       0.000434877147206 0.319417264622744 0.008914981517721   \n",
       "Total     0.000434877147206 0.319417264622744 0.008914981517721   \n",
       "\n",
       "type                TV Show  \n",
       "exclusive                    \n",
       "Yes       0.671232876712329  \n",
       "Total     0.671232876712329  "
      ]
     },
     "execution_count": 1408,
     "metadata": {},
     "output_type": "execute_result"
    }
   ],
   "source": [
    "pd.crosstab(df_netflix_lin_rem.exclusive, df_netflix_lin_rem.type, margins=True, margins_name='Total', normalize='index')"
   ]
  },
  {
   "cell_type": "markdown",
   "metadata": {},
   "source": [
    "### Relação (type X rank)"
   ]
  },
  {
   "cell_type": "code",
   "execution_count": 1409,
   "metadata": {},
   "outputs": [
    {
     "data": {
      "text/html": [
       "<div>\n",
       "<style scoped>\n",
       "    .dataframe tbody tr th:only-of-type {\n",
       "        vertical-align: middle;\n",
       "    }\n",
       "\n",
       "    .dataframe tbody tr th {\n",
       "        vertical-align: top;\n",
       "    }\n",
       "\n",
       "    .dataframe thead th {\n",
       "        text-align: right;\n",
       "    }\n",
       "</style>\n",
       "<table border=\"1\" class=\"dataframe\">\n",
       "  <thead>\n",
       "    <tr style=\"text-align: right;\">\n",
       "      <th>ranked</th>\n",
       "      <th>1</th>\n",
       "      <th>2</th>\n",
       "      <th>3</th>\n",
       "      <th>4</th>\n",
       "      <th>5</th>\n",
       "      <th>6</th>\n",
       "      <th>7</th>\n",
       "      <th>8</th>\n",
       "      <th>9</th>\n",
       "      <th>10</th>\n",
       "      <th>Total</th>\n",
       "    </tr>\n",
       "    <tr>\n",
       "      <th>type</th>\n",
       "      <th></th>\n",
       "      <th></th>\n",
       "      <th></th>\n",
       "      <th></th>\n",
       "      <th></th>\n",
       "      <th></th>\n",
       "      <th></th>\n",
       "      <th></th>\n",
       "      <th></th>\n",
       "      <th></th>\n",
       "      <th></th>\n",
       "    </tr>\n",
       "  </thead>\n",
       "  <tbody>\n",
       "    <tr>\n",
       "      <th>Concert</th>\n",
       "      <td>0</td>\n",
       "      <td>1</td>\n",
       "      <td>0</td>\n",
       "      <td>0</td>\n",
       "      <td>1</td>\n",
       "      <td>0</td>\n",
       "      <td>0</td>\n",
       "      <td>0</td>\n",
       "      <td>0</td>\n",
       "      <td>0</td>\n",
       "      <td>2</td>\n",
       "    </tr>\n",
       "    <tr>\n",
       "      <th>Movie</th>\n",
       "      <td>216</td>\n",
       "      <td>230</td>\n",
       "      <td>270</td>\n",
       "      <td>271</td>\n",
       "      <td>283</td>\n",
       "      <td>266</td>\n",
       "      <td>271</td>\n",
       "      <td>270</td>\n",
       "      <td>265</td>\n",
       "      <td>269</td>\n",
       "      <td>2611</td>\n",
       "    </tr>\n",
       "    <tr>\n",
       "      <th>StandUp</th>\n",
       "      <td>0</td>\n",
       "      <td>4</td>\n",
       "      <td>10</td>\n",
       "      <td>7</td>\n",
       "      <td>3</td>\n",
       "      <td>2</td>\n",
       "      <td>2</td>\n",
       "      <td>5</td>\n",
       "      <td>4</td>\n",
       "      <td>4</td>\n",
       "      <td>41</td>\n",
       "    </tr>\n",
       "    <tr>\n",
       "      <th>TV Show</th>\n",
       "      <td>494</td>\n",
       "      <td>475</td>\n",
       "      <td>430</td>\n",
       "      <td>432</td>\n",
       "      <td>423</td>\n",
       "      <td>442</td>\n",
       "      <td>437</td>\n",
       "      <td>435</td>\n",
       "      <td>441</td>\n",
       "      <td>437</td>\n",
       "      <td>4446</td>\n",
       "    </tr>\n",
       "    <tr>\n",
       "      <th>Total</th>\n",
       "      <td>710</td>\n",
       "      <td>710</td>\n",
       "      <td>710</td>\n",
       "      <td>710</td>\n",
       "      <td>710</td>\n",
       "      <td>710</td>\n",
       "      <td>710</td>\n",
       "      <td>710</td>\n",
       "      <td>710</td>\n",
       "      <td>710</td>\n",
       "      <td>7100</td>\n",
       "    </tr>\n",
       "  </tbody>\n",
       "</table>\n",
       "</div>"
      ],
      "text/plain": [
       "ranked     1    2    3    4    5    6    7    8    9   10  Total\n",
       "type                                                            \n",
       "Concert    0    1    0    0    1    0    0    0    0    0      2\n",
       "Movie    216  230  270  271  283  266  271  270  265  269   2611\n",
       "StandUp    0    4   10    7    3    2    2    5    4    4     41\n",
       "TV Show  494  475  430  432  423  442  437  435  441  437   4446\n",
       "Total    710  710  710  710  710  710  710  710  710  710   7100"
      ]
     },
     "execution_count": 1409,
     "metadata": {},
     "output_type": "execute_result"
    }
   ],
   "source": [
    "pd.crosstab(df_netflix.type, df_netflix.ranked, margins=True, margins_name='Total')"
   ]
  },
  {
   "cell_type": "code",
   "execution_count": 1410,
   "metadata": {},
   "outputs": [
    {
     "data": {
      "text/html": [
       "<div>\n",
       "<style scoped>\n",
       "    .dataframe tbody tr th:only-of-type {\n",
       "        vertical-align: middle;\n",
       "    }\n",
       "\n",
       "    .dataframe tbody tr th {\n",
       "        vertical-align: top;\n",
       "    }\n",
       "\n",
       "    .dataframe thead th {\n",
       "        text-align: right;\n",
       "    }\n",
       "</style>\n",
       "<table border=\"1\" class=\"dataframe\">\n",
       "  <thead>\n",
       "    <tr style=\"text-align: right;\">\n",
       "      <th>ranked</th>\n",
       "      <th>1</th>\n",
       "      <th>2</th>\n",
       "      <th>3</th>\n",
       "      <th>4</th>\n",
       "      <th>5</th>\n",
       "      <th>6</th>\n",
       "      <th>7</th>\n",
       "      <th>8</th>\n",
       "      <th>9</th>\n",
       "      <th>10</th>\n",
       "    </tr>\n",
       "    <tr>\n",
       "      <th>type</th>\n",
       "      <th></th>\n",
       "      <th></th>\n",
       "      <th></th>\n",
       "      <th></th>\n",
       "      <th></th>\n",
       "      <th></th>\n",
       "      <th></th>\n",
       "      <th></th>\n",
       "      <th></th>\n",
       "      <th></th>\n",
       "    </tr>\n",
       "  </thead>\n",
       "  <tbody>\n",
       "    <tr>\n",
       "      <th>Concert</th>\n",
       "      <td>0.000000000000000</td>\n",
       "      <td>0.500000000000000</td>\n",
       "      <td>0.000000000000000</td>\n",
       "      <td>0.000000000000000</td>\n",
       "      <td>0.500000000000000</td>\n",
       "      <td>0.000000000000000</td>\n",
       "      <td>0.000000000000000</td>\n",
       "      <td>0.000000000000000</td>\n",
       "      <td>0.000000000000000</td>\n",
       "      <td>0.000000000000000</td>\n",
       "    </tr>\n",
       "    <tr>\n",
       "      <th>Movie</th>\n",
       "      <td>0.082726924549981</td>\n",
       "      <td>0.088088854844887</td>\n",
       "      <td>0.103408655687476</td>\n",
       "      <td>0.103791650708541</td>\n",
       "      <td>0.108387590961318</td>\n",
       "      <td>0.101876675603217</td>\n",
       "      <td>0.103791650708541</td>\n",
       "      <td>0.103408655687476</td>\n",
       "      <td>0.101493680582152</td>\n",
       "      <td>0.103025660666411</td>\n",
       "    </tr>\n",
       "    <tr>\n",
       "      <th>StandUp</th>\n",
       "      <td>0.000000000000000</td>\n",
       "      <td>0.097560975609756</td>\n",
       "      <td>0.243902439024390</td>\n",
       "      <td>0.170731707317073</td>\n",
       "      <td>0.073170731707317</td>\n",
       "      <td>0.048780487804878</td>\n",
       "      <td>0.048780487804878</td>\n",
       "      <td>0.121951219512195</td>\n",
       "      <td>0.097560975609756</td>\n",
       "      <td>0.097560975609756</td>\n",
       "    </tr>\n",
       "    <tr>\n",
       "      <th>TV Show</th>\n",
       "      <td>0.111111111111111</td>\n",
       "      <td>0.106837606837607</td>\n",
       "      <td>0.096716149347728</td>\n",
       "      <td>0.097165991902834</td>\n",
       "      <td>0.095141700404858</td>\n",
       "      <td>0.099415204678363</td>\n",
       "      <td>0.098290598290598</td>\n",
       "      <td>0.097840755735493</td>\n",
       "      <td>0.099190283400810</td>\n",
       "      <td>0.098290598290598</td>\n",
       "    </tr>\n",
       "    <tr>\n",
       "      <th>Total</th>\n",
       "      <td>0.100000000000000</td>\n",
       "      <td>0.100000000000000</td>\n",
       "      <td>0.100000000000000</td>\n",
       "      <td>0.100000000000000</td>\n",
       "      <td>0.100000000000000</td>\n",
       "      <td>0.100000000000000</td>\n",
       "      <td>0.100000000000000</td>\n",
       "      <td>0.100000000000000</td>\n",
       "      <td>0.100000000000000</td>\n",
       "      <td>0.100000000000000</td>\n",
       "    </tr>\n",
       "  </tbody>\n",
       "</table>\n",
       "</div>"
      ],
      "text/plain": [
       "ranked                  1                 2                 3  \\\n",
       "type                                                            \n",
       "Concert 0.000000000000000 0.500000000000000 0.000000000000000   \n",
       "Movie   0.082726924549981 0.088088854844887 0.103408655687476   \n",
       "StandUp 0.000000000000000 0.097560975609756 0.243902439024390   \n",
       "TV Show 0.111111111111111 0.106837606837607 0.096716149347728   \n",
       "Total   0.100000000000000 0.100000000000000 0.100000000000000   \n",
       "\n",
       "ranked                  4                 5                 6  \\\n",
       "type                                                            \n",
       "Concert 0.000000000000000 0.500000000000000 0.000000000000000   \n",
       "Movie   0.103791650708541 0.108387590961318 0.101876675603217   \n",
       "StandUp 0.170731707317073 0.073170731707317 0.048780487804878   \n",
       "TV Show 0.097165991902834 0.095141700404858 0.099415204678363   \n",
       "Total   0.100000000000000 0.100000000000000 0.100000000000000   \n",
       "\n",
       "ranked                  7                 8                 9  \\\n",
       "type                                                            \n",
       "Concert 0.000000000000000 0.000000000000000 0.000000000000000   \n",
       "Movie   0.103791650708541 0.103408655687476 0.101493680582152   \n",
       "StandUp 0.048780487804878 0.121951219512195 0.097560975609756   \n",
       "TV Show 0.098290598290598 0.097840755735493 0.099190283400810   \n",
       "Total   0.100000000000000 0.100000000000000 0.100000000000000   \n",
       "\n",
       "ranked                 10  \n",
       "type                       \n",
       "Concert 0.000000000000000  \n",
       "Movie   0.103025660666411  \n",
       "StandUp 0.097560975609756  \n",
       "TV Show 0.098290598290598  \n",
       "Total   0.100000000000000  "
      ]
     },
     "execution_count": 1410,
     "metadata": {},
     "output_type": "execute_result"
    }
   ],
   "source": [
    "pd.crosstab(df_netflix.type, df_netflix.ranked, margins=True, margins_name='Total', normalize='index')"
   ]
  },
  {
   "cell_type": "markdown",
   "metadata": {},
   "source": [
    "### Relação (type X year_rank)"
   ]
  },
  {
   "cell_type": "code",
   "execution_count": 1411,
   "metadata": {},
   "outputs": [
    {
     "data": {
      "text/html": [
       "<div>\n",
       "<style scoped>\n",
       "    .dataframe tbody tr th:only-of-type {\n",
       "        vertical-align: middle;\n",
       "    }\n",
       "\n",
       "    .dataframe tbody tr th {\n",
       "        vertical-align: top;\n",
       "    }\n",
       "\n",
       "    .dataframe thead th {\n",
       "        text-align: right;\n",
       "    }\n",
       "</style>\n",
       "<table border=\"1\" class=\"dataframe\">\n",
       "  <thead>\n",
       "    <tr style=\"text-align: right;\">\n",
       "      <th>year_rank</th>\n",
       "      <th>-</th>\n",
       "      <th>1</th>\n",
       "      <th>10</th>\n",
       "      <th>2</th>\n",
       "      <th>3</th>\n",
       "      <th>4</th>\n",
       "      <th>5</th>\n",
       "      <th>6</th>\n",
       "      <th>7</th>\n",
       "      <th>8</th>\n",
       "      <th>9</th>\n",
       "      <th>Total</th>\n",
       "    </tr>\n",
       "    <tr>\n",
       "      <th>type</th>\n",
       "      <th></th>\n",
       "      <th></th>\n",
       "      <th></th>\n",
       "      <th></th>\n",
       "      <th></th>\n",
       "      <th></th>\n",
       "      <th></th>\n",
       "      <th></th>\n",
       "      <th></th>\n",
       "      <th></th>\n",
       "      <th></th>\n",
       "      <th></th>\n",
       "    </tr>\n",
       "  </thead>\n",
       "  <tbody>\n",
       "    <tr>\n",
       "      <th>Concert</th>\n",
       "      <td>1</td>\n",
       "      <td>0</td>\n",
       "      <td>0</td>\n",
       "      <td>1</td>\n",
       "      <td>0</td>\n",
       "      <td>0</td>\n",
       "      <td>0</td>\n",
       "      <td>0</td>\n",
       "      <td>0</td>\n",
       "      <td>0</td>\n",
       "      <td>0</td>\n",
       "      <td>2</td>\n",
       "    </tr>\n",
       "    <tr>\n",
       "      <th>Movie</th>\n",
       "      <td>405</td>\n",
       "      <td>216</td>\n",
       "      <td>121</td>\n",
       "      <td>230</td>\n",
       "      <td>268</td>\n",
       "      <td>268</td>\n",
       "      <td>278</td>\n",
       "      <td>243</td>\n",
       "      <td>225</td>\n",
       "      <td>195</td>\n",
       "      <td>162</td>\n",
       "      <td>2611</td>\n",
       "    </tr>\n",
       "    <tr>\n",
       "      <th>StandUp</th>\n",
       "      <td>8</td>\n",
       "      <td>0</td>\n",
       "      <td>1</td>\n",
       "      <td>4</td>\n",
       "      <td>10</td>\n",
       "      <td>7</td>\n",
       "      <td>3</td>\n",
       "      <td>2</td>\n",
       "      <td>2</td>\n",
       "      <td>3</td>\n",
       "      <td>1</td>\n",
       "      <td>41</td>\n",
       "    </tr>\n",
       "    <tr>\n",
       "      <th>TV Show</th>\n",
       "      <td>445</td>\n",
       "      <td>492</td>\n",
       "      <td>250</td>\n",
       "      <td>473</td>\n",
       "      <td>428</td>\n",
       "      <td>430</td>\n",
       "      <td>418</td>\n",
       "      <td>430</td>\n",
       "      <td>406</td>\n",
       "      <td>356</td>\n",
       "      <td>318</td>\n",
       "      <td>4446</td>\n",
       "    </tr>\n",
       "    <tr>\n",
       "      <th>Total</th>\n",
       "      <td>859</td>\n",
       "      <td>708</td>\n",
       "      <td>372</td>\n",
       "      <td>708</td>\n",
       "      <td>706</td>\n",
       "      <td>705</td>\n",
       "      <td>699</td>\n",
       "      <td>675</td>\n",
       "      <td>633</td>\n",
       "      <td>554</td>\n",
       "      <td>481</td>\n",
       "      <td>7100</td>\n",
       "    </tr>\n",
       "  </tbody>\n",
       "</table>\n",
       "</div>"
      ],
      "text/plain": [
       "year_rank    -    1   10    2    3    4    5    6    7    8    9  Total\n",
       "type                                                                   \n",
       "Concert      1    0    0    1    0    0    0    0    0    0    0      2\n",
       "Movie      405  216  121  230  268  268  278  243  225  195  162   2611\n",
       "StandUp      8    0    1    4   10    7    3    2    2    3    1     41\n",
       "TV Show    445  492  250  473  428  430  418  430  406  356  318   4446\n",
       "Total      859  708  372  708  706  705  699  675  633  554  481   7100"
      ]
     },
     "execution_count": 1411,
     "metadata": {},
     "output_type": "execute_result"
    }
   ],
   "source": [
    "pd.crosstab(df_netflix.type, df_netflix.year_rank, margins=True, margins_name='Total')"
   ]
  },
  {
   "cell_type": "code",
   "execution_count": 1412,
   "metadata": {},
   "outputs": [
    {
     "data": {
      "text/html": [
       "<div>\n",
       "<style scoped>\n",
       "    .dataframe tbody tr th:only-of-type {\n",
       "        vertical-align: middle;\n",
       "    }\n",
       "\n",
       "    .dataframe tbody tr th {\n",
       "        vertical-align: top;\n",
       "    }\n",
       "\n",
       "    .dataframe thead th {\n",
       "        text-align: right;\n",
       "    }\n",
       "</style>\n",
       "<table border=\"1\" class=\"dataframe\">\n",
       "  <thead>\n",
       "    <tr style=\"text-align: right;\">\n",
       "      <th>year_rank</th>\n",
       "      <th>-</th>\n",
       "      <th>1</th>\n",
       "      <th>10</th>\n",
       "      <th>2</th>\n",
       "      <th>3</th>\n",
       "      <th>4</th>\n",
       "      <th>5</th>\n",
       "      <th>6</th>\n",
       "      <th>7</th>\n",
       "      <th>8</th>\n",
       "      <th>9</th>\n",
       "    </tr>\n",
       "    <tr>\n",
       "      <th>type</th>\n",
       "      <th></th>\n",
       "      <th></th>\n",
       "      <th></th>\n",
       "      <th></th>\n",
       "      <th></th>\n",
       "      <th></th>\n",
       "      <th></th>\n",
       "      <th></th>\n",
       "      <th></th>\n",
       "      <th></th>\n",
       "      <th></th>\n",
       "    </tr>\n",
       "  </thead>\n",
       "  <tbody>\n",
       "    <tr>\n",
       "      <th>Concert</th>\n",
       "      <td>0.500000000000000</td>\n",
       "      <td>0.000000000000000</td>\n",
       "      <td>0.000000000000000</td>\n",
       "      <td>0.500000000000000</td>\n",
       "      <td>0.000000000000000</td>\n",
       "      <td>0.000000000000000</td>\n",
       "      <td>0.000000000000000</td>\n",
       "      <td>0.000000000000000</td>\n",
       "      <td>0.000000000000000</td>\n",
       "      <td>0.000000000000000</td>\n",
       "      <td>0.000000000000000</td>\n",
       "    </tr>\n",
       "    <tr>\n",
       "      <th>Movie</th>\n",
       "      <td>0.155112983531214</td>\n",
       "      <td>0.082726924549981</td>\n",
       "      <td>0.046342397548832</td>\n",
       "      <td>0.088088854844887</td>\n",
       "      <td>0.102642665645347</td>\n",
       "      <td>0.102642665645347</td>\n",
       "      <td>0.106472615855994</td>\n",
       "      <td>0.093067790118728</td>\n",
       "      <td>0.086173879739563</td>\n",
       "      <td>0.074684029107622</td>\n",
       "      <td>0.062045193412486</td>\n",
       "    </tr>\n",
       "    <tr>\n",
       "      <th>StandUp</th>\n",
       "      <td>0.195121951219512</td>\n",
       "      <td>0.000000000000000</td>\n",
       "      <td>0.024390243902439</td>\n",
       "      <td>0.097560975609756</td>\n",
       "      <td>0.243902439024390</td>\n",
       "      <td>0.170731707317073</td>\n",
       "      <td>0.073170731707317</td>\n",
       "      <td>0.048780487804878</td>\n",
       "      <td>0.048780487804878</td>\n",
       "      <td>0.073170731707317</td>\n",
       "      <td>0.024390243902439</td>\n",
       "    </tr>\n",
       "    <tr>\n",
       "      <th>TV Show</th>\n",
       "      <td>0.100089968511021</td>\n",
       "      <td>0.110661268556005</td>\n",
       "      <td>0.056230319388214</td>\n",
       "      <td>0.106387764282501</td>\n",
       "      <td>0.096266306792623</td>\n",
       "      <td>0.096716149347728</td>\n",
       "      <td>0.094017094017094</td>\n",
       "      <td>0.096716149347728</td>\n",
       "      <td>0.091318038686460</td>\n",
       "      <td>0.080071974808817</td>\n",
       "      <td>0.071524966261808</td>\n",
       "    </tr>\n",
       "    <tr>\n",
       "      <th>Total</th>\n",
       "      <td>0.120985915492958</td>\n",
       "      <td>0.099718309859155</td>\n",
       "      <td>0.052394366197183</td>\n",
       "      <td>0.099718309859155</td>\n",
       "      <td>0.099436619718310</td>\n",
       "      <td>0.099295774647887</td>\n",
       "      <td>0.098450704225352</td>\n",
       "      <td>0.095070422535211</td>\n",
       "      <td>0.089154929577465</td>\n",
       "      <td>0.078028169014085</td>\n",
       "      <td>0.067746478873239</td>\n",
       "    </tr>\n",
       "  </tbody>\n",
       "</table>\n",
       "</div>"
      ],
      "text/plain": [
       "year_rank                 -                 1                10  \\\n",
       "type                                                              \n",
       "Concert   0.500000000000000 0.000000000000000 0.000000000000000   \n",
       "Movie     0.155112983531214 0.082726924549981 0.046342397548832   \n",
       "StandUp   0.195121951219512 0.000000000000000 0.024390243902439   \n",
       "TV Show   0.100089968511021 0.110661268556005 0.056230319388214   \n",
       "Total     0.120985915492958 0.099718309859155 0.052394366197183   \n",
       "\n",
       "year_rank                 2                 3                 4  \\\n",
       "type                                                              \n",
       "Concert   0.500000000000000 0.000000000000000 0.000000000000000   \n",
       "Movie     0.088088854844887 0.102642665645347 0.102642665645347   \n",
       "StandUp   0.097560975609756 0.243902439024390 0.170731707317073   \n",
       "TV Show   0.106387764282501 0.096266306792623 0.096716149347728   \n",
       "Total     0.099718309859155 0.099436619718310 0.099295774647887   \n",
       "\n",
       "year_rank                 5                 6                 7  \\\n",
       "type                                                              \n",
       "Concert   0.000000000000000 0.000000000000000 0.000000000000000   \n",
       "Movie     0.106472615855994 0.093067790118728 0.086173879739563   \n",
       "StandUp   0.073170731707317 0.048780487804878 0.048780487804878   \n",
       "TV Show   0.094017094017094 0.096716149347728 0.091318038686460   \n",
       "Total     0.098450704225352 0.095070422535211 0.089154929577465   \n",
       "\n",
       "year_rank                 8                 9  \n",
       "type                                           \n",
       "Concert   0.000000000000000 0.000000000000000  \n",
       "Movie     0.074684029107622 0.062045193412486  \n",
       "StandUp   0.073170731707317 0.024390243902439  \n",
       "TV Show   0.080071974808817 0.071524966261808  \n",
       "Total     0.078028169014085 0.067746478873239  "
      ]
     },
     "execution_count": 1412,
     "metadata": {},
     "output_type": "execute_result"
    }
   ],
   "source": [
    "pd.crosstab(df_netflix.type, df_netflix.year_rank, margins=True, margins_name='Total', normalize='index')"
   ]
  },
  {
   "cell_type": "markdown",
   "metadata": {},
   "source": [
    "### Relação (type X week_rank)"
   ]
  },
  {
   "cell_type": "code",
   "execution_count": 1413,
   "metadata": {},
   "outputs": [
    {
     "data": {
      "text/html": [
       "<div>\n",
       "<style scoped>\n",
       "    .dataframe tbody tr th:only-of-type {\n",
       "        vertical-align: middle;\n",
       "    }\n",
       "\n",
       "    .dataframe tbody tr th {\n",
       "        vertical-align: top;\n",
       "    }\n",
       "\n",
       "    .dataframe thead th {\n",
       "        text-align: right;\n",
       "    }\n",
       "</style>\n",
       "<table border=\"1\" class=\"dataframe\">\n",
       "  <thead>\n",
       "    <tr style=\"text-align: right;\">\n",
       "      <th>week_rank</th>\n",
       "      <th>-</th>\n",
       "      <th>1</th>\n",
       "      <th>10</th>\n",
       "      <th>2</th>\n",
       "      <th>3</th>\n",
       "      <th>4</th>\n",
       "      <th>5</th>\n",
       "      <th>6</th>\n",
       "      <th>7</th>\n",
       "      <th>8</th>\n",
       "      <th>9</th>\n",
       "      <th>Total</th>\n",
       "    </tr>\n",
       "    <tr>\n",
       "      <th>type</th>\n",
       "      <th></th>\n",
       "      <th></th>\n",
       "      <th></th>\n",
       "      <th></th>\n",
       "      <th></th>\n",
       "      <th></th>\n",
       "      <th></th>\n",
       "      <th></th>\n",
       "      <th></th>\n",
       "      <th></th>\n",
       "      <th></th>\n",
       "      <th></th>\n",
       "    </tr>\n",
       "  </thead>\n",
       "  <tbody>\n",
       "    <tr>\n",
       "      <th>Concert</th>\n",
       "      <td>2</td>\n",
       "      <td>0</td>\n",
       "      <td>0</td>\n",
       "      <td>0</td>\n",
       "      <td>0</td>\n",
       "      <td>0</td>\n",
       "      <td>0</td>\n",
       "      <td>0</td>\n",
       "      <td>0</td>\n",
       "      <td>0</td>\n",
       "      <td>0</td>\n",
       "      <td>2</td>\n",
       "    </tr>\n",
       "    <tr>\n",
       "      <th>Movie</th>\n",
       "      <td>1942</td>\n",
       "      <td>164</td>\n",
       "      <td>21</td>\n",
       "      <td>124</td>\n",
       "      <td>97</td>\n",
       "      <td>72</td>\n",
       "      <td>59</td>\n",
       "      <td>46</td>\n",
       "      <td>38</td>\n",
       "      <td>21</td>\n",
       "      <td>27</td>\n",
       "      <td>2611</td>\n",
       "    </tr>\n",
       "    <tr>\n",
       "      <th>StandUp</th>\n",
       "      <td>29</td>\n",
       "      <td>0</td>\n",
       "      <td>0</td>\n",
       "      <td>2</td>\n",
       "      <td>5</td>\n",
       "      <td>4</td>\n",
       "      <td>1</td>\n",
       "      <td>0</td>\n",
       "      <td>0</td>\n",
       "      <td>0</td>\n",
       "      <td>0</td>\n",
       "      <td>41</td>\n",
       "    </tr>\n",
       "    <tr>\n",
       "      <th>TV Show</th>\n",
       "      <td>1995</td>\n",
       "      <td>489</td>\n",
       "      <td>91</td>\n",
       "      <td>438</td>\n",
       "      <td>350</td>\n",
       "      <td>260</td>\n",
       "      <td>222</td>\n",
       "      <td>194</td>\n",
       "      <td>155</td>\n",
       "      <td>146</td>\n",
       "      <td>106</td>\n",
       "      <td>4446</td>\n",
       "    </tr>\n",
       "    <tr>\n",
       "      <th>Total</th>\n",
       "      <td>3968</td>\n",
       "      <td>653</td>\n",
       "      <td>112</td>\n",
       "      <td>564</td>\n",
       "      <td>452</td>\n",
       "      <td>336</td>\n",
       "      <td>282</td>\n",
       "      <td>240</td>\n",
       "      <td>193</td>\n",
       "      <td>167</td>\n",
       "      <td>133</td>\n",
       "      <td>7100</td>\n",
       "    </tr>\n",
       "  </tbody>\n",
       "</table>\n",
       "</div>"
      ],
      "text/plain": [
       "week_rank     -    1   10    2    3    4    5    6    7    8    9  Total\n",
       "type                                                                    \n",
       "Concert       2    0    0    0    0    0    0    0    0    0    0      2\n",
       "Movie      1942  164   21  124   97   72   59   46   38   21   27   2611\n",
       "StandUp      29    0    0    2    5    4    1    0    0    0    0     41\n",
       "TV Show    1995  489   91  438  350  260  222  194  155  146  106   4446\n",
       "Total      3968  653  112  564  452  336  282  240  193  167  133   7100"
      ]
     },
     "execution_count": 1413,
     "metadata": {},
     "output_type": "execute_result"
    }
   ],
   "source": [
    "pd.crosstab(df_netflix.type, df_netflix.week_rank, margins=True, margins_name='Total')"
   ]
  },
  {
   "cell_type": "code",
   "execution_count": 1414,
   "metadata": {},
   "outputs": [
    {
     "data": {
      "text/html": [
       "<div>\n",
       "<style scoped>\n",
       "    .dataframe tbody tr th:only-of-type {\n",
       "        vertical-align: middle;\n",
       "    }\n",
       "\n",
       "    .dataframe tbody tr th {\n",
       "        vertical-align: top;\n",
       "    }\n",
       "\n",
       "    .dataframe thead th {\n",
       "        text-align: right;\n",
       "    }\n",
       "</style>\n",
       "<table border=\"1\" class=\"dataframe\">\n",
       "  <thead>\n",
       "    <tr style=\"text-align: right;\">\n",
       "      <th>week_rank</th>\n",
       "      <th>-</th>\n",
       "      <th>1</th>\n",
       "      <th>10</th>\n",
       "      <th>2</th>\n",
       "      <th>3</th>\n",
       "      <th>4</th>\n",
       "      <th>5</th>\n",
       "      <th>6</th>\n",
       "      <th>7</th>\n",
       "      <th>8</th>\n",
       "      <th>9</th>\n",
       "    </tr>\n",
       "    <tr>\n",
       "      <th>type</th>\n",
       "      <th></th>\n",
       "      <th></th>\n",
       "      <th></th>\n",
       "      <th></th>\n",
       "      <th></th>\n",
       "      <th></th>\n",
       "      <th></th>\n",
       "      <th></th>\n",
       "      <th></th>\n",
       "      <th></th>\n",
       "      <th></th>\n",
       "    </tr>\n",
       "  </thead>\n",
       "  <tbody>\n",
       "    <tr>\n",
       "      <th>Concert</th>\n",
       "      <td>1.000000000000000</td>\n",
       "      <td>0.000000000000000</td>\n",
       "      <td>0.000000000000000</td>\n",
       "      <td>0.000000000000000</td>\n",
       "      <td>0.000000000000000</td>\n",
       "      <td>0.000000000000000</td>\n",
       "      <td>0.000000000000000</td>\n",
       "      <td>0.000000000000000</td>\n",
       "      <td>0.000000000000000</td>\n",
       "      <td>0.000000000000000</td>\n",
       "      <td>0.000000000000000</td>\n",
       "    </tr>\n",
       "    <tr>\n",
       "      <th>Movie</th>\n",
       "      <td>0.743776330907698</td>\n",
       "      <td>0.062811183454615</td>\n",
       "      <td>0.008042895442359</td>\n",
       "      <td>0.047491382612026</td>\n",
       "      <td>0.037150517043278</td>\n",
       "      <td>0.027575641516660</td>\n",
       "      <td>0.022596706242819</td>\n",
       "      <td>0.017617770968977</td>\n",
       "      <td>0.014553810800460</td>\n",
       "      <td>0.008042895442359</td>\n",
       "      <td>0.010340865568748</td>\n",
       "    </tr>\n",
       "    <tr>\n",
       "      <th>StandUp</th>\n",
       "      <td>0.707317073170732</td>\n",
       "      <td>0.000000000000000</td>\n",
       "      <td>0.000000000000000</td>\n",
       "      <td>0.048780487804878</td>\n",
       "      <td>0.121951219512195</td>\n",
       "      <td>0.097560975609756</td>\n",
       "      <td>0.024390243902439</td>\n",
       "      <td>0.000000000000000</td>\n",
       "      <td>0.000000000000000</td>\n",
       "      <td>0.000000000000000</td>\n",
       "      <td>0.000000000000000</td>\n",
       "    </tr>\n",
       "    <tr>\n",
       "      <th>TV Show</th>\n",
       "      <td>0.448717948717949</td>\n",
       "      <td>0.109986504723347</td>\n",
       "      <td>0.020467836257310</td>\n",
       "      <td>0.098515519568151</td>\n",
       "      <td>0.078722447143500</td>\n",
       "      <td>0.058479532163743</td>\n",
       "      <td>0.049932523616734</td>\n",
       "      <td>0.043634727845254</td>\n",
       "      <td>0.034862798020693</td>\n",
       "      <td>0.032838506522717</td>\n",
       "      <td>0.023841655420603</td>\n",
       "    </tr>\n",
       "    <tr>\n",
       "      <th>Total</th>\n",
       "      <td>0.558873239436620</td>\n",
       "      <td>0.091971830985915</td>\n",
       "      <td>0.015774647887324</td>\n",
       "      <td>0.079436619718310</td>\n",
       "      <td>0.063661971830986</td>\n",
       "      <td>0.047323943661972</td>\n",
       "      <td>0.039718309859155</td>\n",
       "      <td>0.033802816901408</td>\n",
       "      <td>0.027183098591549</td>\n",
       "      <td>0.023521126760563</td>\n",
       "      <td>0.018732394366197</td>\n",
       "    </tr>\n",
       "  </tbody>\n",
       "</table>\n",
       "</div>"
      ],
      "text/plain": [
       "week_rank                 -                 1                10  \\\n",
       "type                                                              \n",
       "Concert   1.000000000000000 0.000000000000000 0.000000000000000   \n",
       "Movie     0.743776330907698 0.062811183454615 0.008042895442359   \n",
       "StandUp   0.707317073170732 0.000000000000000 0.000000000000000   \n",
       "TV Show   0.448717948717949 0.109986504723347 0.020467836257310   \n",
       "Total     0.558873239436620 0.091971830985915 0.015774647887324   \n",
       "\n",
       "week_rank                 2                 3                 4  \\\n",
       "type                                                              \n",
       "Concert   0.000000000000000 0.000000000000000 0.000000000000000   \n",
       "Movie     0.047491382612026 0.037150517043278 0.027575641516660   \n",
       "StandUp   0.048780487804878 0.121951219512195 0.097560975609756   \n",
       "TV Show   0.098515519568151 0.078722447143500 0.058479532163743   \n",
       "Total     0.079436619718310 0.063661971830986 0.047323943661972   \n",
       "\n",
       "week_rank                 5                 6                 7  \\\n",
       "type                                                              \n",
       "Concert   0.000000000000000 0.000000000000000 0.000000000000000   \n",
       "Movie     0.022596706242819 0.017617770968977 0.014553810800460   \n",
       "StandUp   0.024390243902439 0.000000000000000 0.000000000000000   \n",
       "TV Show   0.049932523616734 0.043634727845254 0.034862798020693   \n",
       "Total     0.039718309859155 0.033802816901408 0.027183098591549   \n",
       "\n",
       "week_rank                 8                 9  \n",
       "type                                           \n",
       "Concert   0.000000000000000 0.000000000000000  \n",
       "Movie     0.008042895442359 0.010340865568748  \n",
       "StandUp   0.000000000000000 0.000000000000000  \n",
       "TV Show   0.032838506522717 0.023841655420603  \n",
       "Total     0.023521126760563 0.018732394366197  "
      ]
     },
     "execution_count": 1414,
     "metadata": {},
     "output_type": "execute_result"
    }
   ],
   "source": [
    "pd.crosstab(df_netflix.type, df_netflix.week_rank, margins=True, margins_name='Total', normalize='index')"
   ]
  },
  {
   "cell_type": "markdown",
   "metadata": {},
   "source": [
    "### Relação (exclusive X rank)"
   ]
  },
  {
   "cell_type": "code",
   "execution_count": 1415,
   "metadata": {},
   "outputs": [
    {
     "data": {
      "text/html": [
       "<div>\n",
       "<style scoped>\n",
       "    .dataframe tbody tr th:only-of-type {\n",
       "        vertical-align: middle;\n",
       "    }\n",
       "\n",
       "    .dataframe tbody tr th {\n",
       "        vertical-align: top;\n",
       "    }\n",
       "\n",
       "    .dataframe thead th {\n",
       "        text-align: right;\n",
       "    }\n",
       "</style>\n",
       "<table border=\"1\" class=\"dataframe\">\n",
       "  <thead>\n",
       "    <tr style=\"text-align: right;\">\n",
       "      <th>ranked</th>\n",
       "      <th>1</th>\n",
       "      <th>2</th>\n",
       "      <th>3</th>\n",
       "      <th>4</th>\n",
       "      <th>5</th>\n",
       "      <th>6</th>\n",
       "      <th>7</th>\n",
       "      <th>8</th>\n",
       "      <th>9</th>\n",
       "      <th>10</th>\n",
       "      <th>Total</th>\n",
       "    </tr>\n",
       "    <tr>\n",
       "      <th>exclusive</th>\n",
       "      <th></th>\n",
       "      <th></th>\n",
       "      <th></th>\n",
       "      <th></th>\n",
       "      <th></th>\n",
       "      <th></th>\n",
       "      <th></th>\n",
       "      <th></th>\n",
       "      <th></th>\n",
       "      <th></th>\n",
       "      <th></th>\n",
       "    </tr>\n",
       "  </thead>\n",
       "  <tbody>\n",
       "    <tr>\n",
       "      <th>No</th>\n",
       "      <td>119</td>\n",
       "      <td>135</td>\n",
       "      <td>184</td>\n",
       "      <td>216</td>\n",
       "      <td>238</td>\n",
       "      <td>292</td>\n",
       "      <td>308</td>\n",
       "      <td>342</td>\n",
       "      <td>332</td>\n",
       "      <td>335</td>\n",
       "      <td>2501</td>\n",
       "    </tr>\n",
       "    <tr>\n",
       "      <th>Yes</th>\n",
       "      <td>591</td>\n",
       "      <td>575</td>\n",
       "      <td>526</td>\n",
       "      <td>494</td>\n",
       "      <td>472</td>\n",
       "      <td>418</td>\n",
       "      <td>402</td>\n",
       "      <td>368</td>\n",
       "      <td>378</td>\n",
       "      <td>375</td>\n",
       "      <td>4599</td>\n",
       "    </tr>\n",
       "    <tr>\n",
       "      <th>Total</th>\n",
       "      <td>710</td>\n",
       "      <td>710</td>\n",
       "      <td>710</td>\n",
       "      <td>710</td>\n",
       "      <td>710</td>\n",
       "      <td>710</td>\n",
       "      <td>710</td>\n",
       "      <td>710</td>\n",
       "      <td>710</td>\n",
       "      <td>710</td>\n",
       "      <td>7100</td>\n",
       "    </tr>\n",
       "  </tbody>\n",
       "</table>\n",
       "</div>"
      ],
      "text/plain": [
       "ranked       1    2    3    4    5    6    7    8    9   10  Total\n",
       "exclusive                                                         \n",
       "No         119  135  184  216  238  292  308  342  332  335   2501\n",
       "Yes        591  575  526  494  472  418  402  368  378  375   4599\n",
       "Total      710  710  710  710  710  710  710  710  710  710   7100"
      ]
     },
     "execution_count": 1415,
     "metadata": {},
     "output_type": "execute_result"
    }
   ],
   "source": [
    "pd.crosstab(df_netflix_filled.exclusive, df_netflix_filled.ranked, margins=True, margins_name='Total')"
   ]
  },
  {
   "cell_type": "code",
   "execution_count": 1416,
   "metadata": {},
   "outputs": [
    {
     "data": {
      "text/html": [
       "<div>\n",
       "<style scoped>\n",
       "    .dataframe tbody tr th:only-of-type {\n",
       "        vertical-align: middle;\n",
       "    }\n",
       "\n",
       "    .dataframe tbody tr th {\n",
       "        vertical-align: top;\n",
       "    }\n",
       "\n",
       "    .dataframe thead th {\n",
       "        text-align: right;\n",
       "    }\n",
       "</style>\n",
       "<table border=\"1\" class=\"dataframe\">\n",
       "  <thead>\n",
       "    <tr style=\"text-align: right;\">\n",
       "      <th>ranked</th>\n",
       "      <th>1</th>\n",
       "      <th>2</th>\n",
       "      <th>3</th>\n",
       "      <th>4</th>\n",
       "      <th>5</th>\n",
       "      <th>6</th>\n",
       "      <th>7</th>\n",
       "      <th>8</th>\n",
       "      <th>9</th>\n",
       "      <th>10</th>\n",
       "    </tr>\n",
       "    <tr>\n",
       "      <th>exclusive</th>\n",
       "      <th></th>\n",
       "      <th></th>\n",
       "      <th></th>\n",
       "      <th></th>\n",
       "      <th></th>\n",
       "      <th></th>\n",
       "      <th></th>\n",
       "      <th></th>\n",
       "      <th></th>\n",
       "      <th></th>\n",
       "    </tr>\n",
       "  </thead>\n",
       "  <tbody>\n",
       "    <tr>\n",
       "      <th>No</th>\n",
       "      <td>0.047580967612955</td>\n",
       "      <td>0.053978408636545</td>\n",
       "      <td>0.073570571771291</td>\n",
       "      <td>0.086365453818473</td>\n",
       "      <td>0.095161935225910</td>\n",
       "      <td>0.116753298680528</td>\n",
       "      <td>0.123150739704118</td>\n",
       "      <td>0.136745301879248</td>\n",
       "      <td>0.132746901239504</td>\n",
       "      <td>0.133946421431427</td>\n",
       "    </tr>\n",
       "    <tr>\n",
       "      <th>Yes</th>\n",
       "      <td>0.128506196999348</td>\n",
       "      <td>0.125027179821700</td>\n",
       "      <td>0.114372689715155</td>\n",
       "      <td>0.107414655359861</td>\n",
       "      <td>0.102631006740596</td>\n",
       "      <td>0.090889323766036</td>\n",
       "      <td>0.087410306588389</td>\n",
       "      <td>0.080017395085888</td>\n",
       "      <td>0.082191780821918</td>\n",
       "      <td>0.081539465101109</td>\n",
       "    </tr>\n",
       "    <tr>\n",
       "      <th>Total</th>\n",
       "      <td>0.100000000000000</td>\n",
       "      <td>0.100000000000000</td>\n",
       "      <td>0.100000000000000</td>\n",
       "      <td>0.100000000000000</td>\n",
       "      <td>0.100000000000000</td>\n",
       "      <td>0.100000000000000</td>\n",
       "      <td>0.100000000000000</td>\n",
       "      <td>0.100000000000000</td>\n",
       "      <td>0.100000000000000</td>\n",
       "      <td>0.100000000000000</td>\n",
       "    </tr>\n",
       "  </tbody>\n",
       "</table>\n",
       "</div>"
      ],
      "text/plain": [
       "ranked                    1                 2                 3  \\\n",
       "exclusive                                                         \n",
       "No        0.047580967612955 0.053978408636545 0.073570571771291   \n",
       "Yes       0.128506196999348 0.125027179821700 0.114372689715155   \n",
       "Total     0.100000000000000 0.100000000000000 0.100000000000000   \n",
       "\n",
       "ranked                    4                 5                 6  \\\n",
       "exclusive                                                         \n",
       "No        0.086365453818473 0.095161935225910 0.116753298680528   \n",
       "Yes       0.107414655359861 0.102631006740596 0.090889323766036   \n",
       "Total     0.100000000000000 0.100000000000000 0.100000000000000   \n",
       "\n",
       "ranked                    7                 8                 9  \\\n",
       "exclusive                                                         \n",
       "No        0.123150739704118 0.136745301879248 0.132746901239504   \n",
       "Yes       0.087410306588389 0.080017395085888 0.082191780821918   \n",
       "Total     0.100000000000000 0.100000000000000 0.100000000000000   \n",
       "\n",
       "ranked                   10  \n",
       "exclusive                    \n",
       "No        0.133946421431427  \n",
       "Yes       0.081539465101109  \n",
       "Total     0.100000000000000  "
      ]
     },
     "execution_count": 1416,
     "metadata": {},
     "output_type": "execute_result"
    }
   ],
   "source": [
    "pd.crosstab(df_netflix_filled.exclusive, df_netflix_filled.ranked, margins=True, margins_name='Total', normalize='index')"
   ]
  },
  {
   "cell_type": "markdown",
   "metadata": {},
   "source": [
    "### Teste Chi2 (exclusive X type)\n",
    "\n",
    "Utilizando o DataFrame que substituiu os valores ausentes, 'exclusive', p/ o valor padrão 'No'."
   ]
  },
  {
   "cell_type": "code",
   "execution_count": 1417,
   "metadata": {},
   "outputs": [],
   "source": [
    "from scipy.stats import chi2_contingency"
   ]
  },
  {
   "cell_type": "code",
   "execution_count": 1418,
   "metadata": {},
   "outputs": [],
   "source": [
    "# Chi-Square\n",
    "df_crosstab_exclusive = pd.crosstab(df_netflix_filled.exclusive, df_netflix_filled.type)"
   ]
  },
  {
   "cell_type": "code",
   "execution_count": 1419,
   "metadata": {},
   "outputs": [
    {
     "data": {
      "text/plain": [
       "Chi2ContingencyResult(statistic=np.float64(148.59513081815038), pvalue=np.float64(5.294359140867615e-32), dof=3, expected_freq=array([[7.04507042e-01, 9.19733944e+02, 1.44423944e+01, 1.56611915e+03],\n",
       "       [1.29549296e+00, 1.69126606e+03, 2.65576056e+01, 2.87988085e+03]]))"
      ]
     },
     "execution_count": 1419,
     "metadata": {},
     "output_type": "execute_result"
    }
   ],
   "source": [
    "chi_netflix_exclusive = chi2_contingency(df_crosstab_exclusive)\n",
    "chi_netflix_exclusive"
   ]
  },
  {
   "cell_type": "code",
   "execution_count": 1420,
   "metadata": {},
   "outputs": [
    {
     "data": {
      "text/html": [
       "<div>\n",
       "<style scoped>\n",
       "    .dataframe tbody tr th:only-of-type {\n",
       "        vertical-align: middle;\n",
       "    }\n",
       "\n",
       "    .dataframe tbody tr th {\n",
       "        vertical-align: top;\n",
       "    }\n",
       "\n",
       "    .dataframe thead th {\n",
       "        text-align: right;\n",
       "    }\n",
       "</style>\n",
       "<table border=\"1\" class=\"dataframe\">\n",
       "  <thead>\n",
       "    <tr style=\"text-align: right;\">\n",
       "      <th></th>\n",
       "      <th>Chi2</th>\n",
       "      <th>pvalues</th>\n",
       "    </tr>\n",
       "  </thead>\n",
       "  <tbody>\n",
       "    <tr>\n",
       "      <th>0</th>\n",
       "      <td>148.595130818150380</td>\n",
       "      <td>0.000000000000000</td>\n",
       "    </tr>\n",
       "  </tbody>\n",
       "</table>\n",
       "</div>"
      ],
      "text/plain": [
       "                 Chi2           pvalues\n",
       "0 148.595130818150380 0.000000000000000"
      ]
     },
     "execution_count": 1420,
     "metadata": {},
     "output_type": "execute_result"
    }
   ],
   "source": [
    "pd.set_option('display.float_format', lambda x: \"{:.15f}\".format(x))\n",
    "scores_exclusive = pd.Series(chi_netflix_exclusive[0])\n",
    "pvalues_exclusive = pd.Series(chi_netflix_exclusive[1])\n",
    "df_chi_exclusive = pd.DataFrame({'Chi2': scores_exclusive, 'pvalues': pvalues_exclusive})\n",
    "df_chi_exclusive"
   ]
  },
  {
   "cell_type": "markdown",
   "metadata": {},
   "source": [
    "**Conclusão**: Adotando valores 'No' p/ valores ausentes em 'exclusive', temos o P-Value < 0.05, podemos afirmar há uma forte relação entre exclusivo netflix e o tipo de conteúdo."
   ]
  },
  {
   "cell_type": "code",
   "execution_count": 1421,
   "metadata": {},
   "outputs": [],
   "source": [
    "def chi_report(x, y):\n",
    "    df_crosstab = pd.crosstab(x, y)\n",
    "    chi = chi2_contingency(df_crosstab)\n",
    "    scores = pd.Series(chi[0])\n",
    "    pvalues = pd.Series(chi[1])\n",
    "    df_chi = pd.DataFrame({'Chi2': scores, 'pvalues': pvalues})\n",
    "    return df_chi"
   ]
  },
  {
   "cell_type": "markdown",
   "metadata": {},
   "source": [
    "### Teste Chi2 (exclusive X type)\n",
    "\n",
    "Utilizando o DataFrame que removeu as linhas dos valores ausentes, 'exclusive'."
   ]
  },
  {
   "cell_type": "code",
   "execution_count": 1422,
   "metadata": {},
   "outputs": [
    {
     "data": {
      "text/html": [
       "<div>\n",
       "<style scoped>\n",
       "    .dataframe tbody tr th:only-of-type {\n",
       "        vertical-align: middle;\n",
       "    }\n",
       "\n",
       "    .dataframe tbody tr th {\n",
       "        vertical-align: top;\n",
       "    }\n",
       "\n",
       "    .dataframe thead th {\n",
       "        text-align: right;\n",
       "    }\n",
       "</style>\n",
       "<table border=\"1\" class=\"dataframe\">\n",
       "  <thead>\n",
       "    <tr style=\"text-align: right;\">\n",
       "      <th></th>\n",
       "      <th>Chi2</th>\n",
       "      <th>pvalues</th>\n",
       "    </tr>\n",
       "  </thead>\n",
       "  <tbody>\n",
       "    <tr>\n",
       "      <th>0</th>\n",
       "      <td>0.000000000000000</td>\n",
       "      <td>1.000000000000000</td>\n",
       "    </tr>\n",
       "  </tbody>\n",
       "</table>\n",
       "</div>"
      ],
      "text/plain": [
       "               Chi2           pvalues\n",
       "0 0.000000000000000 1.000000000000000"
      ]
     },
     "execution_count": 1422,
     "metadata": {},
     "output_type": "execute_result"
    }
   ],
   "source": [
    "chi_report(df_netflix_lin_rem.exclusive, df_netflix_lin_rem.type)"
   ]
  },
  {
   "cell_type": "markdown",
   "metadata": {},
   "source": [
    "**Conclusão**: Adotando a remoção das linhas c/ valores ausentes, temos o P-Value >= 0.05, podemos afirmar que não há relação entre exclusivo netflix o o tipo de conteúdo."
   ]
  },
  {
   "cell_type": "markdown",
   "metadata": {},
   "source": [
    "### Teste Chi2 (type X rank)\n",
    "\n",
    "Considerando todos os dados, com valores ausentes."
   ]
  },
  {
   "cell_type": "code",
   "execution_count": 1423,
   "metadata": {},
   "outputs": [
    {
     "data": {
      "text/html": [
       "<div>\n",
       "<style scoped>\n",
       "    .dataframe tbody tr th:only-of-type {\n",
       "        vertical-align: middle;\n",
       "    }\n",
       "\n",
       "    .dataframe tbody tr th {\n",
       "        vertical-align: top;\n",
       "    }\n",
       "\n",
       "    .dataframe thead th {\n",
       "        text-align: right;\n",
       "    }\n",
       "</style>\n",
       "<table border=\"1\" class=\"dataframe\">\n",
       "  <thead>\n",
       "    <tr style=\"text-align: right;\">\n",
       "      <th></th>\n",
       "      <th>Chi2</th>\n",
       "      <th>pvalues</th>\n",
       "    </tr>\n",
       "  </thead>\n",
       "  <tbody>\n",
       "    <tr>\n",
       "      <th>0</th>\n",
       "      <td>50.335726191828229</td>\n",
       "      <td>0.004161254068443</td>\n",
       "    </tr>\n",
       "  </tbody>\n",
       "</table>\n",
       "</div>"
      ],
      "text/plain": [
       "                Chi2           pvalues\n",
       "0 50.335726191828229 0.004161254068443"
      ]
     },
     "execution_count": 1423,
     "metadata": {},
     "output_type": "execute_result"
    }
   ],
   "source": [
    "chi_report(df_netflix.type, df_netflix.ranked)"
   ]
  },
  {
   "cell_type": "markdown",
   "metadata": {},
   "source": [
    "**Conclusão**: P-Value < 0.05, podemos afirmar uma forte relação entre o tipo de conteúdo e o rank geral do conteúdo."
   ]
  },
  {
   "cell_type": "code",
   "execution_count": 1424,
   "metadata": {},
   "outputs": [
    {
     "data": {
      "text/html": [
       "<div>\n",
       "<style scoped>\n",
       "    .dataframe tbody tr th:only-of-type {\n",
       "        vertical-align: middle;\n",
       "    }\n",
       "\n",
       "    .dataframe tbody tr th {\n",
       "        vertical-align: top;\n",
       "    }\n",
       "\n",
       "    .dataframe thead th {\n",
       "        text-align: right;\n",
       "    }\n",
       "</style>\n",
       "<table border=\"1\" class=\"dataframe\">\n",
       "  <thead>\n",
       "    <tr style=\"text-align: right;\">\n",
       "      <th></th>\n",
       "      <th>Chi2</th>\n",
       "      <th>pvalues</th>\n",
       "    </tr>\n",
       "  </thead>\n",
       "  <tbody>\n",
       "    <tr>\n",
       "      <th>0</th>\n",
       "      <td>97.631208864361469</td>\n",
       "      <td>0.000000004377381</td>\n",
       "    </tr>\n",
       "  </tbody>\n",
       "</table>\n",
       "</div>"
      ],
      "text/plain": [
       "                Chi2           pvalues\n",
       "0 97.631208864361469 0.000000004377381"
      ]
     },
     "execution_count": 1424,
     "metadata": {},
     "output_type": "execute_result"
    }
   ],
   "source": [
    "chi_report(df_netflix.type, df_netflix.year_rank)"
   ]
  },
  {
   "cell_type": "markdown",
   "metadata": {},
   "source": [
    "**Conclusão**: P-Value < 0.05, podemos afirmar uma forte relação entre o tipo de conteúdo e o rank anual do conteúdo, mais forte que em relação ao rank geral."
   ]
  },
  {
   "cell_type": "code",
   "execution_count": 1425,
   "metadata": {},
   "outputs": [
    {
     "data": {
      "text/html": [
       "<div>\n",
       "<style scoped>\n",
       "    .dataframe tbody tr th:only-of-type {\n",
       "        vertical-align: middle;\n",
       "    }\n",
       "\n",
       "    .dataframe tbody tr th {\n",
       "        vertical-align: top;\n",
       "    }\n",
       "\n",
       "    .dataframe thead th {\n",
       "        text-align: right;\n",
       "    }\n",
       "</style>\n",
       "<table border=\"1\" class=\"dataframe\">\n",
       "  <thead>\n",
       "    <tr style=\"text-align: right;\">\n",
       "      <th></th>\n",
       "      <th>Chi2</th>\n",
       "      <th>pvalues</th>\n",
       "    </tr>\n",
       "  </thead>\n",
       "  <tbody>\n",
       "    <tr>\n",
       "      <th>0</th>\n",
       "      <td>608.809253992144022</td>\n",
       "      <td>0.000000000000000</td>\n",
       "    </tr>\n",
       "  </tbody>\n",
       "</table>\n",
       "</div>"
      ],
      "text/plain": [
       "                 Chi2           pvalues\n",
       "0 608.809253992144022 0.000000000000000"
      ]
     },
     "execution_count": 1425,
     "metadata": {},
     "output_type": "execute_result"
    }
   ],
   "source": [
    "chi_report(df_netflix.type, df_netflix.week_rank)"
   ]
  },
  {
   "cell_type": "markdown",
   "metadata": {},
   "source": [
    "**Conclusão**: P-Value < 0.05, podemos afirmar uma forte relação entre o tipo de conteúdo e o rank mensal do conteúdo, mais forte que em relação ao rank anual e mais forte ainda que o rank geral."
   ]
  },
  {
   "cell_type": "markdown",
   "metadata": {},
   "source": [
    "### Teste Chi2 (type X rank)\n",
    "\n",
    "Utilizando a população que substituiu os valores ausentes por 'No', em 'exclusive'."
   ]
  },
  {
   "cell_type": "code",
   "execution_count": 1426,
   "metadata": {},
   "outputs": [
    {
     "data": {
      "text/html": [
       "<div>\n",
       "<style scoped>\n",
       "    .dataframe tbody tr th:only-of-type {\n",
       "        vertical-align: middle;\n",
       "    }\n",
       "\n",
       "    .dataframe tbody tr th {\n",
       "        vertical-align: top;\n",
       "    }\n",
       "\n",
       "    .dataframe thead th {\n",
       "        text-align: right;\n",
       "    }\n",
       "</style>\n",
       "<table border=\"1\" class=\"dataframe\">\n",
       "  <thead>\n",
       "    <tr style=\"text-align: right;\">\n",
       "      <th></th>\n",
       "      <th>Chi2</th>\n",
       "      <th>pvalues</th>\n",
       "    </tr>\n",
       "  </thead>\n",
       "  <tbody>\n",
       "    <tr>\n",
       "      <th>0</th>\n",
       "      <td>0.000000000000000</td>\n",
       "      <td>1.000000000000000</td>\n",
       "    </tr>\n",
       "  </tbody>\n",
       "</table>\n",
       "</div>"
      ],
      "text/plain": [
       "               Chi2           pvalues\n",
       "0 0.000000000000000 1.000000000000000"
      ]
     },
     "execution_count": 1426,
     "metadata": {},
     "output_type": "execute_result"
    }
   ],
   "source": [
    "chi_report(df_netflix_filled.type, df_netflix_filled.rank)"
   ]
  },
  {
   "cell_type": "code",
   "execution_count": 1427,
   "metadata": {},
   "outputs": [
    {
     "data": {
      "text/html": [
       "<div>\n",
       "<style scoped>\n",
       "    .dataframe tbody tr th:only-of-type {\n",
       "        vertical-align: middle;\n",
       "    }\n",
       "\n",
       "    .dataframe tbody tr th {\n",
       "        vertical-align: top;\n",
       "    }\n",
       "\n",
       "    .dataframe thead th {\n",
       "        text-align: right;\n",
       "    }\n",
       "</style>\n",
       "<table border=\"1\" class=\"dataframe\">\n",
       "  <thead>\n",
       "    <tr style=\"text-align: right;\">\n",
       "      <th></th>\n",
       "      <th>Chi2</th>\n",
       "      <th>pvalues</th>\n",
       "    </tr>\n",
       "  </thead>\n",
       "  <tbody>\n",
       "    <tr>\n",
       "      <th>0</th>\n",
       "      <td>97.631208864361469</td>\n",
       "      <td>0.000000004377381</td>\n",
       "    </tr>\n",
       "  </tbody>\n",
       "</table>\n",
       "</div>"
      ],
      "text/plain": [
       "                Chi2           pvalues\n",
       "0 97.631208864361469 0.000000004377381"
      ]
     },
     "execution_count": 1427,
     "metadata": {},
     "output_type": "execute_result"
    }
   ],
   "source": [
    "chi_report(df_netflix_filled.type, df_netflix_filled.year_rank)"
   ]
  },
  {
   "cell_type": "code",
   "execution_count": 1428,
   "metadata": {},
   "outputs": [
    {
     "data": {
      "text/html": [
       "<div>\n",
       "<style scoped>\n",
       "    .dataframe tbody tr th:only-of-type {\n",
       "        vertical-align: middle;\n",
       "    }\n",
       "\n",
       "    .dataframe tbody tr th {\n",
       "        vertical-align: top;\n",
       "    }\n",
       "\n",
       "    .dataframe thead th {\n",
       "        text-align: right;\n",
       "    }\n",
       "</style>\n",
       "<table border=\"1\" class=\"dataframe\">\n",
       "  <thead>\n",
       "    <tr style=\"text-align: right;\">\n",
       "      <th></th>\n",
       "      <th>Chi2</th>\n",
       "      <th>pvalues</th>\n",
       "    </tr>\n",
       "  </thead>\n",
       "  <tbody>\n",
       "    <tr>\n",
       "      <th>0</th>\n",
       "      <td>608.809253992144022</td>\n",
       "      <td>0.000000000000000</td>\n",
       "    </tr>\n",
       "  </tbody>\n",
       "</table>\n",
       "</div>"
      ],
      "text/plain": [
       "                 Chi2           pvalues\n",
       "0 608.809253992144022 0.000000000000000"
      ]
     },
     "execution_count": 1428,
     "metadata": {},
     "output_type": "execute_result"
    }
   ],
   "source": [
    "chi_report(df_netflix_filled.type, df_netflix_filled.week_rank)"
   ]
  },
  {
   "cell_type": "markdown",
   "metadata": {},
   "source": [
    "### Test Chi2 (type X rank)\n",
    "\n",
    "Considerando a população que removeu as linhas com valores ausentes e que removeu a coluna exclusive."
   ]
  },
  {
   "cell_type": "code",
   "execution_count": 1429,
   "metadata": {},
   "outputs": [
    {
     "data": {
      "text/plain": [
       "(               Chi2           pvalues\n",
       " 0 0.000000000000000 1.000000000000000,\n",
       "                 Chi2           pvalues\n",
       " 0 62.580856698515383 0.000443426334728,\n",
       "                  Chi2           pvalues\n",
       " 0 198.860093673346171 0.000000000000000)"
      ]
     },
     "execution_count": 1429,
     "metadata": {},
     "output_type": "execute_result"
    }
   ],
   "source": [
    "chi_report(df_netflix_lin_rem.type, df_netflix_lin_rem.rank), \\\n",
    "chi_report(df_netflix_lin_rem.type, df_netflix_lin_rem.year_rank), \\\n",
    "chi_report(df_netflix_lin_rem.type, df_netflix_lin_rem.week_rank)"
   ]
  },
  {
   "cell_type": "code",
   "execution_count": 1430,
   "metadata": {},
   "outputs": [
    {
     "data": {
      "text/plain": [
       "(               Chi2           pvalues\n",
       " 0 0.000000000000000 1.000000000000000,\n",
       "                 Chi2           pvalues\n",
       " 0 97.631208864361469 0.000000004377381,\n",
       "                  Chi2           pvalues\n",
       " 0 608.809253992144022 0.000000000000000)"
      ]
     },
     "execution_count": 1430,
     "metadata": {},
     "output_type": "execute_result"
    }
   ],
   "source": [
    "chi_report(df_netflix_col_rem.type, df_netflix_col_rem.rank), \\\n",
    "chi_report(df_netflix_col_rem.type, df_netflix_col_rem.year_rank), \\\n",
    "chi_report(df_netflix_col_rem.type, df_netflix_col_rem.week_rank)"
   ]
  },
  {
   "cell_type": "markdown",
   "metadata": {},
   "source": [
    "**Conclusão**: Podemos ver que a influência dos valores ausentes somente foi identificada na população que removeu a coluna 'exclusive'. Mas nenhuma influência que altere a relação entre tipo de conteúdo e seu rank."
   ]
  },
  {
   "cell_type": "markdown",
   "metadata": {},
   "source": [
    "### Relação (days_top_10 X score)"
   ]
  },
  {
   "cell_type": "code",
   "execution_count": 1431,
   "metadata": {},
   "outputs": [
    {
     "data": {
      "text/plain": [
       "np.float64(0.9624135870948406)"
      ]
     },
     "execution_count": 1431,
     "metadata": {},
     "output_type": "execute_result"
    }
   ],
   "source": [
    "df_netflix.days_top_10.corr(df_netflix.score)"
   ]
  },
  {
   "cell_type": "code",
   "execution_count": 1432,
   "metadata": {},
   "outputs": [
    {
     "data": {
      "text/plain": [
       "np.float64(0.9564224154143054)"
      ]
     },
     "execution_count": 1432,
     "metadata": {},
     "output_type": "execute_result"
    }
   ],
   "source": [
    "df_netflix.days_top_10.corr(df_netflix.score, method='spearman')"
   ]
  },
  {
   "cell_type": "code",
   "execution_count": 1433,
   "metadata": {},
   "outputs": [
    {
     "data": {
      "text/plain": [
       "np.float64(0.8447874425058308)"
      ]
     },
     "execution_count": 1433,
     "metadata": {},
     "output_type": "execute_result"
    }
   ],
   "source": [
    "df_netflix.days_top_10.corr(df_netflix.score, method='kendall')"
   ]
  },
  {
   "cell_type": "code",
   "execution_count": 1434,
   "metadata": {},
   "outputs": [
    {
     "data": {
      "text/plain": [
       "<Axes: xlabel='days_top_10', ylabel='score'>"
      ]
     },
     "execution_count": 1434,
     "metadata": {},
     "output_type": "execute_result"
    },
    {
     "data": {
      "image/png": "[encoded data removed]",
      "text/plain": [
       "<Figure size 640x480 with 1 Axes>"
      ]
     },
     "metadata": {},
     "output_type": "display_data"
    }
   ],
   "source": [
    "df_netflix.plot.scatter(x=\"days_top_10\", y=\"score\")"
   ]
  },
  {
   "cell_type": "markdown",
   "metadata": {},
   "source": [
    "### Relação (rank X score)"
   ]
  },
  {
   "cell_type": "code",
   "execution_count": 1435,
   "metadata": {},
   "outputs": [
    {
     "data": {
      "text/plain": [
       "np.float64(0.09776897062650593)"
      ]
     },
     "execution_count": 1435,
     "metadata": {},
     "output_type": "execute_result"
    }
   ],
   "source": [
    "df_netflix.ranked.corr(df_netflix.score)"
   ]
  },
  {
   "cell_type": "markdown",
   "metadata": {},
   "source": [
    "### Outlier (score)"
   ]
  },
  {
   "cell_type": "code",
   "execution_count": 1436,
   "metadata": {},
   "outputs": [
    {
     "data": {
      "text/plain": [
       "<Axes: >"
      ]
     },
     "execution_count": 1436,
     "metadata": {},
     "output_type": "execute_result"
    },
    {
     "data": {
      "image/png": "[encoded data removed]",
      "text/plain": [
       "<Figure size 640x480 with 1 Axes>"
      ]
     },
     "metadata": {},
     "output_type": "display_data"
    }
   ],
   "source": [
    "df_netflix.score.plot.box()"
   ]
  },
  {
   "cell_type": "code",
   "execution_count": 1437,
   "metadata": {},
   "outputs": [
    {
     "data": {
      "text/plain": [
       "<Axes: >"
      ]
     },
     "execution_count": 1437,
     "metadata": {},
     "output_type": "execute_result"
    },
    {
     "data": {
      "image/png": "[encoded data removed]",
      "text/plain": [
       "<Figure size 640x480 with 1 Axes>"
      ]
     },
     "metadata": {},
     "output_type": "display_data"
    }
   ],
   "source": [
    "df_netflix_lin_rem.score.plot.box()"
   ]
  },
  {
   "cell_type": "code",
   "execution_count": 1438,
   "metadata": {},
   "outputs": [
    {
     "data": {
      "text/plain": [
       "score    Axes(0.125,0.11;0.775x0.77)\n",
       "dtype: object"
      ]
     },
     "execution_count": 1438,
     "metadata": {},
     "output_type": "execute_result"
    },
    {
     "data": {
      "image/png": "[encoded data removed]",
      "text/plain": [
       "<Figure size 640x480 with 1 Axes>"
      ]
     },
     "metadata": {},
     "output_type": "display_data"
    }
   ],
   "source": [
    "df_netflix_lin_rem.plot.box(column=['score'], by=['type'])"
   ]
  },
  {
   "cell_type": "code",
   "execution_count": 1439,
   "metadata": {},
   "outputs": [
    {
     "data": {
      "text/plain": [
       "<Axes: >"
      ]
     },
     "execution_count": 1439,
     "metadata": {},
     "output_type": "execute_result"
    },
    {
     "data": {
      "image/png": "[encoded data removed]",
      "text/plain": [
       "<Figure size 640x480 with 1 Axes>"
      ]
     },
     "metadata": {},
     "output_type": "display_data"
    }
   ],
   "source": [
    "df_netflix_tvshow_movie.score.hist()"
   ]
  },
  {
   "cell_type": "code",
   "execution_count": 1440,
   "metadata": {},
   "outputs": [],
   "source": [
    "def iqr(df, var):\n",
    "    q1 = df[var].quantile(.25)\n",
    "    q3 = df[var].quantile(.75)\n",
    "    iqr = q3 - q1\n",
    "    lim_inf = q1 - (iqr * 1.5)\n",
    "    lim_sup = q3 + (iqr * 1.5)\n",
    "    return df[(df[var] < lim_inf) | (df[var] > lim_sup)]"
   ]
  },
  {
   "cell_type": "code",
   "execution_count": 1441,
   "metadata": {},
   "outputs": [
    {
     "data": {
      "text/html": [
       "<div>\n",
       "<style scoped>\n",
       "    .dataframe tbody tr th:only-of-type {\n",
       "        vertical-align: middle;\n",
       "    }\n",
       "\n",
       "    .dataframe tbody tr th {\n",
       "        vertical-align: top;\n",
       "    }\n",
       "\n",
       "    .dataframe thead th {\n",
       "        text-align: right;\n",
       "    }\n",
       "</style>\n",
       "<table border=\"1\" class=\"dataframe\">\n",
       "  <thead>\n",
       "    <tr style=\"text-align: right;\">\n",
       "      <th></th>\n",
       "      <th>as_of</th>\n",
       "      <th>ranked</th>\n",
       "      <th>year_rank</th>\n",
       "      <th>week_rank</th>\n",
       "      <th>title</th>\n",
       "      <th>type</th>\n",
       "      <th>exclusive</th>\n",
       "      <th>release_date</th>\n",
       "      <th>days_top_10</th>\n",
       "      <th>score</th>\n",
       "    </tr>\n",
       "  </thead>\n",
       "  <tbody>\n",
       "    <tr>\n",
       "      <th>247</th>\n",
       "      <td>2020-04-25</td>\n",
       "      <td>8</td>\n",
       "      <td>7</td>\n",
       "      <td>2</td>\n",
       "      <td>Tiger King: Murder, Mayhem …</td>\n",
       "      <td>TV Show</td>\n",
       "      <td>Yes</td>\n",
       "      <td>2020-03-20</td>\n",
       "      <td>33</td>\n",
       "      <td>295</td>\n",
       "    </tr>\n",
       "    <tr>\n",
       "      <th>255</th>\n",
       "      <td>2020-04-26</td>\n",
       "      <td>6</td>\n",
       "      <td>8</td>\n",
       "      <td>3</td>\n",
       "      <td>Tiger King: Murder, Mayhem …</td>\n",
       "      <td>TV Show</td>\n",
       "      <td>Yes</td>\n",
       "      <td>2020-03-20</td>\n",
       "      <td>34</td>\n",
       "      <td>300</td>\n",
       "    </tr>\n",
       "    <tr>\n",
       "      <th>269</th>\n",
       "      <td>2020-04-27</td>\n",
       "      <td>10</td>\n",
       "      <td>6</td>\n",
       "      <td>4</td>\n",
       "      <td>Tiger King: Murder, Mayhem …</td>\n",
       "      <td>TV Show</td>\n",
       "      <td>Yes</td>\n",
       "      <td>2020-03-20</td>\n",
       "      <td>35</td>\n",
       "      <td>301</td>\n",
       "    </tr>\n",
       "    <tr>\n",
       "      <th>2382</th>\n",
       "      <td>2020-11-25</td>\n",
       "      <td>3</td>\n",
       "      <td>2</td>\n",
       "      <td>3</td>\n",
       "      <td>The Queenâs Gambit</td>\n",
       "      <td>TV Show</td>\n",
       "      <td>Yes</td>\n",
       "      <td>2020-10-23</td>\n",
       "      <td>33</td>\n",
       "      <td>296</td>\n",
       "    </tr>\n",
       "    <tr>\n",
       "      <th>2393</th>\n",
       "      <td>2020-11-26</td>\n",
       "      <td>4</td>\n",
       "      <td>3</td>\n",
       "      <td>3</td>\n",
       "      <td>The Queenâs Gambit</td>\n",
       "      <td>TV Show</td>\n",
       "      <td>Yes</td>\n",
       "      <td>2020-10-23</td>\n",
       "      <td>34</td>\n",
       "      <td>303</td>\n",
       "    </tr>\n",
       "    <tr>\n",
       "      <th>...</th>\n",
       "      <td>...</td>\n",
       "      <td>...</td>\n",
       "      <td>...</td>\n",
       "      <td>...</td>\n",
       "      <td>...</td>\n",
       "      <td>...</td>\n",
       "      <td>...</td>\n",
       "      <td>...</td>\n",
       "      <td>...</td>\n",
       "      <td>...</td>\n",
       "    </tr>\n",
       "    <tr>\n",
       "      <th>7008</th>\n",
       "      <td>2022-03-02</td>\n",
       "      <td>9</td>\n",
       "      <td>6</td>\n",
       "      <td>3</td>\n",
       "      <td>Sweet Magnolias</td>\n",
       "      <td>TV Show</td>\n",
       "      <td>Yes</td>\n",
       "      <td>2020-05-19</td>\n",
       "      <td>45</td>\n",
       "      <td>344</td>\n",
       "    </tr>\n",
       "    <tr>\n",
       "      <th>7063</th>\n",
       "      <td>2022-03-08</td>\n",
       "      <td>4</td>\n",
       "      <td>4</td>\n",
       "      <td>4</td>\n",
       "      <td>Love is Blind</td>\n",
       "      <td>TV Show</td>\n",
       "      <td>Yes</td>\n",
       "      <td>2020-02-13</td>\n",
       "      <td>43</td>\n",
       "      <td>295</td>\n",
       "    </tr>\n",
       "    <tr>\n",
       "      <th>7074</th>\n",
       "      <td>2022-03-09</td>\n",
       "      <td>5</td>\n",
       "      <td>4</td>\n",
       "      <td>5</td>\n",
       "      <td>Love is Blind</td>\n",
       "      <td>TV Show</td>\n",
       "      <td>Yes</td>\n",
       "      <td>2020-02-13</td>\n",
       "      <td>44</td>\n",
       "      <td>301</td>\n",
       "    </tr>\n",
       "    <tr>\n",
       "      <th>7085</th>\n",
       "      <td>2022-03-10</td>\n",
       "      <td>6</td>\n",
       "      <td>5</td>\n",
       "      <td>5</td>\n",
       "      <td>Love is Blind</td>\n",
       "      <td>TV Show</td>\n",
       "      <td>Yes</td>\n",
       "      <td>2020-02-13</td>\n",
       "      <td>45</td>\n",
       "      <td>306</td>\n",
       "    </tr>\n",
       "    <tr>\n",
       "      <th>7094</th>\n",
       "      <td>2022-03-11</td>\n",
       "      <td>5</td>\n",
       "      <td>6</td>\n",
       "      <td>6</td>\n",
       "      <td>Love is Blind</td>\n",
       "      <td>TV Show</td>\n",
       "      <td>Yes</td>\n",
       "      <td>2020-02-13</td>\n",
       "      <td>46</td>\n",
       "      <td>312</td>\n",
       "    </tr>\n",
       "  </tbody>\n",
       "</table>\n",
       "<p>688 rows × 10 columns</p>\n",
       "</div>"
      ],
      "text/plain": [
       "          as_of  ranked year_rank week_rank                         title  \\\n",
       "247  2020-04-25       8         7         2  Tiger King: Murder, Mayhem …   \n",
       "255  2020-04-26       6         8         3  Tiger King: Murder, Mayhem …   \n",
       "269  2020-04-27      10         6         4  Tiger King: Murder, Mayhem …   \n",
       "2382 2020-11-25       3         2         3          The Queenâs Gambit   \n",
       "2393 2020-11-26       4         3         3          The Queenâs Gambit   \n",
       "...         ...     ...       ...       ...                           ...   \n",
       "7008 2022-03-02       9         6         3               Sweet Magnolias   \n",
       "7063 2022-03-08       4         4         4                 Love is Blind   \n",
       "7074 2022-03-09       5         4         5                 Love is Blind   \n",
       "7085 2022-03-10       6         5         5                 Love is Blind   \n",
       "7094 2022-03-11       5         6         6                 Love is Blind   \n",
       "\n",
       "         type exclusive release_date  days_top_10  score  \n",
       "247   TV Show       Yes   2020-03-20           33    295  \n",
       "255   TV Show       Yes   2020-03-20           34    300  \n",
       "269   TV Show       Yes   2020-03-20           35    301  \n",
       "2382  TV Show       Yes   2020-10-23           33    296  \n",
       "2393  TV Show       Yes   2020-10-23           34    303  \n",
       "...       ...       ...          ...          ...    ...  \n",
       "7008  TV Show       Yes   2020-05-19           45    344  \n",
       "7063  TV Show       Yes   2020-02-13           43    295  \n",
       "7074  TV Show       Yes   2020-02-13           44    301  \n",
       "7085  TV Show       Yes   2020-02-13           45    306  \n",
       "7094  TV Show       Yes   2020-02-13           46    312  \n",
       "\n",
       "[688 rows x 10 columns]"
      ]
     },
     "execution_count": 1441,
     "metadata": {},
     "output_type": "execute_result"
    }
   ],
   "source": [
    "iqr(df_netflix_tvshow_movie, 'score')"
   ]
  },
  {
   "cell_type": "markdown",
   "metadata": {},
   "source": [
    "**Obs**: Como não se mostrou uma distribuição normal, temos 688 registros atípicos p/ 'score' utilizando método Turkey (IQR)\n",
    "\n",
    "**Conclusão**: Podemos ver valores (outlier) p/ variável 'score', na população que removeu as linhas c/ valores ausentes, tivemos menos incidência de valores atípicos (outlier).\n",
    "\n",
    "> Temos uma assimetria positiva, extremidade da esquerda tem maior concentração de dados."
   ]
  },
  {
   "cell_type": "code",
   "execution_count": 1442,
   "metadata": {},
   "outputs": [
    {
     "data": {
      "text/plain": [
       "score    Axes(0.125,0.11;0.775x0.77)\n",
       "dtype: object"
      ]
     },
     "execution_count": 1442,
     "metadata": {},
     "output_type": "execute_result"
    },
    {
     "data": {
      "image/png": "[encoded data removed]",
      "text/plain": [
       "<Figure size 640x480 with 1 Axes>"
      ]
     },
     "metadata": {},
     "output_type": "display_data"
    }
   ],
   "source": [
    "df_netflix_filled.plot.box(column=['score'], by=['exclusive'])"
   ]
  },
  {
   "cell_type": "markdown",
   "metadata": {},
   "source": [
    "### Outlier (days_top_10)"
   ]
  },
  {
   "cell_type": "code",
   "execution_count": 1443,
   "metadata": {},
   "outputs": [
    {
     "name": "stderr",
     "output_type": "stream",
     "text": [
      "d:\\workspace\\rocketseat\\desenvolvendo-ai\\ia-challenge-eda\\lib\\site-packages\\IPython\\core\\displayhook.py:281: UserWarning: Output cache limit (currently 1000 entries) hit.\n",
      "Flushing oldest 200 entries.\n",
      "  warn('Output cache limit (currently {sz} entries) hit.\\n'\n"
     ]
    },
    {
     "data": {
      "text/plain": [
       "<Axes: >"
      ]
     },
     "execution_count": 1443,
     "metadata": {},
     "output_type": "execute_result"
    },
    {
     "data": {
      "image/png": "[encoded data removed]",
      "text/plain": [
       "<Figure size 640x480 with 1 Axes>"
      ]
     },
     "metadata": {},
     "output_type": "display_data"
    }
   ],
   "source": [
    "df_netflix.days_top_10.plot.box()"
   ]
  },
  {
   "cell_type": "code",
   "execution_count": 1444,
   "metadata": {},
   "outputs": [
    {
     "data": {
      "text/plain": [
       "<Axes: >"
      ]
     },
     "execution_count": 1444,
     "metadata": {},
     "output_type": "execute_result"
    },
    {
     "data": {
      "image/png": "[encoded data removed]",
      "text/plain": [
       "<Figure size 640x480 with 1 Axes>"
      ]
     },
     "metadata": {},
     "output_type": "display_data"
    }
   ],
   "source": [
    "df_netflix_lin_rem.days_top_10.plot.box()"
   ]
  },
  {
   "cell_type": "code",
   "execution_count": 1445,
   "metadata": {},
   "outputs": [
    {
     "data": {
      "text/plain": [
       "days_top_10    Axes(0.125,0.11;0.775x0.77)\n",
       "dtype: object"
      ]
     },
     "execution_count": 1445,
     "metadata": {},
     "output_type": "execute_result"
    },
    {
     "data": {
      "image/png": "[encoded data removed]",
      "text/plain": [
       "<Figure size 640x480 with 1 Axes>"
      ]
     },
     "metadata": {},
     "output_type": "display_data"
    }
   ],
   "source": [
    "df_netflix_lin_rem.plot.box(column=['days_top_10'], by=['type'])"
   ]
  },
  {
   "cell_type": "code",
   "execution_count": 1446,
   "metadata": {},
   "outputs": [
    {
     "data": {
      "text/plain": [
       "<Axes: >"
      ]
     },
     "execution_count": 1446,
     "metadata": {},
     "output_type": "execute_result"
    },
    {
     "data": {
      "image/png": "[encoded data removed]",
      "text/plain": [
       "<Figure size 640x480 with 1 Axes>"
      ]
     },
     "metadata": {},
     "output_type": "display_data"
    }
   ],
   "source": [
    "df_netflix_tvshow_movie.days_top_10.hist()"
   ]
  },
  {
   "cell_type": "code",
   "execution_count": 1447,
   "metadata": {},
   "outputs": [
    {
     "data": {
      "text/html": [
       "<div>\n",
       "<style scoped>\n",
       "    .dataframe tbody tr th:only-of-type {\n",
       "        vertical-align: middle;\n",
       "    }\n",
       "\n",
       "    .dataframe tbody tr th {\n",
       "        vertical-align: top;\n",
       "    }\n",
       "\n",
       "    .dataframe thead th {\n",
       "        text-align: right;\n",
       "    }\n",
       "</style>\n",
       "<table border=\"1\" class=\"dataframe\">\n",
       "  <thead>\n",
       "    <tr style=\"text-align: right;\">\n",
       "      <th></th>\n",
       "      <th>as_of</th>\n",
       "      <th>ranked</th>\n",
       "      <th>year_rank</th>\n",
       "      <th>week_rank</th>\n",
       "      <th>title</th>\n",
       "      <th>type</th>\n",
       "      <th>exclusive</th>\n",
       "      <th>release_date</th>\n",
       "      <th>days_top_10</th>\n",
       "      <th>score</th>\n",
       "    </tr>\n",
       "  </thead>\n",
       "  <tbody>\n",
       "    <tr>\n",
       "      <th>438</th>\n",
       "      <td>2020-05-14</td>\n",
       "      <td>9</td>\n",
       "      <td>9</td>\n",
       "      <td>-</td>\n",
       "      <td>Ozark</td>\n",
       "      <td>TV Show</td>\n",
       "      <td>Yes</td>\n",
       "      <td>2017-07-21</td>\n",
       "      <td>41</td>\n",
       "      <td>256</td>\n",
       "    </tr>\n",
       "    <tr>\n",
       "      <th>447</th>\n",
       "      <td>2020-05-15</td>\n",
       "      <td>8</td>\n",
       "      <td>9</td>\n",
       "      <td>10</td>\n",
       "      <td>Ozark</td>\n",
       "      <td>TV Show</td>\n",
       "      <td>Yes</td>\n",
       "      <td>2017-07-21</td>\n",
       "      <td>42</td>\n",
       "      <td>259</td>\n",
       "    </tr>\n",
       "    <tr>\n",
       "      <th>458</th>\n",
       "      <td>2020-05-16</td>\n",
       "      <td>9</td>\n",
       "      <td>8</td>\n",
       "      <td>-</td>\n",
       "      <td>Ozark</td>\n",
       "      <td>TV Show</td>\n",
       "      <td>Yes</td>\n",
       "      <td>2017-07-21</td>\n",
       "      <td>43</td>\n",
       "      <td>261</td>\n",
       "    </tr>\n",
       "    <tr>\n",
       "      <th>489</th>\n",
       "      <td>2020-05-19</td>\n",
       "      <td>10</td>\n",
       "      <td>-</td>\n",
       "      <td>7</td>\n",
       "      <td>Ozark</td>\n",
       "      <td>TV Show</td>\n",
       "      <td>Yes</td>\n",
       "      <td>2017-07-21</td>\n",
       "      <td>44</td>\n",
       "      <td>262</td>\n",
       "    </tr>\n",
       "    <tr>\n",
       "      <th>629</th>\n",
       "      <td>2020-06-02</td>\n",
       "      <td>10</td>\n",
       "      <td>-</td>\n",
       "      <td>-</td>\n",
       "      <td>Outer Banks</td>\n",
       "      <td>TV Show</td>\n",
       "      <td>Yes</td>\n",
       "      <td>2020-04-15</td>\n",
       "      <td>41</td>\n",
       "      <td>291</td>\n",
       "    </tr>\n",
       "    <tr>\n",
       "      <th>...</th>\n",
       "      <td>...</td>\n",
       "      <td>...</td>\n",
       "      <td>...</td>\n",
       "      <td>...</td>\n",
       "      <td>...</td>\n",
       "      <td>...</td>\n",
       "      <td>...</td>\n",
       "      <td>...</td>\n",
       "      <td>...</td>\n",
       "      <td>...</td>\n",
       "    </tr>\n",
       "    <tr>\n",
       "      <th>7053</th>\n",
       "      <td>2022-03-07</td>\n",
       "      <td>4</td>\n",
       "      <td>3</td>\n",
       "      <td>4</td>\n",
       "      <td>Love is Blind</td>\n",
       "      <td>TV Show</td>\n",
       "      <td>Yes</td>\n",
       "      <td>2020-02-13</td>\n",
       "      <td>42</td>\n",
       "      <td>288</td>\n",
       "    </tr>\n",
       "    <tr>\n",
       "      <th>7063</th>\n",
       "      <td>2022-03-08</td>\n",
       "      <td>4</td>\n",
       "      <td>4</td>\n",
       "      <td>4</td>\n",
       "      <td>Love is Blind</td>\n",
       "      <td>TV Show</td>\n",
       "      <td>Yes</td>\n",
       "      <td>2020-02-13</td>\n",
       "      <td>43</td>\n",
       "      <td>295</td>\n",
       "    </tr>\n",
       "    <tr>\n",
       "      <th>7074</th>\n",
       "      <td>2022-03-09</td>\n",
       "      <td>5</td>\n",
       "      <td>4</td>\n",
       "      <td>5</td>\n",
       "      <td>Love is Blind</td>\n",
       "      <td>TV Show</td>\n",
       "      <td>Yes</td>\n",
       "      <td>2020-02-13</td>\n",
       "      <td>44</td>\n",
       "      <td>301</td>\n",
       "    </tr>\n",
       "    <tr>\n",
       "      <th>7085</th>\n",
       "      <td>2022-03-10</td>\n",
       "      <td>6</td>\n",
       "      <td>5</td>\n",
       "      <td>5</td>\n",
       "      <td>Love is Blind</td>\n",
       "      <td>TV Show</td>\n",
       "      <td>Yes</td>\n",
       "      <td>2020-02-13</td>\n",
       "      <td>45</td>\n",
       "      <td>306</td>\n",
       "    </tr>\n",
       "    <tr>\n",
       "      <th>7094</th>\n",
       "      <td>2022-03-11</td>\n",
       "      <td>5</td>\n",
       "      <td>6</td>\n",
       "      <td>6</td>\n",
       "      <td>Love is Blind</td>\n",
       "      <td>TV Show</td>\n",
       "      <td>Yes</td>\n",
       "      <td>2020-02-13</td>\n",
       "      <td>46</td>\n",
       "      <td>312</td>\n",
       "    </tr>\n",
       "  </tbody>\n",
       "</table>\n",
       "<p>743 rows × 10 columns</p>\n",
       "</div>"
      ],
      "text/plain": [
       "          as_of  ranked year_rank week_rank          title     type exclusive  \\\n",
       "438  2020-05-14       9         9         -          Ozark  TV Show       Yes   \n",
       "447  2020-05-15       8         9        10          Ozark  TV Show       Yes   \n",
       "458  2020-05-16       9         8         -          Ozark  TV Show       Yes   \n",
       "489  2020-05-19      10         -         7          Ozark  TV Show       Yes   \n",
       "629  2020-06-02      10         -         -    Outer Banks  TV Show       Yes   \n",
       "...         ...     ...       ...       ...            ...      ...       ...   \n",
       "7053 2022-03-07       4         3         4  Love is Blind  TV Show       Yes   \n",
       "7063 2022-03-08       4         4         4  Love is Blind  TV Show       Yes   \n",
       "7074 2022-03-09       5         4         5  Love is Blind  TV Show       Yes   \n",
       "7085 2022-03-10       6         5         5  Love is Blind  TV Show       Yes   \n",
       "7094 2022-03-11       5         6         6  Love is Blind  TV Show       Yes   \n",
       "\n",
       "     release_date  days_top_10  score  \n",
       "438    2017-07-21           41    256  \n",
       "447    2017-07-21           42    259  \n",
       "458    2017-07-21           43    261  \n",
       "489    2017-07-21           44    262  \n",
       "629    2020-04-15           41    291  \n",
       "...           ...          ...    ...  \n",
       "7053   2020-02-13           42    288  \n",
       "7063   2020-02-13           43    295  \n",
       "7074   2020-02-13           44    301  \n",
       "7085   2020-02-13           45    306  \n",
       "7094   2020-02-13           46    312  \n",
       "\n",
       "[743 rows x 10 columns]"
      ]
     },
     "execution_count": 1447,
     "metadata": {},
     "output_type": "execute_result"
    }
   ],
   "source": [
    "iqr(df_netflix_tvshow_movie, 'days_top_10')"
   ]
  },
  {
   "cell_type": "markdown",
   "metadata": {},
   "source": [
    "**Obs**: Como não observamos uma distribuição normal, temos 743 registros atípicos utilizando o método Turkey(IQR).\n",
    "\n",
    "**Conclusão**: Podemos ver valores (outlier) p/ variável 'days_top_10', na população que removeu as linhas c/ valores ausentes, tivemos menos incidência de valores atípicos (outlier).\n",
    "\n",
    "> Temos uma assimetria positiva, extremidade da direita temos uma calda."
   ]
  },
  {
   "cell_type": "code",
   "execution_count": 1448,
   "metadata": {},
   "outputs": [
    {
     "data": {
      "text/plain": [
       "days_top_10    Axes(0.125,0.11;0.775x0.77)\n",
       "dtype: object"
      ]
     },
     "execution_count": 1448,
     "metadata": {},
     "output_type": "execute_result"
    },
    {
     "data": {
      "image/png": "[encoded data removed]",
      "text/plain": [
       "<Figure size 640x480 with 1 Axes>"
      ]
     },
     "metadata": {},
     "output_type": "display_data"
    }
   ],
   "source": [
    "df_netflix_filled.plot.box(column=['days_top_10'], by=['exclusive'])"
   ]
  },
  {
   "cell_type": "markdown",
   "metadata": {},
   "source": [
    "### Outlier (ranked)"
   ]
  },
  {
   "cell_type": "code",
   "execution_count": 1449,
   "metadata": {},
   "outputs": [
    {
     "data": {
      "text/plain": [
       "<Axes: >"
      ]
     },
     "execution_count": 1449,
     "metadata": {},
     "output_type": "execute_result"
    },
    {
     "data": {
      "image/png": "[encoded data removed]",
      "text/plain": [
       "<Figure size 640x480 with 1 Axes>"
      ]
     },
     "metadata": {},
     "output_type": "display_data"
    }
   ],
   "source": [
    "df_netflix.ranked.plot.box()"
   ]
  },
  {
   "cell_type": "code",
   "execution_count": 1450,
   "metadata": {},
   "outputs": [
    {
     "data": {
      "text/plain": [
       "<Axes: >"
      ]
     },
     "execution_count": 1450,
     "metadata": {},
     "output_type": "execute_result"
    },
    {
     "data": {
      "image/png": "[encoded data removed]",
      "text/plain": [
       "<Figure size 640x480 with 1 Axes>"
      ]
     },
     "metadata": {},
     "output_type": "display_data"
    }
   ],
   "source": [
    "df_netflix_lin_rem.ranked.plot.box()"
   ]
  },
  {
   "cell_type": "code",
   "execution_count": 1451,
   "metadata": {},
   "outputs": [
    {
     "data": {
      "text/plain": [
       "ranked    Axes(0.125,0.11;0.775x0.77)\n",
       "dtype: object"
      ]
     },
     "execution_count": 1451,
     "metadata": {},
     "output_type": "execute_result"
    },
    {
     "data": {
      "image/png": "[encoded data removed]",
      "text/plain": [
       "<Figure size 640x480 with 1 Axes>"
      ]
     },
     "metadata": {},
     "output_type": "display_data"
    }
   ],
   "source": [
    "df_netflix_lin_rem.plot.box(column=['ranked'], by='type')"
   ]
  },
  {
   "cell_type": "code",
   "execution_count": 1452,
   "metadata": {},
   "outputs": [
    {
     "data": {
      "text/plain": [
       "ranked    Axes(0.125,0.11;0.775x0.77)\n",
       "dtype: object"
      ]
     },
     "execution_count": 1452,
     "metadata": {},
     "output_type": "execute_result"
    },
    {
     "data": {
      "image/png": "[encoded data removed]",
      "text/plain": [
       "<Figure size 640x480 with 1 Axes>"
      ]
     },
     "metadata": {},
     "output_type": "display_data"
    }
   ],
   "source": [
    "df_netflix_filled.plot.box(column=['ranked'], by=['exclusive'])"
   ]
  },
  {
   "cell_type": "code",
   "execution_count": 1453,
   "metadata": {},
   "outputs": [
    {
     "data": {
      "text/plain": [
       "ranked    Axes(0.125,0.11;0.775x0.77)\n",
       "dtype: object"
      ]
     },
     "execution_count": 1453,
     "metadata": {},
     "output_type": "execute_result"
    },
    {
     "data": {
      "image/png": "[encoded data removed]",
      "text/plain": [
       "<Figure size 640x480 with 1 Axes>"
      ]
     },
     "metadata": {},
     "output_type": "display_data"
    }
   ],
   "source": [
    "df_netflix_lin_rem.plot.box(column=['ranked'], by=['year_rank'])"
   ]
  },
  {
   "cell_type": "code",
   "execution_count": 1454,
   "metadata": {},
   "outputs": [
    {
     "data": {
      "text/plain": [
       "ranked    Axes(0.125,0.11;0.775x0.77)\n",
       "dtype: object"
      ]
     },
     "execution_count": 1454,
     "metadata": {},
     "output_type": "execute_result"
    },
    {
     "data": {
      "image/png": "[encoded data removed]",
      "text/plain": [
       "<Figure size 640x480 with 1 Axes>"
      ]
     },
     "metadata": {},
     "output_type": "display_data"
    }
   ],
   "source": [
    "df_netflix_lin_rem.plot.box(column=['ranked'], by=['week_rank'])"
   ]
  },
  {
   "cell_type": "code",
   "execution_count": 1455,
   "metadata": {},
   "outputs": [
    {
     "data": {
      "text/plain": [
       "<Axes: ylabel='Frequency'>"
      ]
     },
     "execution_count": 1455,
     "metadata": {},
     "output_type": "execute_result"
    },
    {
     "data": {
      "image/png": "[encoded data removed]",
      "text/plain": [
       "<Figure size 640x480 with 1 Axes>"
      ]
     },
     "metadata": {},
     "output_type": "display_data"
    }
   ],
   "source": [
    "df_netflix_lin_rem.ranked.plot.hist()"
   ]
  },
  {
   "cell_type": "code",
   "execution_count": 1456,
   "metadata": {},
   "outputs": [
    {
     "data": {
      "text/html": [
       "<div>\n",
       "<style scoped>\n",
       "    .dataframe tbody tr th:only-of-type {\n",
       "        vertical-align: middle;\n",
       "    }\n",
       "\n",
       "    .dataframe tbody tr th {\n",
       "        vertical-align: top;\n",
       "    }\n",
       "\n",
       "    .dataframe thead th {\n",
       "        text-align: right;\n",
       "    }\n",
       "</style>\n",
       "<table border=\"1\" class=\"dataframe\">\n",
       "  <thead>\n",
       "    <tr style=\"text-align: right;\">\n",
       "      <th></th>\n",
       "      <th>as_of</th>\n",
       "      <th>ranked</th>\n",
       "      <th>year_rank</th>\n",
       "      <th>week_rank</th>\n",
       "      <th>title</th>\n",
       "      <th>type</th>\n",
       "      <th>exclusive</th>\n",
       "      <th>release_date</th>\n",
       "      <th>days_top_10</th>\n",
       "      <th>score</th>\n",
       "    </tr>\n",
       "  </thead>\n",
       "  <tbody>\n",
       "  </tbody>\n",
       "</table>\n",
       "</div>"
      ],
      "text/plain": [
       "Empty DataFrame\n",
       "Columns: [as_of, ranked, year_rank, week_rank, title, type, exclusive, release_date, days_top_10, score]\n",
       "Index: []"
      ]
     },
     "execution_count": 1456,
     "metadata": {},
     "output_type": "execute_result"
    }
   ],
   "source": [
    "df_aux = df_netflix_lin_rem[(df_netflix_lin_rem.year_rank.str.contains('1|2|3|4|5|6|7|8|9|10', regex=True))]\n",
    "iqr(df_aux, 'ranked')"
   ]
  },
  {
   "cell_type": "code",
   "execution_count": 1457,
   "metadata": {},
   "outputs": [
    {
     "data": {
      "text/html": [
       "<div>\n",
       "<style scoped>\n",
       "    .dataframe tbody tr th:only-of-type {\n",
       "        vertical-align: middle;\n",
       "    }\n",
       "\n",
       "    .dataframe tbody tr th {\n",
       "        vertical-align: top;\n",
       "    }\n",
       "\n",
       "    .dataframe thead th {\n",
       "        text-align: right;\n",
       "    }\n",
       "</style>\n",
       "<table border=\"1\" class=\"dataframe\">\n",
       "  <thead>\n",
       "    <tr style=\"text-align: right;\">\n",
       "      <th></th>\n",
       "      <th>as_of</th>\n",
       "      <th>ranked</th>\n",
       "      <th>year_rank</th>\n",
       "      <th>week_rank</th>\n",
       "      <th>title</th>\n",
       "      <th>type</th>\n",
       "      <th>exclusive</th>\n",
       "      <th>release_date</th>\n",
       "      <th>days_top_10</th>\n",
       "      <th>score</th>\n",
       "    </tr>\n",
       "  </thead>\n",
       "  <tbody>\n",
       "  </tbody>\n",
       "</table>\n",
       "</div>"
      ],
      "text/plain": [
       "Empty DataFrame\n",
       "Columns: [as_of, ranked, year_rank, week_rank, title, type, exclusive, release_date, days_top_10, score]\n",
       "Index: []"
      ]
     },
     "execution_count": 1457,
     "metadata": {},
     "output_type": "execute_result"
    }
   ],
   "source": [
    "df_aux = df_netflix_lin_rem[(df_netflix_lin_rem.week_rank.str.contains('1|5|6|7|8|10', regex=True))]\n",
    "iqr(df_aux, 'ranked')"
   ]
  },
  {
   "cell_type": "markdown",
   "metadata": {},
   "source": [
    "**Obs**: Como não é uma distribuição normal pelo método Turkey (IQR) não apresentou registros atípicos p/ 'ranked'. Foi utilizado os dados filtrados por 'year_rank' e 'week_rank', onde pelo gráfico de BoxPlot foi possível verificar valores fora dos limites.\n",
    "\n",
    "**Conclusão**: Não temos outliers para os valores em 'ranked'."
   ]
  },
  {
   "cell_type": "code",
   "execution_count": 1458,
   "metadata": {},
   "outputs": [
    {
     "data": {
      "text/plain": [
       "(126, 21, 36, 64, 4, 7, 6, 5, 2, 4)"
      ]
     },
     "execution_count": 1458,
     "metadata": {},
     "output_type": "execute_result"
    }
   ],
   "source": [
    "len(iqr(df_netflix_lin_rem[(df_netflix_lin_rem.year_rank == '1')], 'ranked')), \\\n",
    "len(iqr(df_netflix_lin_rem[(df_netflix_lin_rem.year_rank == '2')], 'ranked')), \\\n",
    "len(iqr(df_netflix_lin_rem[(df_netflix_lin_rem.year_rank == '3')], 'ranked')), \\\n",
    "len(iqr(df_netflix_lin_rem[(df_netflix_lin_rem.year_rank == '4')], 'ranked')), \\\n",
    "len(iqr(df_netflix_lin_rem[(df_netflix_lin_rem.year_rank == '5')], 'ranked')), \\\n",
    "len(iqr(df_netflix_lin_rem[(df_netflix_lin_rem.year_rank == '6')], 'ranked')), \\\n",
    "len(iqr(df_netflix_lin_rem[(df_netflix_lin_rem.year_rank == '7')], 'ranked')), \\\n",
    "len(iqr(df_netflix_lin_rem[(df_netflix_lin_rem.year_rank == '8')], 'ranked')), \\\n",
    "len(iqr(df_netflix_lin_rem[(df_netflix_lin_rem.year_rank == '9')], 'ranked')), \\\n",
    "len(iqr(df_netflix_lin_rem[(df_netflix_lin_rem.year_rank == '10')], 'ranked'))"
   ]
  },
  {
   "cell_type": "code",
   "execution_count": 1459,
   "metadata": {},
   "outputs": [
    {
     "data": {
      "text/plain": [
       "(8, 4, 2, 2, 3, 3)"
      ]
     },
     "execution_count": 1459,
     "metadata": {},
     "output_type": "execute_result"
    }
   ],
   "source": [
    "len(iqr(df_netflix_lin_rem[(df_netflix_lin_rem.week_rank == '1')], 'ranked')), \\\n",
    "len(iqr(df_netflix_lin_rem[(df_netflix_lin_rem.week_rank == '5')], 'ranked')), \\\n",
    "len(iqr(df_netflix_lin_rem[(df_netflix_lin_rem.week_rank == '6')], 'ranked')), \\\n",
    "len(iqr(df_netflix_lin_rem[(df_netflix_lin_rem.week_rank == '7')], 'ranked')), \\\n",
    "len(iqr(df_netflix_lin_rem[(df_netflix_lin_rem.week_rank == '8')], 'ranked')), \\\n",
    "len(iqr(df_netflix_lin_rem[(df_netflix_lin_rem.week_rank == '10')], 'ranked'))"
   ]
  },
  {
   "cell_type": "markdown",
   "metadata": {},
   "source": [
    "> Olhando separadamente podemos visualizar os registros atípicos para cada 'year_rank' ou 'week_rank'."
   ]
  }
 ],
 "metadata": {
  "kernelspec": {
   "display_name": "ia-challenge-eda",
   "language": "python",
   "name": "python3"
  },
  "language_info": {
   "codemirror_mode": {
    "name": "ipython",
    "version": 3
   },
   "file_extension": ".py",
   "mimetype": "text/x-python",
   "name": "python",
   "nbconvert_exporter": "python",
   "pygments_lexer": "ipython3",
   "version": "3.10.5"
  }
 },
 "nbformat": 4,
 "nbformat_minor": 2
}
